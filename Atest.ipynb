{
 "cells": [
  {
   "cell_type": "code",
   "execution_count": 2,
   "metadata": {},
   "outputs": [],
   "source": [
    "from gammapy.cube.fit import MapDatasetOnOff\n",
    "from gammapy.maps import WcsNDMap"
   ]
  },
  {
   "cell_type": "code",
   "execution_count": 3,
   "metadata": {},
   "outputs": [
    {
     "name": "stderr",
     "output_type": "stream",
     "text": [
      "Invalid value BUNIT='Count' in FITS header. Setting empty unit.\n",
      "Invalid value BUNIT='Count' in FITS header. Setting empty unit.\n",
      "Invalid value BUNIT='Count' in FITS header. Setting empty unit.\n",
      "Invalid value BUNIT='Count' in FITS header. Setting empty unit.\n",
      "Invalid value BUNIT='Count' in FITS header. Setting empty unit.\n"
     ]
    }
   ],
   "source": [
    "filename = \"$GAMMAPY_DATA/tests/unbundled/hess/survey/hess_survey_snippet.fits.gz\"\n",
    "\n",
    "images = {}\n",
    "images.update({\"counts\": WcsNDMap.read(filename, hdu=\"ON\")})\n",
    "images.update({\"counts_off\": WcsNDMap.read(filename, hdu=\"OFF\")})\n",
    "images.update({\"acceptance\": WcsNDMap.read(filename, hdu=\"ONEXPOSURE\")})\n",
    "images.update({\"acceptance_off\": WcsNDMap.read(filename, hdu=\"OFFEXPOSURE\")})\n",
    "images.update({\"exposure\": WcsNDMap.read(filename, hdu=\"EXPGAMMAMAP\")})"
   ]
  },
  {
   "cell_type": "code",
   "execution_count": 4,
   "metadata": {},
   "outputs": [],
   "source": [
    "dataset = MapDatasetOnOff(\n",
    "        model=None,\n",
    "        counts=images[\"counts\"],\n",
    "        counts_off=images[\"counts_off\"],\n",
    "        acceptance=images[\"acceptance\"],\n",
    "        acceptance_off=images[\"acceptance_off\"],\n",
    "        exposure=images[\"exposure\"],\n",
    "        psf=None,\n",
    "        edisp=None,\n",
    "        mask_fit=None,\n",
    "        mask_safe=None,\n",
    "    )"
   ]
  },
  {
   "cell_type": "code",
   "execution_count": null,
   "metadata": {},
   "outputs": [],
   "source": []
  }
 ],
 "metadata": {
  "kernelspec": {
   "display_name": "Python 3",
   "language": "python",
   "name": "python3"
  },
  "language_info": {
   "codemirror_mode": {
    "name": "ipython",
    "version": 3
   },
   "file_extension": ".py",
   "mimetype": "text/x-python",
   "name": "python",
   "nbconvert_exporter": "python",
   "pygments_lexer": "ipython3",
   "version": "3.7.0"
  }
 },
 "nbformat": 4,
 "nbformat_minor": 4
}
