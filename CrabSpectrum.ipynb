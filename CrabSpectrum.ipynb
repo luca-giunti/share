{
 "cells": [
  {
   "cell_type": "markdown",
   "metadata": {},
   "source": [
    "The purpose of this notebook is showing that the new NaimaModel class provides sensible fitting results. The fit performed in the [ joint-crab/4_naima.ipynb](https://github.com/open-gamma-ray-astro/joint-crab/blob/master/4_naima.ipynb) notebook is reproduced, with identical results"
   ]
  },
  {
   "cell_type": "code",
   "execution_count": 13,
   "metadata": {},
   "outputs": [],
   "source": [
    "from gammapy.spectrum import SpectrumObservationList, SpectrumFit\n",
    "from gammapy.spectrum.models import NaimaModel\n",
    "import astropy.units as u\n",
    "import numpy as np\n",
    "import matplotlib.pyplot as plt\n",
    "from naima import models, radiative"
   ]
  },
  {
   "cell_type": "markdown",
   "metadata": {},
   "source": [
    "## Model definition"
   ]
  },
  {
   "cell_type": "code",
   "execution_count": 14,
   "metadata": {},
   "outputs": [],
   "source": [
    "particle_parameters={'amplitude' : 1e34 / u.eV, 'e_0' : 3 * u.TeV, 'alpha' : 2.7, 'e_cutoff' : 10 * u.TeV}\n",
    "particle_distribution = models.ExponentialCutoffPowerLaw(**particle_parameters)\n",
    "\n",
    "radiative_model = radiative.InverseCompton(\n",
    "            particle_distribution,\n",
    "            seed_photon_fields=[\"CMB\"],\n",
    "            Eemin=100 * u.GeV,\n",
    ")\n",
    "\n",
    "model = NaimaModel(radiative_model)"
   ]
  },
  {
   "cell_type": "markdown",
   "metadata": {},
   "source": [
    "Freeze some parameters before fitting:"
   ]
  },
  {
   "cell_type": "code",
   "execution_count": 15,
   "metadata": {},
   "outputs": [],
   "source": [
    "model.e_0.frozen = True\n",
    "model.beta.frozen = True"
   ]
  },
  {
   "cell_type": "code",
   "execution_count": 16,
   "metadata": {},
   "outputs": [
    {
     "data": {
      "text/plain": [
       "[Parameter(name='amplitude', value=1e+34, factor=1e+34, scale=1.0, unit='eV-1', min=nan, max=nan, frozen=False),\n",
       " Parameter(name='e_0', value=3.0, factor=3.0, scale=1.0, unit='TeV', min=nan, max=nan, frozen=True),\n",
       " Parameter(name='alpha', value=2.7, factor=2.7, scale=1.0, unit='', min=nan, max=nan, frozen=False),\n",
       " Parameter(name='e_cutoff', value=10.0, factor=10.0, scale=1.0, unit='TeV', min=nan, max=nan, frozen=False),\n",
       " Parameter(name='beta', value=1.0, factor=1.0, scale=1.0, unit='', min=nan, max=nan, frozen=True)]"
      ]
     },
     "execution_count": 16,
     "metadata": {},
     "output_type": "execute_result"
    }
   ],
   "source": [
    "model.parameters.parameters"
   ]
  },
  {
   "cell_type": "markdown",
   "metadata": {},
   "source": [
    "## Load the data "
   ]
  },
  {
   "cell_type": "code",
   "execution_count": 5,
   "metadata": {},
   "outputs": [
    {
     "name": "stdout",
     "output_type": "stream",
     "text": [
      "Number of SpectrumObservation: 10\n"
     ]
    }
   ],
   "source": [
    "from joint_crab.conf import config\n",
    "dataset = config.datasets[\"joint\"]\n",
    "obs_list = dataset.get_SpectrumObservationList()\n",
    "print(f\"Number of SpectrumObservation: {len(obs_list)}\")"
   ]
  },
  {
   "cell_type": "markdown",
   "metadata": {},
   "source": [
    "## Fit"
   ]
  },
  {
   "cell_type": "code",
   "execution_count": 6,
   "metadata": {},
   "outputs": [],
   "source": [
    "fit = SpectrumFit(obs_list=obs_list, model=model, fit_range=dataset.energy_range, stat='wstat')\n",
    "result = fit.run()"
   ]
  },
  {
   "cell_type": "code",
   "execution_count": 7,
   "metadata": {},
   "outputs": [
    {
     "name": "stdout",
     "output_type": "stream",
     "text": [
      "OptimizeResult\n",
      "\n",
      "\tbackend    : minuit\n",
      "\tmethod     : minuit\n",
      "\tsuccess    : True\n",
      "\tnfev       : 187\n",
      "\ttotal stat : 460.27\n",
      "\tmessage    : Optimization terminated successfully.\n",
      "\n"
     ]
    }
   ],
   "source": [
    "print(result)"
   ]
  },
  {
   "cell_type": "code",
   "execution_count": 8,
   "metadata": {},
   "outputs": [
    {
     "name": "stdout",
     "output_type": "stream",
     "text": [
      "\n",
      "Fit result info \n",
      "--------------- \n",
      "Model: NaimaModel\n",
      "\n",
      "Parameters: \n",
      "\n",
      "\t   name     value     error   unit min max frozen\n",
      "\t--------- --------- --------- ---- --- --- ------\n",
      "\tamplitude 3.026e+34 1.228e+33 eV-1 nan nan  False\n",
      "\t      e_0 3.000e+00 0.000e+00  TeV nan nan   True\n",
      "\t    alpha 2.859e+00 9.627e-02      nan nan  False\n",
      "\t e_cutoff 1.757e+01 2.869e+00  TeV nan nan  False\n",
      "\t     beta 1.000e+00 0.000e+00      nan nan   True\n",
      "\n",
      "Covariance: \n",
      "\n",
      "\t   name   amplitude     e_0      alpha    e_cutoff     beta  \n",
      "\t--------- ---------- --------- --------- ---------- ---------\n",
      "\tamplitude  1.508e+66 0.000e+00 2.111e+30 -9.380e+32 0.000e+00\n",
      "\t      e_0  0.000e+00 0.000e+00 0.000e+00  0.000e+00 0.000e+00\n",
      "\t    alpha  2.111e+30 0.000e+00 9.269e-03  2.599e-01 0.000e+00\n",
      "\t e_cutoff -9.380e+32 0.000e+00 2.599e-01  8.228e+00 0.000e+00\n",
      "\t     beta  0.000e+00 0.000e+00 0.000e+00  0.000e+00 0.000e+00 \n",
      "\n",
      "Statistic: 33.454 (wstat)\n",
      "Fit Range: [3.16227766e+07 1.99526231e+09] keV\n",
      "\n"
     ]
    }
   ],
   "source": [
    "print(fit.result[0])"
   ]
  },
  {
   "cell_type": "code",
   "execution_count": 10,
   "metadata": {},
   "outputs": [
    {
     "data": {
      "text/latex": [
       "$9.0286504 \\times 10^{48} \\; \\mathrm{erg}$"
      ],
      "text/plain": [
       "<Quantity 9.02865044e+48 erg>"
      ]
     },
     "execution_count": 10,
     "metadata": {},
     "output_type": "execute_result"
    }
   ],
   "source": [
    "model.compute_W()"
   ]
  }
 ],
 "metadata": {
  "kernelspec": {
   "display_name": "Python 3",
   "language": "python",
   "name": "python3"
  },
  "language_info": {
   "codemirror_mode": {
    "name": "ipython",
    "version": 3
   },
   "file_extension": ".py",
   "mimetype": "text/x-python",
   "name": "python",
   "nbconvert_exporter": "python",
   "pygments_lexer": "ipython3",
   "version": "3.7.0"
  }
 },
 "nbformat": 4,
 "nbformat_minor": 2
}
