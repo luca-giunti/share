{
 "cells": [
  {
   "cell_type": "code",
   "execution_count": null,
   "metadata": {},
   "outputs": [],
   "source": []
  },
  {
   "cell_type": "markdown",
   "metadata": {},
   "source": [
    "# 3D Simulation and fitting using physical spectral models and HESS test data release IRFs"
   ]
  },
  {
   "cell_type": "markdown",
   "metadata": {},
   "source": [
    "This notebooks simulates datasets assuming spectral-cutoff power law distributions of protons, and fits with both pl and ecpl. It stores the results, so that the analysis can be done elsewhere."
   ]
  },
  {
   "cell_type": "code",
   "execution_count": 1,
   "metadata": {},
   "outputs": [],
   "source": [
    "%matplotlib inline\n",
    "import matplotlib.pyplot as plt"
   ]
  },
  {
   "cell_type": "code",
   "execution_count": 2,
   "metadata": {},
   "outputs": [],
   "source": [
    "import numpy as np\n",
    "import astropy.units as u\n",
    "from astropy.coordinates import Angle, SkyCoord\n",
    "import naima\n",
    "import itertools\n",
    "from scipy.optimize import fsolve\n",
    "from pathlib import Path\n",
    "from regions import CircleSkyRegion\n",
    "import multiprocessing\n",
    "from joblib import Parallel, delayed"
   ]
  },
  {
   "cell_type": "code",
   "execution_count": 3,
   "metadata": {},
   "outputs": [],
   "source": [
    "from gammapy.maps import WcsGeom, MapAxis, WcsNDMap\n",
    "from gammapy.spectrum.models import PowerLaw, ExponentialCutoffPowerLaw, NaimaModel\n",
    "from gammapy.image.models import SkyGaussian, SkyPointSource\n",
    "from gammapy.cube.models import SkyModel, BackgroundModel\n",
    "from gammapy.cube import MapMaker, MapDataset, PSFKernel, MapMakerRing\n",
    "from gammapy.cube import make_map_exposure_true_energy, make_map_background_irf\n",
    "from gammapy.utils.fitting import Fit\n",
    "from gammapy.data import FixedPointingInfo\n",
    "from gammapy.spectrum import FluxPointsEstimator\n",
    "from gammapy.data import DataStore\n",
    "from gammapy.irf import make_mean_psf, make_mean_edisp"
   ]
  },
  {
   "cell_type": "markdown",
   "metadata": {},
   "source": [
    "## HESS IRFs and observation parameters"
   ]
  },
  {
   "cell_type": "code",
   "execution_count": 9,
   "metadata": {},
   "outputs": [],
   "source": [
    "data_store = DataStore.from_file(\n",
    "    \"$GAMMAPY_DATA/hess-dl3-dr1/hess-dl3-dr3-with-background.fits.gz\"\n",
    ")\n",
    "mask = data_store.obs_table[\"TARGET_NAME\"] == \"Crab\"\n",
    "obs_table = data_store.obs_table[mask]\n",
    "observations = data_store.get_observations(obs_table[\"OBS_ID\"])\n",
    "\n",
    "\n",
    "# pos_crab = SkyCoord.from_name('Crab')\n",
    "pos_crab = SkyCoord(83.633, 22.014, unit=\"deg\")"
   ]
  },
  {
   "cell_type": "code",
   "execution_count": 10,
   "metadata": {},
   "outputs": [
    {
     "data": {
      "text/plain": [
       "4"
      ]
     },
     "execution_count": 10,
     "metadata": {},
     "output_type": "execute_result"
    }
   ],
   "source": [
    "len(observations)"
   ]
  },
  {
   "cell_type": "code",
   "execution_count": 11,
   "metadata": {},
   "outputs": [],
   "source": [
    "obs = observations[0]"
   ]
  },
  {
   "cell_type": "markdown",
   "metadata": {},
   "source": [
    "## Maps, background model and IRFs"
   ]
  },
  {
   "cell_type": "code",
   "execution_count": 12,
   "metadata": {},
   "outputs": [],
   "source": [
    "aeff = obs.aeff\n",
    "psf = obs.psf\n",
    "edisp = obs.edisp\n",
    "bkg = obs.bkg\n",
    "pointing = obs.pointing_radec\n",
    "livetime = 10 * u.hour"
   ]
  },
  {
   "cell_type": "code",
   "execution_count": 13,
   "metadata": {},
   "outputs": [],
   "source": [
    "# Define a common map geometry\n",
    "axis = MapAxis.from_edges(\n",
    "    np.logspace(0, 2, 10), unit=\"TeV\", name=\"energy\", interp=\"log\"\n",
    ")\n",
    "geom = WcsGeom.create(\n",
    "    skydir=pointing, binsz=0.02, width=(3, 3), coordsys=\"GAL\", axes=[axis]\n",
    ")"
   ]
  },
  {
   "cell_type": "code",
   "execution_count": 14,
   "metadata": {},
   "outputs": [],
   "source": [
    "exposure = make_map_exposure_true_energy(\n",
    "    pointing=pointing, livetime=livetime, aeff=aeff, geom=geom\n",
    ")\n",
    "#exposure.slice_by_idx({\"energy\": 3}).plot(add_cbar=True);"
   ]
  },
  {
   "cell_type": "code",
   "execution_count": 15,
   "metadata": {},
   "outputs": [],
   "source": [
    "background = make_map_background_irf(\n",
    "    pointing=pointing, ontime=livetime, bkg=bkg, geom=geom\n",
    ")\n",
    "background_model = BackgroundModel(background)\n",
    "\n",
    "# We freeze the background model parameters\n",
    "background_model.norm.value = 1.0\n",
    "background_model.tilt.value = 0.0\n",
    "background_model.norm.frozen = True\n",
    "background_model.tilt.frozen = True\n",
    "#background.slice_by_idx({\"energy\": 3}).plot(add_cbar=True);"
   ]
  },
  {
   "cell_type": "code",
   "execution_count": 16,
   "metadata": {},
   "outputs": [
    {
     "data": {
      "image/png": "[encoded data removed]",
      "text/plain": [
       "<Figure size 432x288 with 1 Axes>"
      ]
     },
     "metadata": {
      "needs_background": "light"
     },
     "output_type": "display_data"
    }
   ],
   "source": [
    "# We'll simulate a source at the Crab position\n",
    "offset = pointing.separation(pos_crab).to(u.deg)\n",
    "\n",
    "psf = psf.to_energy_dependent_table_psf(theta=offset)\n",
    "psf_kernel = PSFKernel.from_table_psf(psf, geom, max_radius=0.5 * u.deg)\n",
    "psf_kernel.psf_kernel_map.sum_over_axes().plot(stretch=\"log\");"
   ]
  },
  {
   "cell_type": "code",
   "execution_count": 17,
   "metadata": {},
   "outputs": [],
   "source": [
    "model = SkyModel(spatial_model=SkyPointSource(lon_0=pos_crab.galactic.l, lat_0=pos_crab.galactic.b), spectral_model=PowerLaw(index=1.5))\n"
   ]
  },
  {
   "cell_type": "code",
   "execution_count": 18,
   "metadata": {},
   "outputs": [],
   "source": [
    "energy = axis.edges\n",
    "edisp = edisp.to_energy_dispersion(\n",
    "    offset, e_reco=energy, e_true=energy\n",
    ")\n",
    "#edisp.plot_matrix();"
   ]
  },
  {
   "cell_type": "code",
   "execution_count": 19,
   "metadata": {},
   "outputs": [],
   "source": [
    "model = SkyModel(spatial_model=SkyPointSource(lon_0=pos_crab.galactic.l, lat_0=pos_crab.galactic.b), spectral_model=PowerLaw(index=2.5))\n",
    "\n",
    "dataset = MapDataset(\n",
    "    model=model,\n",
    "    exposure=exposure,\n",
    "    background_model=background_model,\n",
    "    psf=psf_kernel,\n",
    "    edisp=edisp,\n",
    ")"
   ]
  },
  {
   "cell_type": "code",
   "execution_count": 20,
   "metadata": {},
   "outputs": [
    {
     "data": {
      "image/png": "[encoded data removed]",
      "text/plain": [
       "<Figure size 432x288 with 2 Axes>"
      ]
     },
     "metadata": {
      "needs_background": "light"
     },
     "output_type": "display_data"
    }
   ],
   "source": [
    "dataset.npred().slice_by_idx({'energy' : 7}).plot(vmax=0, add_cbar=True)\n",
    "np.where(dataset.npred().data<0)\n",
    "plt.savefig('psf_wrong_map.png')"
   ]
  },
  {
   "cell_type": "code",
   "execution_count": 21,
   "metadata": {},
   "outputs": [
    {
     "ename": "ValueError",
     "evalue": "lam < 0",
     "output_type": "error",
     "traceback": [
      "\u001b[0;31m---------------------------------------------------------------------------\u001b[0m",
      "\u001b[0;31mValueError\u001b[0m                                Traceback (most recent call last)",
      "\u001b[0;32m<ipython-input-21-269d031f2cd8>\u001b[0m in \u001b[0;36m<module>\u001b[0;34m\u001b[0m\n\u001b[0;32m----> 1\u001b[0;31m \u001b[0mdataset\u001b[0m\u001b[0;34m.\u001b[0m\u001b[0mfake\u001b[0m\u001b[0;34m(\u001b[0m\u001b[0;34m)\u001b[0m\u001b[0;34m\u001b[0m\u001b[0m\n\u001b[0m",
      "\u001b[0;32m~/gammapy-developement/gammapy/gammapy/cube/fit.py\u001b[0m in \u001b[0;36mfake\u001b[0;34m(self, random_state)\u001b[0m\n\u001b[1;32m    426\u001b[0m         \u001b[0mrandom_state\u001b[0m \u001b[0;34m=\u001b[0m \u001b[0mget_random_state\u001b[0m\u001b[0;34m(\u001b[0m\u001b[0mrandom_state\u001b[0m\u001b[0;34m)\u001b[0m\u001b[0;34m\u001b[0m\u001b[0m\n\u001b[1;32m    427\u001b[0m         \u001b[0mnpred\u001b[0m \u001b[0;34m=\u001b[0m \u001b[0mself\u001b[0m\u001b[0;34m.\u001b[0m\u001b[0mnpred\u001b[0m\u001b[0;34m(\u001b[0m\u001b[0;34m)\u001b[0m\u001b[0;34m\u001b[0m\u001b[0m\n\u001b[0;32m--> 428\u001b[0;31m         \u001b[0mnpred\u001b[0m\u001b[0;34m.\u001b[0m\u001b[0mdata\u001b[0m \u001b[0;34m=\u001b[0m \u001b[0mrandom_state\u001b[0m\u001b[0;34m.\u001b[0m\u001b[0mpoisson\u001b[0m\u001b[0;34m(\u001b[0m\u001b[0mnpred\u001b[0m\u001b[0;34m.\u001b[0m\u001b[0mdata\u001b[0m\u001b[0;34m)\u001b[0m\u001b[0;34m\u001b[0m\u001b[0m\n\u001b[0m\u001b[1;32m    429\u001b[0m         \u001b[0mself\u001b[0m\u001b[0;34m.\u001b[0m\u001b[0mcounts\u001b[0m \u001b[0;34m=\u001b[0m \u001b[0mnpred\u001b[0m\u001b[0;34m\u001b[0m\u001b[0m\n\u001b[1;32m    430\u001b[0m \u001b[0;34m\u001b[0m\u001b[0m\n",
      "\u001b[0;32mmtrand.pyx\u001b[0m in \u001b[0;36mmtrand.RandomState.poisson\u001b[0;34m()\u001b[0m\n",
      "\u001b[0;31mValueError\u001b[0m: lam < 0"
     ]
    }
   ],
   "source": [
    "dataset.fake()"
   ]
  },
  {
   "cell_type": "code",
   "execution_count": null,
   "metadata": {},
   "outputs": [],
   "source": []
  }
 ],
 "metadata": {
  "kernelspec": {
   "display_name": "Python 3",
   "language": "python",
   "name": "python3"
  },
  "language_info": {
   "codemirror_mode": {
    "name": "ipython",
    "version": 3
   },
   "file_extension": ".py",
   "mimetype": "text/x-python",
   "name": "python",
   "nbconvert_exporter": "python",
   "pygments_lexer": "ipython3",
   "version": "3.7.0"
  }
 },
 "nbformat": 4,
 "nbformat_minor": 2
}
