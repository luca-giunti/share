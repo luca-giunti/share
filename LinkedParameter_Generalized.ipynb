{
 "cells": [
  {
   "cell_type": "code",
   "execution_count": 1,
   "id": "3fb61e87-3813-4acd-ac31-6ff0192d0f1c",
   "metadata": {},
   "outputs": [],
   "source": [
    "import numpy as np\n",
    "import astropy.units as u\n",
    "from gammapy.modeling import Parameter"
   ]
  },
  {
   "cell_type": "code",
   "execution_count": 2,
   "id": "7aec228e-4b25-4f77-a203-93d1b8414b7e",
   "metadata": {},
   "outputs": [],
   "source": [
    "class LinkedParameter(Parameter):\n",
    "    def __init__(self, par1, par2, operator=None):\n",
    "        self.par1 = par1\n",
    "        self.par2 = par2\n",
    "        self.check_units()\n",
    "        self.operator=operator\n",
    "\n",
    "        self._value1 = par1.value\n",
    "        self._value2 = par2.value\n",
    "        value = self.evaluate()\n",
    "        \n",
    "        super().__init__(\n",
    "            self.par1.name, \n",
    "            value, \n",
    "            self.par1.unit,\n",
    "            frozen=True\n",
    "        )\n",
    "\n",
    "    def check_units(self):\n",
    "        pass\n",
    "\n",
    "    def evaluate(self):\n",
    "        if self.operator:\n",
    "            return self.operator(self._value1, self._value2)\n",
    "        else:\n",
    "            return self._value2\n",
    "            \n",
    "    def update(self):\n",
    "        if self.par2.value != self._value2:\n",
    "            self._value2 = self.par2.value\n",
    "        if self.operator and self.par1.value != self._value1:\n",
    "            self._value1 = self.par1.value\n",
    "        self.value = self.evaluate()\n",
    "        \n",
    "    @property\n",
    "    def value(self):\n",
    "        \"\"\"Factor (float).\"\"\"\n",
    "        self.update()\n",
    "        return self.evaluate()\n",
    "        \n",
    "    @value.setter\n",
    "    def value(self, val):\n",
    "        self.factor = float(val) / self._scale"
   ]
  },
  {
   "cell_type": "code",
   "execution_count": 3,
   "id": "139c6fe7-7934-4030-ac60-95f9d36ffe98",
   "metadata": {},
   "outputs": [],
   "source": [
    "def __set__(self, instance, value):\n",
    "    if isinstance(value, Parameter) and self.unit.is_equivalent(value.unit):\n",
    "        if self.name == value.name:\n",
    "            instance.__dict__[self.name] = value\n",
    "        else:\n",
    "            instance.__dict__[self.name] = LinkedParameter(self, value)            \n",
    "    else:\n",
    "        par = instance.__dict__[self.name]\n",
    "        raise TypeError(f\"Cannot assign {value!r} to parameter {par!r}\")\n",
    "Parameter.__set__ = __set__"
   ]
  },
  {
   "cell_type": "code",
   "execution_count": 4,
   "id": "af3b0480-eb39-464d-8e20-92b30b5b08e4",
   "metadata": {},
   "outputs": [],
   "source": [
    "import collections.abc\n",
    "def _arithmetics(self, other, operator=None):\n",
    "    \"\"\"Perform arithmetic on parameters\"\"\"\n",
    "    if not isinstance(other, Parameter):\n",
    "        if isinstance(other, collections.abc.Sequence):\n",
    "            raise TypeError(f\"unsupported operand type(s) for {str(operator)}: {type(self)} and {type(other)}\")\n",
    "        else:\n",
    "            other = u.Quantity(other)\n",
    "            other = ConstantParameter(other.value, other.unit)\n",
    "            \n",
    "    return LinkedParameter(self, other, operator)\n",
    "\n",
    "def __add__(self, other):\n",
    "    return self._arithmetics(other, np.add)\n",
    "\n",
    "def __sub__(self, other):\n",
    "    return self._arithmetics(other, np.subtract)\n",
    "\n",
    "def __mul__(self, other):\n",
    "    return self._arithmetics(other, np.multiply)\n",
    "\n",
    "def __truediv__(self, other):\n",
    "    return self._arithmetics(other, np.true_divide)\n",
    "\n",
    "Parameter._arithmetics = _arithmetics\n",
    "Parameter.__add__ = __add__\n",
    "Parameter.__sub__ = __sub__\n",
    "Parameter.__mul__ = __mul__\n",
    "Parameter.__truediv__ = __truediv__"
   ]
  },
  {
   "cell_type": "code",
   "execution_count": 5,
   "id": "d8084ea7-8fde-493b-ae8f-14cfe49333e0",
   "metadata": {},
   "outputs": [
    {
     "name": "stdout",
     "output_type": "stream",
     "text": [
      "ConstantParameter(name='3', value=3.0, factor=3.0, scale=1.0, unit=Unit(dimensionless), min=nan, max=nan, frozen=True, id=0x7efee5ebd6a0)\n",
      "ConstantParameter(name='3TeV', value=3.0, factor=3.0, scale=1.0, unit=Unit(\"TeV\"), min=nan, max=nan, frozen=True, id=0x7efee5ebddc0)\n"
     ]
    }
   ],
   "source": [
    "class ConstantParameter(Parameter):\n",
    "    def __init__(self, value, unit, name=None):\n",
    "        if not name:\n",
    "            name = str(value) + str(unit)\n",
    "            \n",
    "        super().__init__(name, value, unit, frozen=True)\n",
    "print(ConstantParameter(3, \"\"))\n",
    "print(ConstantParameter(3, \"TeV\"))"
   ]
  },
  {
   "cell_type": "markdown",
   "id": "cadc96c4-2593-40d6-ab4f-8115d185c9c2",
   "metadata": {},
   "source": [
    "## Check parameters linking with identity operation (`par1=par2`)"
   ]
  },
  {
   "cell_type": "code",
   "execution_count": 6,
   "id": "a3d7770d-e617-4fa8-8ef9-97bb1b1e4216",
   "metadata": {},
   "outputs": [
    {
     "ename": "TypeError",
     "evalue": "Cannot assign Parameter(name='amplitude', value=1e-12, factor=1e-12, scale=1.0, unit=Unit(\"1 / (cm2 s TeV)\"), min=nan, max=nan, frozen=False, id=0x7eff284d9130) to parameter Parameter(name='index1', value=2.0, factor=2.0, scale=1.0, unit=Unit(dimensionless), min=nan, max=nan, frozen=False, id=0x7efedca4ce50)",
     "output_type": "error",
     "traceback": [
      "\u001b[0;31m---------------------------------------------------------------------------\u001b[0m",
      "\u001b[0;31mTypeError\u001b[0m                                 Traceback (most recent call last)",
      "Input \u001b[0;32mIn [6]\u001b[0m, in \u001b[0;36m<cell line: 4>\u001b[0;34m()\u001b[0m\n\u001b[1;32m      2\u001b[0m \u001b[38;5;28;01mfrom\u001b[39;00m \u001b[38;5;21;01mgammapy\u001b[39;00m\u001b[38;5;21;01m.\u001b[39;00m\u001b[38;5;21;01mmodeling\u001b[39;00m\u001b[38;5;21;01m.\u001b[39;00m\u001b[38;5;21;01mmodels\u001b[39;00m \u001b[38;5;28;01mimport\u001b[39;00m BrokenPowerLawSpectralModel\n\u001b[1;32m      3\u001b[0m model \u001b[38;5;241m=\u001b[39m BrokenPowerLawSpectralModel()\n\u001b[0;32m----> 4\u001b[0m \u001b[43mmodel\u001b[49m\u001b[38;5;241;43m.\u001b[39;49m\u001b[43mindex1\u001b[49m \u001b[38;5;241m=\u001b[39m model\u001b[38;5;241m.\u001b[39mamplitude\n\u001b[1;32m      5\u001b[0m model\u001b[38;5;241m.\u001b[39mindex1\n",
      "Input \u001b[0;32mIn [3]\u001b[0m, in \u001b[0;36m__set__\u001b[0;34m(self, instance, value)\u001b[0m\n\u001b[1;32m      7\u001b[0m \u001b[38;5;28;01melse\u001b[39;00m:\n\u001b[1;32m      8\u001b[0m     par \u001b[38;5;241m=\u001b[39m instance\u001b[38;5;241m.\u001b[39m\u001b[38;5;18m__dict__\u001b[39m[\u001b[38;5;28mself\u001b[39m\u001b[38;5;241m.\u001b[39mname]\n\u001b[0;32m----> 9\u001b[0m     \u001b[38;5;28;01mraise\u001b[39;00m \u001b[38;5;167;01mTypeError\u001b[39;00m(\u001b[38;5;124mf\u001b[39m\u001b[38;5;124m\"\u001b[39m\u001b[38;5;124mCannot assign \u001b[39m\u001b[38;5;132;01m{\u001b[39;00mvalue\u001b[38;5;132;01m!r}\u001b[39;00m\u001b[38;5;124m to parameter \u001b[39m\u001b[38;5;132;01m{\u001b[39;00mpar\u001b[38;5;132;01m!r}\u001b[39;00m\u001b[38;5;124m\"\u001b[39m)\n",
      "\u001b[0;31mTypeError\u001b[0m: Cannot assign Parameter(name='amplitude', value=1e-12, factor=1e-12, scale=1.0, unit=Unit(\"1 / (cm2 s TeV)\"), min=nan, max=nan, frozen=False, id=0x7eff284d9130) to parameter Parameter(name='index1', value=2.0, factor=2.0, scale=1.0, unit=Unit(dimensionless), min=nan, max=nan, frozen=False, id=0x7efedca4ce50)"
     ]
    }
   ],
   "source": [
    "# THIS SHOULD FAIL (UNITS DO NOT MATCH)\n",
    "from gammapy.modeling.models import BrokenPowerLawSpectralModel\n",
    "model = BrokenPowerLawSpectralModel()\n",
    "model.index1 = model.amplitude\n",
    "model.index1"
   ]
  },
  {
   "cell_type": "code",
   "execution_count": 7,
   "id": "86e7c7e7-548b-4932-9da3-e78b375a4508",
   "metadata": {},
   "outputs": [
    {
     "data": {
      "text/plain": [
       "LinkedParameter(name='index1', value=3.0, factor=3.0, scale=1.0, unit=Unit(dimensionless), min=nan, max=nan, frozen=True, id=0x7eff28376d00)"
      ]
     },
     "execution_count": 7,
     "metadata": {},
     "output_type": "execute_result"
    }
   ],
   "source": [
    "# THIS SHOULD NOT FAIL \n",
    "from gammapy.modeling.models import BrokenPowerLawSpectralModel, PowerLawSpectralModel\n",
    "model1 = BrokenPowerLawSpectralModel(index1=2)\n",
    "model2 = PowerLawSpectralModel(index=3)\n",
    "model1.index1 = model2.index\n",
    "model1.index1"
   ]
  },
  {
   "cell_type": "markdown",
   "id": "d0b9adae-bb6a-4afe-873b-67183d7db17c",
   "metadata": {},
   "source": [
    "Check that the parameters are correctly linked"
   ]
  },
  {
   "cell_type": "code",
   "execution_count": 8,
   "id": "e02b4b96-50fc-420c-b6a2-1db02427adb5",
   "metadata": {},
   "outputs": [
    {
     "data": {
      "text/plain": [
       "LinkedParameter(name='index1', value=18.0, factor=18.0, scale=1.0, unit=Unit(dimensionless), min=nan, max=nan, frozen=True, id=0x7eff28376d00)"
      ]
     },
     "execution_count": 8,
     "metadata": {},
     "output_type": "execute_result"
    }
   ],
   "source": [
    "model2.index.value = 18\n",
    "model1.index1"
   ]
  },
  {
   "cell_type": "markdown",
   "id": "1d3a54f3-7b33-4676-a44b-892975b924ef",
   "metadata": {},
   "source": [
    "## Check parameters linking with arithmetic operations"
   ]
  },
  {
   "cell_type": "code",
   "execution_count": 9,
   "id": "eb0e82a7-d697-4547-954e-ac82fffd2e16",
   "metadata": {},
   "outputs": [
    {
     "data": {
      "text/plain": [
       "LinkedParameter(name='index2', value=2.0, factor=2.0, scale=1.0, unit=Unit(dimensionless), min=nan, max=nan, frozen=True, id=0x7efeea642220)"
      ]
     },
     "execution_count": 9,
     "metadata": {},
     "output_type": "execute_result"
    }
   ],
   "source": [
    "from gammapy.modeling.models import BrokenPowerLawSpectralModel\n",
    "model = BrokenPowerLawSpectralModel(index1=1, index2=4)\n",
    "model.index2 = model.index1 + 1\n",
    "model.index2"
   ]
  },
  {
   "cell_type": "markdown",
   "id": "80ba75e2-333e-4926-b70d-52e388cf759a",
   "metadata": {},
   "source": [
    "## Test behavior during fitting"
   ]
  },
  {
   "cell_type": "code",
   "execution_count": 10,
   "id": "e1df3248-ac9d-4f84-a30b-072b9b23e3b1",
   "metadata": {},
   "outputs": [],
   "source": [
    "from gammapy.datasets import MapDataset\n",
    "from gammapy.modeling import Fit\n",
    "from gammapy.modeling.models import SkyModel, FoVBackgroundModel"
   ]
  },
  {
   "cell_type": "code",
   "execution_count": 11,
   "id": "82701218-d55b-4383-ab7a-5ecfe0f4a703",
   "metadata": {},
   "outputs": [
    {
     "name": "stderr",
     "output_type": "stream",
     "text": [
      "/home/lucagiunti/miniconda3/envs/gammapy-1.0/lib/python3.9/site-packages/astropy/units/quantity.py:620: RuntimeWarning: divide by zero encountered in divide\n",
      "  result = super().__array_ufunc__(function, method, *arrays, **kwargs)\n",
      "/home/lucagiunti/miniconda3/envs/gammapy-1.0/lib/python3.9/site-packages/astropy/units/quantity.py:620: RuntimeWarning: invalid value encountered in multiply\n",
      "  result = super().__array_ufunc__(function, method, *arrays, **kwargs)\n"
     ]
    }
   ],
   "source": [
    "dataset = MapDataset.read(\"/home/lucagiunti/gammapy-datasets/cta-1dc-gc/cta-1dc-gc.fits.gz\")\n",
    "dataset = dataset.to_spectrum_dataset(on_region=None)\n",
    "\n",
    "model = BrokenPowerLawSpectralModel(index1=1, index2=3)\n",
    "model.amplitude.value = 1e-10\n",
    "skymodel = SkyModel(spectral_model=model, name=\"sim\")\n",
    "\n",
    "bkg = FoVBackgroundModel(dataset_name=dataset.name)\n",
    "dataset.models = [bkg, skymodel]\n",
    "dataset.fake()"
   ]
  },
  {
   "cell_type": "code",
   "execution_count": 12,
   "id": "c45ece20-7818-4844-99f4-9d0339f73910",
   "metadata": {},
   "outputs": [],
   "source": [
    "model = BrokenPowerLawSpectralModel()\n",
    "model.index2 = model.index1 + 2\n",
    "skymodel_fit = SkyModel(spectral_model=model, name=\"fit\")\n",
    "dataset.models = [bkg, skymodel_fit]"
   ]
  },
  {
   "cell_type": "code",
   "execution_count": 13,
   "id": "c2bff141-367b-497f-ba92-5c585751b65d",
   "metadata": {},
   "outputs": [],
   "source": [
    "fit = Fit()\n",
    "result = fit.run(dataset)"
   ]
  },
  {
   "cell_type": "code",
   "execution_count": 14,
   "id": "26a8fc87-ab93-412e-a886-e506a92c6cf2",
   "metadata": {},
   "outputs": [
    {
     "data": {
      "text/html": [
       "<div><i>Table length=7</i>\n",
       "<table id=\"table139633067326000\" class=\"table-striped table-bordered table-condensed\">\n",
       "<thead><tr><th>type</th><th>name</th><th>value</th><th>unit</th><th>error</th><th>min</th><th>max</th><th>frozen</th><th>is_norm</th><th>link</th></tr></thead>\n",
       "<thead><tr><th>str8</th><th>str9</th><th>float64</th><th>str14</th><th>float64</th><th>float64</th><th>float64</th><th>bool</th><th>bool</th><th>str1</th></tr></thead>\n",
       "<tr><td>spectral</td><td>norm</td><td>9.9894e-01</td><td></td><td>1.247e-02</td><td>nan</td><td>nan</td><td>False</td><td>True</td><td></td></tr>\n",
       "<tr><td>spectral</td><td>tilt</td><td>0.0000e+00</td><td></td><td>0.000e+00</td><td>nan</td><td>nan</td><td>True</td><td>False</td><td></td></tr>\n",
       "<tr><td>spectral</td><td>reference</td><td>1.0000e+00</td><td>TeV</td><td>0.000e+00</td><td>nan</td><td>nan</td><td>True</td><td>False</td><td></td></tr>\n",
       "<tr><td>spectral</td><td>index1</td><td>1.0224e+00</td><td></td><td>2.679e-01</td><td>nan</td><td>nan</td><td>False</td><td>False</td><td></td></tr>\n",
       "<tr><td>spectral</td><td>index2</td><td>3.0224e+00</td><td></td><td>0.000e+00</td><td>nan</td><td>nan</td><td>True</td><td>False</td><td></td></tr>\n",
       "<tr><td>spectral</td><td>amplitude</td><td>9.5081e-11</td><td>cm-2 s-1 TeV-1</td><td>4.204e-11</td><td>nan</td><td>nan</td><td>False</td><td>True</td><td></td></tr>\n",
       "<tr><td>spectral</td><td>ebreak</td><td>1.0420e+00</td><td>TeV</td><td>2.048e-01</td><td>nan</td><td>nan</td><td>False</td><td>False</td><td></td></tr>\n",
       "</table></div>"
      ],
      "text/plain": [
       "<Table length=7>\n",
       "  type      name     value         unit      ...   max   frozen is_norm link\n",
       "  str8      str9    float64       str14      ... float64  bool    bool  str1\n",
       "-------- --------- ---------- -------------- ... ------- ------ ------- ----\n",
       "spectral      norm 9.9894e-01                ...     nan  False    True     \n",
       "spectral      tilt 0.0000e+00                ...     nan   True   False     \n",
       "spectral reference 1.0000e+00            TeV ...     nan   True   False     \n",
       "spectral    index1 1.0224e+00                ...     nan  False   False     \n",
       "spectral    index2 3.0224e+00                ...     nan   True   False     \n",
       "spectral amplitude 9.5081e-11 cm-2 s-1 TeV-1 ...     nan  False    True     \n",
       "spectral    ebreak 1.0420e+00            TeV ...     nan  False   False     "
      ]
     },
     "execution_count": 14,
     "metadata": {},
     "output_type": "execute_result"
    }
   ],
   "source": [
    "result.parameters.to_table()"
   ]
  },
  {
   "cell_type": "code",
   "execution_count": 15,
   "id": "27714611-a90f-4f35-8748-e20b2950f870",
   "metadata": {},
   "outputs": [
    {
     "data": {
      "text/plain": [
       "(<AxesSubplot: xlabel='Energy [TeV]', ylabel='$\\\\mathrm{}$'>,\n",
       " <AxesSubplot: xlabel='Energy [TeV]', ylabel='Residuals\\ndata - model'>)"
      ]
     },
     "execution_count": 15,
     "metadata": {},
     "output_type": "execute_result"
    },
    {
     "data": {
      "image/png": "[encoded data removed]",
      "text/plain": [
       "<Figure size 800x700 with 2 Axes>"
      ]
     },
     "metadata": {},
     "output_type": "display_data"
    }
   ],
   "source": [
    "dataset.plot_fit()"
   ]
  },
  {
   "cell_type": "code",
   "execution_count": null,
   "id": "0b47e518-8233-486e-85bd-c32293e45126",
   "metadata": {},
   "outputs": [],
   "source": []
  }
 ],
 "metadata": {
  "kernelspec": {
   "display_name": "Python 3 (ipykernel)",
   "language": "python",
   "name": "python3"
  },
  "language_info": {
   "codemirror_mode": {
    "name": "ipython",
    "version": 3
   },
   "file_extension": ".py",
   "mimetype": "text/x-python",
   "name": "python",
   "nbconvert_exporter": "python",
   "pygments_lexer": "ipython3",
   "version": "3.9.13"
  }
 },
 "nbformat": 4,
 "nbformat_minor": 5
}
