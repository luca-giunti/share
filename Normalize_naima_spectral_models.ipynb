{
 "cells": [
  {
   "cell_type": "code",
   "execution_count": 7,
   "metadata": {},
   "outputs": [],
   "source": [
    "import astropy.units as u\n",
    "import numpy as np\n",
    "import naima\n",
    "from scipy.optimize import fsolve"
   ]
  },
  {
   "cell_type": "code",
   "execution_count": 8,
   "metadata": {},
   "outputs": [],
   "source": [
    "from gammapy.modeling.models import NaimaSpectralModel"
   ]
  },
  {
   "cell_type": "code",
   "execution_count": 9,
   "metadata": {},
   "outputs": [
    {
     "data": {
      "text/plain": [
       "'0.15'"
      ]
     },
     "execution_count": 9,
     "metadata": {},
     "output_type": "execute_result"
    }
   ],
   "source": [
    "import gammapy\n",
    "gammapy.__version__"
   ]
  },
  {
   "cell_type": "markdown",
   "metadata": {},
   "source": [
    "# How to normalize the NaimaSpectralModel using the differential flux at 1 TeV"
   ]
  },
  {
   "cell_type": "markdown",
   "metadata": {},
   "source": [
    "The trick to normalize the model is using the function `fsolve` from scipy, that allows to find the value of the ampltitude for which the fux at 1 TeV has the desired value.\n",
    "\n",
    "Here's the function:"
   ]
  },
  {
   "cell_type": "code",
   "execution_count": 12,
   "metadata": {},
   "outputs": [],
   "source": [
    "def spectral_model_normalized(norm, index, cutoff):\n",
    "    \"\"\"Normalize the model via the differential flux at 1 TeV (in Crab units), \n",
    "     instead of using the model amplitude, as usually done in Naima.\"\"\"\n",
    "    \n",
    "    crab_unit = \"3.84e-11 cm-2 s-1 TeV-1\" # Crab flux at 1 TeV\n",
    "    \n",
    "    def model_to_be_normalized(x):\n",
    "        particle_distribution = naima.models.ExponentialCutoffPowerLaw(\n",
    "            amplitude=x / u.eV, \n",
    "            e_0=10 * u.TeV, \n",
    "            alpha=index, \n",
    "            e_cutoff=cutoff * u.PeV\n",
    "        )\n",
    "        radiative_model = naima.radiative.PionDecay(\n",
    "                particle_distribution,\n",
    "                nh = 1 / u.cm**3,\n",
    "        )\n",
    "        return NaimaSpectralModel(radiative_model=radiative_model, distance=1*u.kpc)\n",
    "        \n",
    "    def f_pl(x):\n",
    "        return (model_to_be_normalized(x)(1*u.TeV) / crab_unit).to(\"\") - norm\n",
    "\n",
    "    amplitude = fsolve(f_pl, 1e32)[0]\n",
    "    np.testing.assert_almost_equal(f_pl(amplitude), 0)\n",
    "    return model_to_be_normalized(amplitude)"
   ]
  },
  {
   "cell_type": "markdown",
   "metadata": {},
   "source": [
    "Example:"
   ]
  },
  {
   "cell_type": "code",
   "execution_count": 14,
   "metadata": {},
   "outputs": [
    {
     "name": "stdout",
     "output_type": "stream",
     "text": [
      "CPU times: user 1.18 s, sys: 28.5 ms, total: 1.21 s\n",
      "Wall time: 1.21 s\n"
     ]
    }
   ],
   "source": [
    "%%time\n",
    "model = spectral_model_normalized(0.05, 2.0, 1)"
   ]
  },
  {
   "cell_type": "markdown",
   "metadata": {},
   "source": [
    "let's check:"
   ]
  },
  {
   "cell_type": "code",
   "execution_count": 15,
   "metadata": {},
   "outputs": [
    {
     "data": {
      "text/latex": [
       "$0.05 \\; \\mathrm{}$"
      ],
      "text/plain": [
       "<Quantity 0.05>"
      ]
     },
     "execution_count": 15,
     "metadata": {},
     "output_type": "execute_result"
    }
   ],
   "source": [
    "crab_unit = \"3.84e-11 cm-2 s-1 TeV-1\" # Crab flux at 1 TeV\n",
    "(model(1 * u.TeV) / crab_unit).to(\"\") "
   ]
  },
  {
   "cell_type": "code",
   "execution_count": null,
   "metadata": {},
   "outputs": [],
   "source": []
  }
 ],
 "metadata": {
  "kernelspec": {
   "display_name": "Python 3",
   "language": "python",
   "name": "python3"
  },
  "language_info": {
   "codemirror_mode": {
    "name": "ipython",
    "version": 3
   },
   "file_extension": ".py",
   "mimetype": "text/x-python",
   "name": "python",
   "nbconvert_exporter": "python",
   "pygments_lexer": "ipython3",
   "version": "3.7.0"
  }
 },
 "nbformat": 4,
 "nbformat_minor": 4
}
