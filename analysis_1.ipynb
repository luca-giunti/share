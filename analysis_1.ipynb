{
 "cells": [
  {
   "cell_type": "markdown",
   "metadata": {},
   "source": [
    "# First analysis with gammapy high level interface\n",
    "\n",
    "## Prerequisites:\n",
    "\n",
    "- Understanding the gammapy data workflow, in particular what are DL3 events and intrument response functions (IRF).\n",
    "\n",
    "## Context\n",
    "\n",
    "This notebook is an introduction to gammapy analysis using the high level interface. \n",
    "\n",
    "Gammapy analysis consists in two main steps. \n",
    "\n",
    "The first one is data reduction: user selected observations  are reduced to a geometry defined by the user. \n",
    "It can be 1D (spectrum from a given extraction region) or 3D (with a sky projection and an energy axis). \n",
    "The resulting reduced data and instrument response functions (IRF) are called datasets in Gammapy.\n",
    "\n",
    "The second step consists in setting a physical model on the datasets and fitting it to obtain relevant physical informations.\n",
    "\n",
    "\n",
    "**Objective: Create a 3D dataset of the Crab using the H.E.S.S. DL3 data release 1 and perform a simple model fitting of the Crab nebula.**\n",
    "\n",
    "## Proposed approach:\n",
    "\n",
    "This notebook uses the high level `Analysis` class to orchestrate data reduction. In its current state, `Analysis` supports the standard analysis cases of joint or stacked 3D and 1D analyses. It is instantiated with an `AnalysisConfig` object that gives access to analysis parameters either directly or via a YAML config file. \n",
    "\n",
    "To see what is happening under-the-hood and to get an idea of the internal API, a second notebook performs the same analysis without using the `Analysis` class. \n",
    "\n",
    "In summary, we have to:\n",
    "\n",
    "- Create an `~gammapy.analysis.AnalysisConfig` object and edit it to define the analysis configuration:\n",
    "    - Define what observations to use\n",
    "    - Define the geometry of the dataset (data and IRFs)\n",
    "    - Define the model we want to fit on the dataset.\n",
    "- Instantiate a `~gammapy.analysis.Analysis` from this configuration and run the different analysis steps\n",
    "    - Observation selection\n",
    "    - Data reduction\n",
    "    - Model fitting\n",
    "    - Estimating flux points\n",
    "\n",
    "Finally we will compare the results against a reference model."
   ]
  },
  {
   "cell_type": "markdown",
   "metadata": {},
   "source": [
    "## Setup"
   ]
  },
  {
   "cell_type": "code",
   "execution_count": 1,
   "metadata": {},
   "outputs": [
    {
     "data": {
      "text/plain": [
       "'0.17.dev290+g0ebbfb333'"
      ]
     },
     "execution_count": 1,
     "metadata": {},
     "output_type": "execute_result"
    }
   ],
   "source": [
    "import gammapy\n",
    "gammapy.__version__"
   ]
  },
  {
   "cell_type": "code",
   "execution_count": 2,
   "metadata": {},
   "outputs": [],
   "source": [
    "%matplotlib inline\n",
    "import matplotlib.pyplot as plt"
   ]
  },
  {
   "cell_type": "code",
   "execution_count": 3,
   "metadata": {},
   "outputs": [],
   "source": [
    "from pathlib import Path\n",
    "from astropy import units as u\n",
    "from gammapy.analysis import Analysis, AnalysisConfig\n",
    "from gammapy.modeling.models import create_crab_spectral_model"
   ]
  },
  {
   "cell_type": "markdown",
   "metadata": {},
   "source": [
    "## Analysis configuration\n",
    "\n",
    "For configuration of the analysis we use the [YAML](https://en.wikipedia.org/wiki/YAML) data format. YAML is a machine readable serialisation format, that is also friendly for humans to read. In this tutorial we will write the configuration file just using Python strings, but of course the file can be created and modified with any text editor of your choice.\n",
    "\n",
    "Here is what the configuration for our analysis looks like:"
   ]
  },
  {
   "cell_type": "code",
   "execution_count": 4,
   "metadata": {},
   "outputs": [
    {
     "name": "stdout",
     "output_type": "stream",
     "text": [
      "AnalysisConfig\n",
      "\n",
      "    general:\n",
      "        log: {level: info, filename: null, filemode: null, format: null, datefmt: null}\n",
      "        outdir: .\n",
      "    observations:\n",
      "        datastore: $GAMMAPY_DATA/hess-dl3-dr1\n",
      "        obs_ids: []\n",
      "        obs_file: null\n",
      "        obs_cone: {frame: null, lon: null, lat: null, radius: null}\n",
      "        obs_time: {start: null, stop: null}\n",
      "    datasets:\n",
      "        type: 1d\n",
      "        stack: true\n",
      "        geom:\n",
      "            wcs:\n",
      "                skydir: {frame: null, lon: null, lat: null}\n",
      "                binsize: 0.02 deg\n",
      "                fov: {width: 5.0 deg, height: 5.0 deg}\n",
      "                binsize_irf: 0.2 deg\n",
      "            selection: {offset_max: 2.5 deg}\n",
      "            axes:\n",
      "                energy: {min: 0.1 TeV, max: 10.0 TeV, nbins: 30}\n",
      "                energy_true: {min: 0.1 TeV, max: 10.0 TeV, nbins: 30}\n",
      "        map_selection: [counts, exposure, background, psf, edisp]\n",
      "        background:\n",
      "            method: null\n",
      "            exclusion: null\n",
      "            parameters: {}\n",
      "        safe_mask:\n",
      "            methods: [aeff-default]\n",
      "            parameters: {}\n",
      "        on_region: {frame: null, lon: null, lat: null, radius: null}\n",
      "        containment_correction: true\n",
      "    fit:\n",
      "        fit_range: {min: 0.1 TeV, max: 10.0 TeV}\n",
      "    flux_points:\n",
      "        energy: {min: 0.1 TeV, max: 10.0 TeV, nbins: 30}\n",
      "        source: source\n",
      "        parameters: {}\n",
      "    \n"
     ]
    }
   ],
   "source": [
    "config = AnalysisConfig()\n",
    "# the AnalysisConfig gives access to the various parameters used from logging to reduced dataset geometries\n",
    "print(config)"
   ]
  },
  {
   "cell_type": "markdown",
   "metadata": {},
   "source": [
    "### Setting the data to use"
   ]
  },
  {
   "cell_type": "markdown",
   "metadata": {},
   "source": [
    "We want to use Crab runs from the H.E.S.S. DL3-DR1. We define here the datastore and a cone search of observations pointing with 5 degrees of the Crab nebula.\n",
    "Parameters can be set directly or as a python dict."
   ]
  },
  {
   "cell_type": "code",
   "execution_count": 5,
   "metadata": {},
   "outputs": [],
   "source": [
    "# We define the datastore containing the data\n",
    "config.observations.datastore = \"$GAMMAPY_DATA/hess-dl3-dr1\"\n",
    "\n",
    "# We define the cone search parameters\n",
    "config.observations.obs_cone.frame = \"icrs\"\n",
    "config.observations.obs_cone.lon = \"83.633 deg\"\n",
    "config.observations.obs_cone.lat = \"22.014 deg\"\n",
    "config.observations.obs_cone.radius = \"5 deg\"\n",
    "\n",
    "# Equivalently we could have set parameters with a python dict\n",
    "# config.observations.obs_cone = {\"frame\": \"icrs\", \"lon\": \"83.633 deg\", \"lat\": \"22.014 deg\", \"radius\": \"5 deg\"}"
   ]
  },
  {
   "cell_type": "markdown",
   "metadata": {},
   "source": [
    "### Setting the reduced datasets geometry"
   ]
  },
  {
   "cell_type": "code",
   "execution_count": 6,
   "metadata": {},
   "outputs": [],
   "source": [
    "# We want to perform a 3D analysis\n",
    "config.datasets.type = \"3d\"\n",
    "# We want to stack the data into a single reduced dataset\n",
    "config.datasets.stack = True\n",
    "\n",
    "# We fix the WCS geometry of the datasets\n",
    "config.datasets.geom.wcs.skydir = {\n",
    "    \"lon\": \"83.633 deg\",\n",
    "    \"lat\": \"22.014 deg\",\n",
    "    \"frame\": \"icrs\",\n",
    "}\n",
    "config.datasets.geom.wcs.fov = {\"width\": \"2 deg\", \"height\": \"2 deg\"}\n",
    "config.datasets.geom.wcs.binsize = \"0.02 deg\"\n",
    "\n",
    "# We now fix the energy axis for the counts map\n",
    "config.datasets.geom.axes.energy.min = \"1 TeV\"\n",
    "config.datasets.geom.axes.energy.max = \"10 TeV\"\n",
    "config.datasets.geom.axes.energy.nbins = 4\n",
    "\n",
    "# We now fix the energy axis for the IRF maps (exposure, etc)\n",
    "config.datasets.geom.axes.energy_true.min = \"0.5 TeV\"\n",
    "config.datasets.geom.axes.energy_true.max = \"20 TeV\"\n",
    "config.datasets.geom.axes.energy.nbins = 10"
   ]
  },
  {
   "cell_type": "markdown",
   "metadata": {},
   "source": [
    "### Setting the background normalization maker"
   ]
  },
  {
   "cell_type": "code",
   "execution_count": 7,
   "metadata": {},
   "outputs": [],
   "source": [
    "config.datasets.background.method = \"fov_background\"\n",
    "config.datasets.background.parameters = {\"method\": \"scale\"}"
   ]
  },
  {
   "cell_type": "markdown",
   "metadata": {},
   "source": [
    "### Setting modeling and fitting parameters\n",
    "`Analysis` can perform a few modeling and fitting tasks besides data reduction. Parameters have then to be passed to the configuration object."
   ]
  },
  {
   "cell_type": "code",
   "execution_count": 8,
   "metadata": {},
   "outputs": [],
   "source": [
    "config.fit.fit_range.min = 1 * u.TeV\n",
    "config.fit.fit_range.max = 10 * u.TeV\n",
    "config.flux_points.energy = {\"min\": \"1 TeV\", \"max\": \"10 TeV\", \"nbins\": 3}"
   ]
  },
  {
   "cell_type": "markdown",
   "metadata": {},
   "source": [
    "We're all set. \n",
    "But before we go on let's see how to save or import `AnalysisConfig` objects though YAML files."
   ]
  },
  {
   "cell_type": "markdown",
   "metadata": {},
   "source": [
    "### Using YAML configuration files\n",
    "\n",
    "One can export/import the `AnalysisConfig` to/from a YAML file."
   ]
  },
  {
   "cell_type": "code",
   "execution_count": 9,
   "metadata": {},
   "outputs": [],
   "source": [
    "config.write(\"config.yaml\", overwrite=True)"
   ]
  },
  {
   "cell_type": "code",
   "execution_count": 10,
   "metadata": {},
   "outputs": [
    {
     "name": "stdout",
     "output_type": "stream",
     "text": [
      "AnalysisConfig\n",
      "\n",
      "    general:\n",
      "        log: {level: info, filename: null, filemode: null, format: null, datefmt: null}\n",
      "        outdir: .\n",
      "    observations:\n",
      "        datastore: $GAMMAPY_DATA/hess-dl3-dr1\n",
      "        obs_ids: []\n",
      "        obs_file: null\n",
      "        obs_cone: {frame: icrs, lon: 83.633 deg, lat: 22.014 deg, radius: 5.0 deg}\n",
      "        obs_time: {start: null, stop: null}\n",
      "    datasets:\n",
      "        type: 3d\n",
      "        stack: true\n",
      "        geom:\n",
      "            wcs:\n",
      "                skydir: {frame: icrs, lon: 83.633 deg, lat: 22.014 deg}\n",
      "                binsize: 0.02 deg\n",
      "                fov: {width: 2.0 deg, height: 2.0 deg}\n",
      "                binsize_irf: 0.2 deg\n",
      "            selection: {offset_max: 2.5 deg}\n",
      "            axes:\n",
      "                energy: {min: 1.0 TeV, max: 10.0 TeV, nbins: 10}\n",
      "                energy_true: {min: 0.5 TeV, max: 20.0 TeV, nbins: 30}\n",
      "        map_selection: [counts, exposure, background, psf, edisp]\n",
      "        background:\n",
      "            method: fov_background\n",
      "            exclusion: null\n",
      "            parameters: {method: scale}\n",
      "        safe_mask:\n",
      "            methods: [aeff-default]\n",
      "            parameters: {}\n",
      "        on_region: {frame: null, lon: null, lat: null, radius: null}\n",
      "        containment_correction: true\n",
      "    fit:\n",
      "        fit_range: {min: 1.0 TeV, max: 10.0 TeV}\n",
      "    flux_points:\n",
      "        energy: {min: 1.0 TeV, max: 10.0 TeV, nbins: 3}\n",
      "        source: source\n",
      "        parameters: {}\n",
      "    \n"
     ]
    }
   ],
   "source": [
    "config = AnalysisConfig.read(\"config.yaml\")\n",
    "print(config)"
   ]
  },
  {
   "cell_type": "markdown",
   "metadata": {},
   "source": [
    "## Running the analysis\n",
    "\n",
    "We first create an `~gammapy.analysis.Analysis` object from our configuration."
   ]
  },
  {
   "cell_type": "code",
   "execution_count": 11,
   "metadata": {},
   "outputs": [
    {
     "name": "stderr",
     "output_type": "stream",
     "text": [
      "Setting logging config: {'level': 'INFO', 'filename': None, 'filemode': None, 'format': None, 'datefmt': None}\n"
     ]
    }
   ],
   "source": [
    "analysis = Analysis(config)"
   ]
  },
  {
   "cell_type": "markdown",
   "metadata": {},
   "source": [
    "###  Observation selection\n",
    "\n",
    "We can directly select and load the observations from disk using `~gammapy.analysis.Analysis.get_observations()`:"
   ]
  },
  {
   "cell_type": "code",
   "execution_count": 12,
   "metadata": {},
   "outputs": [
    {
     "name": "stderr",
     "output_type": "stream",
     "text": [
      "Fetching observations.\n",
      "Number of selected observations: 4\n"
     ]
    }
   ],
   "source": [
    "analysis.get_observations()"
   ]
  },
  {
   "cell_type": "markdown",
   "metadata": {},
   "source": [
    "The observations are now available on the `Analysis` object. The selection corresponds to the following ids:"
   ]
  },
  {
   "cell_type": "code",
   "execution_count": 13,
   "metadata": {},
   "outputs": [
    {
     "data": {
      "text/plain": [
       "['23592', '23523', '23526', '23559']"
      ]
     },
     "execution_count": 13,
     "metadata": {},
     "output_type": "execute_result"
    }
   ],
   "source": [
    "analysis.observations.ids"
   ]
  },
  {
   "cell_type": "markdown",
   "metadata": {},
   "source": [
    "To see how to explore observations, please refer to the following notebook: [CTA with Gammapy](cta.ipynb) or  [HESS with Gammapy](hess.ipynb) "
   ]
  },
  {
   "cell_type": "markdown",
   "metadata": {},
   "source": [
    "## Data reduction\n",
    "\n",
    "Now we proceed to the data reduction. In the config file we have chosen a WCS map geometry, energy axis and decided to stack the maps. We can run the reduction using `.get_datasets()`:"
   ]
  },
  {
   "cell_type": "code",
   "execution_count": 14,
   "metadata": {},
   "outputs": [
    {
     "name": "stderr",
     "output_type": "stream",
     "text": [
      "Creating geometry.\n",
      "Creating datasets.\n",
      "Processing observation 23592\n",
      "Processing observation 23523\n",
      "Processing observation 23526\n",
      "Processing observation 23559\n"
     ]
    },
    {
     "name": "stdout",
     "output_type": "stream",
     "text": [
      "CPU times: user 2.9 s, sys: 129 ms, total: 3.03 s\n",
      "Wall time: 3.02 s\n"
     ]
    }
   ],
   "source": [
    "%%time\n",
    "analysis.get_datasets()"
   ]
  },
  {
   "cell_type": "markdown",
   "metadata": {},
   "source": [
    "As we have chosen to stack the data, there is finally one dataset contained which we can print:"
   ]
  },
  {
   "cell_type": "code",
   "execution_count": 15,
   "metadata": {},
   "outputs": [
    {
     "name": "stdout",
     "output_type": "stream",
     "text": [
      "MapDataset\n",
      "----------\n",
      "\n",
      "  Name                            : stacked \n",
      "\n",
      "  Total counts                    : 2486 \n",
      "  Total predicted counts          : 2486.00\n",
      "  Total background counts         : 2486.00\n",
      "\n",
      "  Exposure min                    : 2.38e+08 m2 s\n",
      "  Exposure max                    : 3.53e+09 m2 s\n",
      "\n",
      "  Number of total bins            : 100000 \n",
      "  Number of fit bins              : 100000 \n",
      "\n",
      "  Fit statistic type              : cash\n",
      "  Fit statistic value (-2 log(L)) : 22266.08\n",
      "\n",
      "  Number of models                : 1 \n",
      "  Number of parameters            : 3\n",
      "  Number of free parameters       : 1\n",
      "\n",
      "  Component 0: BackgroundModel\n",
      "  \n",
      "    Name                      : stacked-bkg\n",
      "    Datasets names            : ['stacked']\n",
      "    Parameters:\n",
      "      norm                    :   1.000              \n",
      "      tilt         (frozen)   :   0.000              \n",
      "      reference    (frozen)   :   1.000  TeV         \n",
      "  \n",
      "  \n"
     ]
    }
   ],
   "source": [
    "print(analysis.datasets[\"stacked\"])"
   ]
  },
  {
   "cell_type": "markdown",
   "metadata": {},
   "source": [
    "As you can see the dataset comes with a predefined background model out of the data reduction, but no source model has been set yet.\n",
    "\n",
    "The counts, exposure and background model maps are directly available on the dataset and can be printed and plotted:"
   ]
  },
  {
   "cell_type": "code",
   "execution_count": 16,
   "metadata": {},
   "outputs": [
    {
     "data": {
      "image/png": "[encoded data removed]",
      "text/plain": [
       "<Figure size 432x288 with 1 Axes>"
      ]
     },
     "metadata": {
      "needs_background": "light"
     },
     "output_type": "display_data"
    }
   ],
   "source": [
    "counts = analysis.datasets[\"stacked\"].counts\n",
    "counts.smooth(\"0.05 deg\").plot_interactive()"
   ]
  },
  {
   "cell_type": "markdown",
   "metadata": {},
   "source": [
    "## Save dataset to disk\n",
    "\n",
    "It is common to run the preparation step independent of the likelihood fit, because often the preparation of maps, PSF and energy dispersion is slow if you have a lot of data. We first create a folder:"
   ]
  },
  {
   "cell_type": "code",
   "execution_count": 17,
   "metadata": {},
   "outputs": [],
   "source": [
    "path = Path(\"analysis_1\")\n",
    "path.mkdir(exist_ok=True)"
   ]
  },
  {
   "cell_type": "markdown",
   "metadata": {},
   "source": [
    "And then write the maps and IRFs to disk by calling the dedicated `write()` method:"
   ]
  },
  {
   "cell_type": "code",
   "execution_count": 18,
   "metadata": {},
   "outputs": [],
   "source": [
    "filename = path / \"crab-stacked-dataset.fits.gz\"\n",
    "analysis.datasets[0].write(filename, overwrite=True)"
   ]
  },
  {
   "cell_type": "markdown",
   "metadata": {},
   "source": [
    "## Model fitting\n",
    "\n",
    "Now we define a model to be fitted to the dataset. Here we use its YAML definition to load it:"
   ]
  },
  {
   "cell_type": "code",
   "execution_count": 19,
   "metadata": {},
   "outputs": [],
   "source": [
    "model_config = \"\"\"\n",
    "components:\n",
    "- name: crab\n",
    "  type: SkyModel\n",
    "  spatial:\n",
    "    type: PointSpatialModel\n",
    "    frame: icrs\n",
    "    parameters:\n",
    "    - name: lon_0\n",
    "      value: 83.4\n",
    "      unit: deg\n",
    "      max: 83.5\n",
    "    - name: lat_0 \n",
    "      value: 22.014    \n",
    "      unit: deg\n",
    "  spectral:\n",
    "    type: PowerLawSpectralModel\n",
    "    parameters:\n",
    "    - name: amplitude      \n",
    "      value: 1.0e-12\n",
    "      unit: cm-2 s-1 TeV-1\n",
    "    - name: index\n",
    "      value: 2.0\n",
    "      unit: ''\n",
    "    - name: reference\n",
    "      value: 1.0\n",
    "      unit: TeV\n",
    "      frozen: true\n",
    "\"\"\""
   ]
  },
  {
   "cell_type": "markdown",
   "metadata": {},
   "source": [
    "Now we set the model on the analysis object:"
   ]
  },
  {
   "cell_type": "code",
   "execution_count": 20,
   "metadata": {},
   "outputs": [
    {
     "name": "stderr",
     "output_type": "stream",
     "text": [
      "Reading model.\n",
      "Models\n",
      "\n",
      "Component 0: SkyModel\n",
      "\n",
      "  Name                      : crab\n",
      "  Datasets names            : None\n",
      "  Spectral model type       : PowerLawSpectralModel\n",
      "  Spatial  model type       : PointSpatialModel\n",
      "  Temporal model type       : None\n",
      "  Parameters:\n",
      "    index                   :   2.000              \n",
      "    amplitude               :   1.00e-12  1 / (cm2 s TeV)\n",
      "    reference    (frozen)   :   1.000  TeV         \n",
      "    lon_0                   :  83.400  deg         \n",
      "    lat_0                   :  22.014  deg         \n",
      "\n",
      "\n"
     ]
    }
   ],
   "source": [
    "analysis.set_models(model_config)"
   ]
  },
  {
   "cell_type": "markdown",
   "metadata": {},
   "source": [
    "Finally we run the fit:"
   ]
  },
  {
   "cell_type": "code",
   "execution_count": 21,
   "metadata": {},
   "outputs": [
    {
     "data": {
      "text/html": [
       "<i>Table length=5</i>\n",
       "<table id=\"table140472910976056\" class=\"table-striped table-bordered table-condensed\">\n",
       "<thead><tr><th>name</th><th>value</th><th>unit</th><th>min</th><th>max</th><th>frozen</th><th>error</th></tr></thead>\n",
       "<thead><tr><th>str9</th><th>float64</th><th>str14</th><th>float64</th><th>float64</th><th>bool</th><th>int64</th></tr></thead>\n",
       "<tr><td>index</td><td>2.000e+00</td><td></td><td>nan</td><td>nan</td><td>False</td><td>0.000e+00</td></tr>\n",
       "<tr><td>amplitude</td><td>1.000e-12</td><td>cm-2 s-1 TeV-1</td><td>nan</td><td>nan</td><td>False</td><td>0.000e+00</td></tr>\n",
       "<tr><td>reference</td><td>1.000e+00</td><td>TeV</td><td>nan</td><td>nan</td><td>True</td><td>0.000e+00</td></tr>\n",
       "<tr><td>lon_0</td><td>8.340e+01</td><td>deg</td><td>nan</td><td>8.350e+01</td><td>False</td><td>0.000e+00</td></tr>\n",
       "<tr><td>lat_0</td><td>2.201e+01</td><td>deg</td><td>nan</td><td>nan</td><td>False</td><td>0.000e+00</td></tr>\n",
       "</table>"
      ],
      "text/plain": [
       "<Table length=5>\n",
       "   name     value        unit        min      max    frozen   error  \n",
       "   str9    float64      str14      float64  float64   bool    int64  \n",
       "--------- --------- -------------- ------- --------- ------ ---------\n",
       "    index 2.000e+00                    nan       nan  False 0.000e+00\n",
       "amplitude 1.000e-12 cm-2 s-1 TeV-1     nan       nan  False 0.000e+00\n",
       "reference 1.000e+00            TeV     nan       nan   True 0.000e+00\n",
       "    lon_0 8.340e+01            deg     nan 8.350e+01  False 0.000e+00\n",
       "    lat_0 2.201e+01            deg     nan       nan  False 0.000e+00"
      ]
     },
     "execution_count": 21,
     "metadata": {},
     "output_type": "execute_result"
    }
   ],
   "source": [
    "analysis.models[0].parameters.to_table()"
   ]
  },
  {
   "cell_type": "code",
   "execution_count": 22,
   "metadata": {},
   "outputs": [
    {
     "name": "stderr",
     "output_type": "stream",
     "text": [
      "Fitting datasets.\n",
      "/home/luca/gammapy/gammapy/modeling/parameter.py:212: RuntimeWarning: Setting parameter 'lon_0' value 83.49999999993899 near or outside bounds [nan, 83.5]\n",
      "  self._check_value_within_bounds()\n",
      "OptimizeResult\n",
      "\n",
      "\tbackend    : minuit\n",
      "\tmethod     : minuit\n",
      "\tsuccess    : True\n",
      "\tmessage    : Optimization terminated successfully.\n",
      "\tnfev       : 274\n",
      "\ttotal stat : 20845.66\n",
      "\n"
     ]
    }
   ],
   "source": [
    "analysis.run_fit()"
   ]
  },
  {
   "cell_type": "code",
   "execution_count": 23,
   "metadata": {},
   "outputs": [
    {
     "name": "stdout",
     "output_type": "stream",
     "text": [
      "OptimizeResult\n",
      "\n",
      "\tbackend    : minuit\n",
      "\tmethod     : minuit\n",
      "\tsuccess    : True\n",
      "\tmessage    : Optimization terminated successfully.\n",
      "\tnfev       : 274\n",
      "\ttotal stat : 20845.66\n",
      "\n"
     ]
    }
   ],
   "source": [
    "print(analysis.fit_result)"
   ]
  },
  {
   "cell_type": "code",
   "execution_count": 24,
   "metadata": {},
   "outputs": [
    {
     "data": {
      "text/html": [
       "<i>Table length=5</i>\n",
       "<table id=\"table140472910036832\" class=\"table-striped table-bordered table-condensed\">\n",
       "<thead><tr><th>name</th><th>value</th><th>unit</th><th>min</th><th>max</th><th>frozen</th><th>error</th></tr></thead>\n",
       "<thead><tr><th>str9</th><th>float64</th><th>str14</th><th>float64</th><th>float64</th><th>bool</th><th>float64</th></tr></thead>\n",
       "<tr><td>index</td><td>2.684e+00</td><td></td><td>nan</td><td>nan</td><td>False</td><td>1.338e-01</td></tr>\n",
       "<tr><td>amplitude</td><td>3.891e-11</td><td>cm-2 s-1 TeV-1</td><td>nan</td><td>nan</td><td>False</td><td>3.841e-12</td></tr>\n",
       "<tr><td>reference</td><td>1.000e+00</td><td>TeV</td><td>nan</td><td>nan</td><td>True</td><td>0.000e+00</td></tr>\n",
       "<tr><td>lon_0</td><td>8.350e+01</td><td>deg</td><td>nan</td><td>8.350e+01</td><td>False</td><td>1.638e-07</td></tr>\n",
       "<tr><td>lat_0</td><td>2.203e+01</td><td>deg</td><td>nan</td><td>nan</td><td>False</td><td>5.005e-03</td></tr>\n",
       "</table>"
      ],
      "text/plain": [
       "<Table length=5>\n",
       "   name     value        unit        min      max    frozen   error  \n",
       "   str9    float64      str14      float64  float64   bool   float64 \n",
       "--------- --------- -------------- ------- --------- ------ ---------\n",
       "    index 2.684e+00                    nan       nan  False 1.338e-01\n",
       "amplitude 3.891e-11 cm-2 s-1 TeV-1     nan       nan  False 3.841e-12\n",
       "reference 1.000e+00            TeV     nan       nan   True 0.000e+00\n",
       "    lon_0 8.350e+01            deg     nan 8.350e+01  False 1.638e-07\n",
       "    lat_0 2.203e+01            deg     nan       nan  False 5.005e-03"
      ]
     },
     "execution_count": 24,
     "metadata": {},
     "output_type": "execute_result"
    }
   ],
   "source": [
    "analysis.models[0].parameters.to_table()"
   ]
  },
  {
   "cell_type": "code",
   "execution_count": null,
   "metadata": {},
   "outputs": [],
   "source": []
  }
 ],
 "metadata": {
  "kernelspec": {
   "display_name": "Python 3",
   "language": "python",
   "name": "python3"
  },
  "language_info": {
   "codemirror_mode": {
    "name": "ipython",
    "version": 3
   },
   "file_extension": ".py",
   "mimetype": "text/x-python",
   "name": "python",
   "nbconvert_exporter": "python",
   "pygments_lexer": "ipython3",
   "version": "3.7.0"
  },
  "widgets": {
   "application/vnd.jupyter.widget-state+json": {
    "state": {
     "0cf587ade84c4007927048e750bc6292": {
      "model_module": "@jupyter-widgets/controls",
      "model_module_version": "1.5.0",
      "model_name": "DescriptionStyleModel",
      "state": {
       "_model_module": "@jupyter-widgets/controls",
       "_model_module_version": "1.5.0",
       "_model_name": "DescriptionStyleModel",
       "_view_count": null,
       "_view_module": "@jupyter-widgets/base",
       "_view_module_version": "1.2.0",
       "_view_name": "StyleView",
       "description_width": "initial"
      }
     },
     "1416b657b44f4ac7bb08d44f7bb9f991": {
      "model_module": "@jupyter-widgets/base",
      "model_module_version": "1.2.0",
      "model_name": "LayoutModel",
      "state": {
       "_model_module": "@jupyter-widgets/base",
       "_model_module_version": "1.2.0",
       "_model_name": "LayoutModel",
       "_view_count": null,
       "_view_module": "@jupyter-widgets/base",
       "_view_module_version": "1.2.0",
       "_view_name": "LayoutView",
       "align_content": null,
       "align_items": null,
       "align_self": null,
       "border": null,
       "bottom": null,
       "display": null,
       "flex": null,
       "flex_flow": null,
       "grid_area": null,
       "grid_auto_columns": null,
       "grid_auto_flow": null,
       "grid_auto_rows": null,
       "grid_column": null,
       "grid_gap": null,
       "grid_row": null,
       "grid_template_areas": null,
       "grid_template_columns": null,
       "grid_template_rows": null,
       "height": null,
       "justify_content": null,
       "justify_items": null,
       "left": null,
       "margin": null,
       "max_height": null,
       "max_width": null,
       "min_height": null,
       "min_width": null,
       "object_fit": null,
       "object_position": null,
       "order": null,
       "overflow": null,
       "overflow_x": null,
       "overflow_y": null,
       "padding": null,
       "right": null,
       "top": null,
       "visibility": null,
       "width": null
      }
     },
     "25cf7a186350491ab1085df1c1593315": {
      "model_module": "@jupyter-widgets/controls",
      "model_module_version": "1.5.0",
      "model_name": "RadioButtonsModel",
      "state": {
       "_dom_classes": [],
       "_model_module": "@jupyter-widgets/controls",
       "_model_module_version": "1.5.0",
       "_model_name": "RadioButtonsModel",
       "_options_labels": [
        "linear",
        "sqrt",
        "log"
       ],
       "_view_count": null,
       "_view_module": "@jupyter-widgets/controls",
       "_view_module_version": "1.5.0",
       "_view_name": "RadioButtonsView",
       "description": "Select stretch:",
       "description_tooltip": null,
       "disabled": false,
       "index": 1,
       "layout": "IPY_MODEL_4dec76e5bf084cf490b298615ce29203",
       "style": "IPY_MODEL_c360071495e048b2aca6c16a6568fd96"
      }
     },
     "2faefcd22b1a48049c4f77bb48c3760f": {
      "model_module": "@jupyter-widgets/output",
      "model_module_version": "1.0.0",
      "model_name": "OutputModel",
      "state": {
       "_dom_classes": [],
       "_model_module": "@jupyter-widgets/output",
       "_model_module_version": "1.0.0",
       "_model_name": "OutputModel",
       "_view_count": null,
       "_view_module": "@jupyter-widgets/output",
       "_view_module_version": "1.0.0",
       "_view_name": "OutputView",
       "layout": "IPY_MODEL_9519238dc057428e864cff12ac8f5a1e",
       "msg_id": "",
       "outputs": []
      }
     },
     "3775478a8fa24aaaa44ddded3fb81d65": {
      "model_module": "@jupyter-widgets/controls",
      "model_module_version": "1.5.0",
      "model_name": "SelectionSliderModel",
      "state": {
       "_dom_classes": [],
       "_model_module": "@jupyter-widgets/controls",
       "_model_module_version": "1.5.0",
       "_model_name": "SelectionSliderModel",
       "_options_labels": [
        "1.00e+00 TeV - 1.26e+00 TeV TeV",
        "1.26e+00 TeV - 1.58e+00 TeV TeV",
        "1.58e+00 TeV - 2.00e+00 TeV TeV",
        "2.00e+00 TeV - 2.51e+00 TeV TeV",
        "2.51e+00 TeV - 3.16e+00 TeV TeV",
        "3.16e+00 TeV - 3.98e+00 TeV TeV",
        "3.98e+00 TeV - 5.01e+00 TeV TeV",
        "5.01e+00 TeV - 6.31e+00 TeV TeV",
        "6.31e+00 TeV - 7.94e+00 TeV TeV",
        "7.94e+00 TeV - 1.00e+01 TeV TeV"
       ],
       "_view_count": null,
       "_view_module": "@jupyter-widgets/controls",
       "_view_module_version": "1.5.0",
       "_view_name": "SelectionSliderView",
       "continuous_update": false,
       "description": "Select energy:",
       "description_tooltip": null,
       "disabled": false,
       "index": 0,
       "layout": "IPY_MODEL_4346fce106fc4236b9ba5f0ef7eac4ab",
       "orientation": "horizontal",
       "readout": true,
       "style": "IPY_MODEL_0cf587ade84c4007927048e750bc6292"
      }
     },
     "4346fce106fc4236b9ba5f0ef7eac4ab": {
      "model_module": "@jupyter-widgets/base",
      "model_module_version": "1.2.0",
      "model_name": "LayoutModel",
      "state": {
       "_model_module": "@jupyter-widgets/base",
       "_model_module_version": "1.2.0",
       "_model_name": "LayoutModel",
       "_view_count": null,
       "_view_module": "@jupyter-widgets/base",
       "_view_module_version": "1.2.0",
       "_view_name": "LayoutView",
       "align_content": null,
       "align_items": null,
       "align_self": null,
       "border": null,
       "bottom": null,
       "display": null,
       "flex": null,
       "flex_flow": null,
       "grid_area": null,
       "grid_auto_columns": null,
       "grid_auto_flow": null,
       "grid_auto_rows": null,
       "grid_column": null,
       "grid_gap": null,
       "grid_row": null,
       "grid_template_areas": null,
       "grid_template_columns": null,
       "grid_template_rows": null,
       "height": null,
       "justify_content": null,
       "justify_items": null,
       "left": null,
       "margin": null,
       "max_height": null,
       "max_width": null,
       "min_height": null,
       "min_width": null,
       "object_fit": null,
       "object_position": null,
       "order": null,
       "overflow": null,
       "overflow_x": null,
       "overflow_y": null,
       "padding": null,
       "right": null,
       "top": null,
       "visibility": null,
       "width": "50%"
      }
     },
     "4dec76e5bf084cf490b298615ce29203": {
      "model_module": "@jupyter-widgets/base",
      "model_module_version": "1.2.0",
      "model_name": "LayoutModel",
      "state": {
       "_model_module": "@jupyter-widgets/base",
       "_model_module_version": "1.2.0",
       "_model_name": "LayoutModel",
       "_view_count": null,
       "_view_module": "@jupyter-widgets/base",
       "_view_module_version": "1.2.0",
       "_view_name": "LayoutView",
       "align_content": null,
       "align_items": null,
       "align_self": null,
       "border": null,
       "bottom": null,
       "display": null,
       "flex": null,
       "flex_flow": null,
       "grid_area": null,
       "grid_auto_columns": null,
       "grid_auto_flow": null,
       "grid_auto_rows": null,
       "grid_column": null,
       "grid_gap": null,
       "grid_row": null,
       "grid_template_areas": null,
       "grid_template_columns": null,
       "grid_template_rows": null,
       "height": null,
       "justify_content": null,
       "justify_items": null,
       "left": null,
       "margin": null,
       "max_height": null,
       "max_width": null,
       "min_height": null,
       "min_width": null,
       "object_fit": null,
       "object_position": null,
       "order": null,
       "overflow": null,
       "overflow_x": null,
       "overflow_y": null,
       "padding": null,
       "right": null,
       "top": null,
       "visibility": null,
       "width": null
      }
     },
     "69bfd142af5d454183d82d8f51fc52c5": {
      "model_module": "@jupyter-widgets/controls",
      "model_module_version": "1.5.0",
      "model_name": "VBoxModel",
      "state": {
       "_dom_classes": [
        "widget-interact"
       ],
       "_model_module": "@jupyter-widgets/controls",
       "_model_module_version": "1.5.0",
       "_model_name": "VBoxModel",
       "_view_count": null,
       "_view_module": "@jupyter-widgets/controls",
       "_view_module_version": "1.5.0",
       "_view_name": "VBoxView",
       "box_style": "",
       "children": [
        "IPY_MODEL_3775478a8fa24aaaa44ddded3fb81d65",
        "IPY_MODEL_25cf7a186350491ab1085df1c1593315",
        "IPY_MODEL_2faefcd22b1a48049c4f77bb48c3760f"
       ],
       "layout": "IPY_MODEL_1416b657b44f4ac7bb08d44f7bb9f991"
      }
     },
     "9519238dc057428e864cff12ac8f5a1e": {
      "model_module": "@jupyter-widgets/base",
      "model_module_version": "1.2.0",
      "model_name": "LayoutModel",
      "state": {
       "_model_module": "@jupyter-widgets/base",
       "_model_module_version": "1.2.0",
       "_model_name": "LayoutModel",
       "_view_count": null,
       "_view_module": "@jupyter-widgets/base",
       "_view_module_version": "1.2.0",
       "_view_name": "LayoutView",
       "align_content": null,
       "align_items": null,
       "align_self": null,
       "border": null,
       "bottom": null,
       "display": null,
       "flex": null,
       "flex_flow": null,
       "grid_area": null,
       "grid_auto_columns": null,
       "grid_auto_flow": null,
       "grid_auto_rows": null,
       "grid_column": null,
       "grid_gap": null,
       "grid_row": null,
       "grid_template_areas": null,
       "grid_template_columns": null,
       "grid_template_rows": null,
       "height": null,
       "justify_content": null,
       "justify_items": null,
       "left": null,
       "margin": null,
       "max_height": null,
       "max_width": null,
       "min_height": null,
       "min_width": null,
       "object_fit": null,
       "object_position": null,
       "order": null,
       "overflow": null,
       "overflow_x": null,
       "overflow_y": null,
       "padding": null,
       "right": null,
       "top": null,
       "visibility": null,
       "width": null
      }
     },
     "c360071495e048b2aca6c16a6568fd96": {
      "model_module": "@jupyter-widgets/controls",
      "model_module_version": "1.5.0",
      "model_name": "DescriptionStyleModel",
      "state": {
       "_model_module": "@jupyter-widgets/controls",
       "_model_module_version": "1.5.0",
       "_model_name": "DescriptionStyleModel",
       "_view_count": null,
       "_view_module": "@jupyter-widgets/base",
       "_view_module_version": "1.2.0",
       "_view_name": "StyleView",
       "description_width": "initial"
      }
     }
    },
    "version_major": 2,
    "version_minor": 0
   }
  }
 },
 "nbformat": 4,
 "nbformat_minor": 4
}
