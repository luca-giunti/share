{
 "cells": [
  {
   "cell_type": "code",
   "execution_count": 1,
   "id": "3fb61e87-3813-4acd-ac31-6ff0192d0f1c",
   "metadata": {},
   "outputs": [],
   "source": [
    "from gammapy.modeling import Parameter"
   ]
  },
  {
   "cell_type": "code",
   "execution_count": 2,
   "id": "7aec228e-4b25-4f77-a203-93d1b8414b7e",
   "metadata": {},
   "outputs": [],
   "source": [
    "class LinkedParameter(Parameter):\n",
    "    def __init__(self, par1, par2):\n",
    "        self.par1 = par1\n",
    "        self.par2 = par2\n",
    "        self.check_units()\n",
    "        self._value2 = par2.value\n",
    "        \n",
    "        super().__init__(\n",
    "            self.par1.name, \n",
    "            self._value2, \n",
    "            self.par1.unit\n",
    "        )\n",
    "\n",
    "    def check_units(self):\n",
    "        pass\n",
    "       \n",
    "    def update(self):\n",
    "        if self.par2.value != self._value2:\n",
    "            self._value2 = self.par2.value\n",
    "            self.value = self._value2\n",
    "        \n",
    "    @property\n",
    "    def value(self):\n",
    "        \"\"\"Factor (float).\"\"\"\n",
    "        self.update()\n",
    "        return self._value2\n",
    "        \n",
    "    @value.setter\n",
    "    def value(self, val):\n",
    "        self.factor = float(val) / self._scale"
   ]
  },
  {
   "cell_type": "code",
   "execution_count": 3,
   "id": "139c6fe7-7934-4030-ac60-95f9d36ffe98",
   "metadata": {},
   "outputs": [],
   "source": [
    "def __set__(self, instance, value):\n",
    "    if isinstance(value, Parameter) and self.unit.is_equivalent(value.unit):\n",
    "        if self.name == value.name:\n",
    "            instance.__dict__[self.name] = value\n",
    "        else:\n",
    "            instance.__dict__[self.name] = LinkedParameter(self, value)            \n",
    "    else:\n",
    "        par = instance.__dict__[self.name]\n",
    "        raise TypeError(f\"Cannot assign {value!r} to parameter {par!r}\")\n",
    "Parameter.__set__ = __set__"
   ]
  },
  {
   "cell_type": "code",
   "execution_count": 4,
   "id": "a3d7770d-e617-4fa8-8ef9-97bb1b1e4216",
   "metadata": {},
   "outputs": [
    {
     "ename": "TypeError",
     "evalue": "Cannot assign Parameter(name='amplitude', value=1e-12, factor=1e-12, scale=1.0, unit=Unit(\"1 / (cm2 s TeV)\"), min=nan, max=nan, frozen=False, id=0x7f542e320460) to parameter Parameter(name='index1', value=2.0, factor=2.0, scale=1.0, unit=Unit(dimensionless), min=nan, max=nan, frozen=False, id=0x7f542e320a00)",
     "output_type": "error",
     "traceback": [
      "\u001b[0;31m---------------------------------------------------------------------------\u001b[0m",
      "\u001b[0;31mTypeError\u001b[0m                                 Traceback (most recent call last)",
      "Input \u001b[0;32mIn [4]\u001b[0m, in \u001b[0;36m<cell line: 4>\u001b[0;34m()\u001b[0m\n\u001b[1;32m      2\u001b[0m \u001b[38;5;28;01mfrom\u001b[39;00m \u001b[38;5;21;01mgammapy\u001b[39;00m\u001b[38;5;21;01m.\u001b[39;00m\u001b[38;5;21;01mmodeling\u001b[39;00m\u001b[38;5;21;01m.\u001b[39;00m\u001b[38;5;21;01mmodels\u001b[39;00m \u001b[38;5;28;01mimport\u001b[39;00m BrokenPowerLawSpectralModel\n\u001b[1;32m      3\u001b[0m model \u001b[38;5;241m=\u001b[39m BrokenPowerLawSpectralModel()\n\u001b[0;32m----> 4\u001b[0m \u001b[43mmodel\u001b[49m\u001b[38;5;241;43m.\u001b[39;49m\u001b[43mindex1\u001b[49m \u001b[38;5;241m=\u001b[39m model\u001b[38;5;241m.\u001b[39mamplitude\n\u001b[1;32m      5\u001b[0m model\u001b[38;5;241m.\u001b[39mindex1\n",
      "Input \u001b[0;32mIn [3]\u001b[0m, in \u001b[0;36m__set__\u001b[0;34m(self, instance, value)\u001b[0m\n\u001b[1;32m      7\u001b[0m \u001b[38;5;28;01melse\u001b[39;00m:\n\u001b[1;32m      8\u001b[0m     par \u001b[38;5;241m=\u001b[39m instance\u001b[38;5;241m.\u001b[39m\u001b[38;5;18m__dict__\u001b[39m[\u001b[38;5;28mself\u001b[39m\u001b[38;5;241m.\u001b[39mname]\n\u001b[0;32m----> 9\u001b[0m     \u001b[38;5;28;01mraise\u001b[39;00m \u001b[38;5;167;01mTypeError\u001b[39;00m(\u001b[38;5;124mf\u001b[39m\u001b[38;5;124m\"\u001b[39m\u001b[38;5;124mCannot assign \u001b[39m\u001b[38;5;132;01m{\u001b[39;00mvalue\u001b[38;5;132;01m!r}\u001b[39;00m\u001b[38;5;124m to parameter \u001b[39m\u001b[38;5;132;01m{\u001b[39;00mpar\u001b[38;5;132;01m!r}\u001b[39;00m\u001b[38;5;124m\"\u001b[39m)\n",
      "\u001b[0;31mTypeError\u001b[0m: Cannot assign Parameter(name='amplitude', value=1e-12, factor=1e-12, scale=1.0, unit=Unit(\"1 / (cm2 s TeV)\"), min=nan, max=nan, frozen=False, id=0x7f542e320460) to parameter Parameter(name='index1', value=2.0, factor=2.0, scale=1.0, unit=Unit(dimensionless), min=nan, max=nan, frozen=False, id=0x7f542e320a00)"
     ]
    }
   ],
   "source": [
    "# THIS SHOULD FAIL (UNITS DO NOT MATCH)\n",
    "from gammapy.modeling.models import BrokenPowerLawSpectralModel\n",
    "model = BrokenPowerLawSpectralModel()\n",
    "model.index1 = model.amplitude\n",
    "model.index1"
   ]
  },
  {
   "cell_type": "code",
   "execution_count": 5,
   "id": "86e7c7e7-548b-4932-9da3-e78b375a4508",
   "metadata": {},
   "outputs": [
    {
     "data": {
      "text/plain": [
       "LinkedParameter(name='index1', value=3.0, factor=3.0, scale=1.0, unit=Unit(dimensionless), min=nan, max=nan, frozen=False, id=0x7f543c5307f0)"
      ]
     },
     "execution_count": 5,
     "metadata": {},
     "output_type": "execute_result"
    }
   ],
   "source": [
    "# THIS SHOULD NOT FAIL \n",
    "from gammapy.modeling.models import BrokenPowerLawSpectralModel, PowerLawSpectralModel\n",
    "model1 = BrokenPowerLawSpectralModel(index1=2)\n",
    "model2 = PowerLawSpectralModel(index=3)\n",
    "model1.index1 = model2.index\n",
    "model1.index1"
   ]
  },
  {
   "cell_type": "markdown",
   "id": "d0b9adae-bb6a-4afe-873b-67183d7db17c",
   "metadata": {},
   "source": [
    "Check that the parameters are correctly linked"
   ]
  },
  {
   "cell_type": "code",
   "execution_count": 6,
   "id": "e02b4b96-50fc-420c-b6a2-1db02427adb5",
   "metadata": {},
   "outputs": [
    {
     "data": {
      "text/plain": [
       "LinkedParameter(name='index1', value=18.0, factor=18.0, scale=1.0, unit=Unit(dimensionless), min=nan, max=nan, frozen=False, id=0x7f543c5307f0)"
      ]
     },
     "execution_count": 6,
     "metadata": {},
     "output_type": "execute_result"
    }
   ],
   "source": [
    "model2.index.value = 18\n",
    "model1.index1"
   ]
  },
  {
   "cell_type": "code",
   "execution_count": null,
   "id": "c8b39d68-2be9-4b3f-988d-8f9ee58431e0",
   "metadata": {},
   "outputs": [],
   "source": []
  }
 ],
 "metadata": {
  "kernelspec": {
   "display_name": "Python 3 (ipykernel)",
   "language": "python",
   "name": "python3"
  },
  "language_info": {
   "codemirror_mode": {
    "name": "ipython",
    "version": 3
   },
   "file_extension": ".py",
   "mimetype": "text/x-python",
   "name": "python",
   "nbconvert_exporter": "python",
   "pygments_lexer": "ipython3",
   "version": "3.9.13"
  }
 },
 "nbformat": 4,
 "nbformat_minor": 5
}
