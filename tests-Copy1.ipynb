{
 "cells": [
  {
   "cell_type": "code",
   "execution_count": 1,
   "id": "f91700a4-8fbe-4e26-a0e3-46e8b6ca7fe3",
   "metadata": {},
   "outputs": [
    {
     "data": {
      "text/plain": [
       "'4.14.0'"
      ]
     },
     "execution_count": 1,
     "metadata": {},
     "output_type": "execute_result"
    }
   ],
   "source": [
    "import sherpa\n",
    "sherpa.__version__"
   ]
  },
  {
   "cell_type": "code",
   "execution_count": 2,
   "id": "4566a11b-e6cc-4c9a-9fe1-21d2dede72a8",
   "metadata": {},
   "outputs": [
    {
     "data": {
      "text/plain": [
       "'0.20.1'"
      ]
     },
     "execution_count": 2,
     "metadata": {},
     "output_type": "execute_result"
    }
   ],
   "source": [
    "import gammapy\n",
    "gammapy.__version__"
   ]
  },
  {
   "cell_type": "code",
   "execution_count": 3,
   "id": "9a6b6d00-c003-4e08-b929-d3b923913639",
   "metadata": {},
   "outputs": [],
   "source": [
    "import numpy as np\n",
    "import matplotlib.pyplot as plt\n",
    "import astropy.units as u"
   ]
  },
  {
   "cell_type": "raw",
   "id": "0ca43ae5-df9d-43e3-959c-abf7f886947a",
   "metadata": {},
   "source": [
    "from sherpa.astro.xspec import XSModel\n",
    "\n",
    "def integral(self, energy_min, energy_max, **kwargs):\n",
    "    if hasattr(self.sherpa_model, \"integral\"):\n",
    "        if sherpa_model.integrate:\n",
    "            integrate = True\n",
    "    elif isinstance(self.sherpa_model, XSModel):\n",
    "            integrate = True\n",
    "            \n",
    "    if integrate:\n",
    "        integral = self.sherpa_model(energy_min, energy_max)\n",
    "        return u.Quantity(integral, unit=\"cm-2 s-1\")\n",
    "    else:\n",
    "        return super().integral(self, energy_min, energy_max, **kwargs)"
   ]
  },
  {
   "cell_type": "code",
   "execution_count": 20,
   "id": "b91176cd-52b4-433b-938d-7642b062f2c7",
   "metadata": {},
   "outputs": [],
   "source": [
    "from gammapy.datasets import SpectrumDataset\n",
    "from gammapy.modeling.models import DatasetModels\n",
    "from gammapy.maps import RegionGeom, RegionNDMap, MapAxis\n",
    "\n",
    "class SherpaSpectrumDataset(SpectrumDataset):\n",
    "    \"\"\"\n",
    "    Parameters\n",
    "    ----------\n",
    "    data: `sherpa.data.Data` or `sherpa.data.DataSimulFit`\n",
    "        An instance of a sherpa.data data-derived class\n",
    "    stat: str or sherpa.stats.Stat instance\n",
    "        A fit statistic from sherpa.stats\n",
    "    \"\"\"\n",
    "    \n",
    "    tag = \"SherpaSpectrumDataset\"\n",
    "\n",
    "    # TODO: implement a model wrapper to fit any kind of Gammapy model (for now only sherpa models work)\n",
    "    # TODO: implement read methods\n",
    "    # TODO: handle the REGION and GTI information somewhere\n",
    "    # TODO: possibly add counts, bkg and IRFs as properties\n",
    "    # TODO: handle mask safe and mask fit somehow\n",
    "    # TODO: implement compute residuals\n",
    "    \n",
    "    def __init__(self, data, stat, **kwargs):\n",
    "        self.data = data\n",
    "        if isinstance(stat_type, str) and not stat_type in ui.list_stats():\n",
    "            raise ValueError(\"Invalid stat_type\")\n",
    "        self._stat = stat\n",
    "        super().__init__(**kwargs)\n",
    "            \n",
    "    @property\n",
    "    def _ebins(self):\n",
    "        lo, hi = self.data._get_ebins()\n",
    "        return lo, hi\n",
    "            \n",
    "    @property\n",
    "    def _energy_axis_reco(self):\n",
    "        \"\"\"Grouped reconstructed energy axis.\"\"\"\n",
    "        lo, hi = self._ebins\n",
    "        lo = lo[self.data.mask].squeeze()\n",
    "        hi = hi[self.data.mask].squeeze()\n",
    "        energy_edges = np.append(lo, hi[-1])\n",
    "        energy_edges = energy_edges\n",
    "        # TODO: is the unit always keV and the interp always \"lin\"?\n",
    "        return MapAxis.from_energy_edges(energy_edges, unit=u.keV, name=\"energy\", interp='lin')\n",
    "\n",
    "    @property\n",
    "    def _geom(self):\n",
    "        # TODO: read the region or pass it in init\n",
    "        return RegionGeom(region=None, axes=[self._energy_axis_reco])\n",
    "        \n",
    "    @property\n",
    "    def counts(self):\n",
    "        # TODO: read the units somehow. Hardcoded for now\n",
    "        data = self.data.get_y(filter=True)\n",
    "        return RegionNDMap.from_geom(\n",
    "            self._geom, \n",
    "            data=data, \n",
    "            unit='keV-1 s-1', \n",
    "        )\n",
    "    \n",
    "    @counts.setter\n",
    "    def counts(self, counts):\n",
    "        pass\n",
    "    \n",
    "    @property\n",
    "    def background(self):\n",
    "        # TODO: read the units somehow. Hardcoded for now\n",
    "        data = self.data.get_background().get_y(filter=True)\n",
    "        return RegionNDMap.from_geom(\n",
    "            self._geom, \n",
    "            data=data, \n",
    "            unit='keV-1 s-1', \n",
    "        )\n",
    "\n",
    "    @background.setter\n",
    "    def background(self, background):\n",
    "        pass\n",
    "\n",
    "    def npred_signal(self):\n",
    "        # TODO: read the units somehow. Hardcoded for now\n",
    "        energy = self._energy_axis_reco.edges[:-1]\n",
    "        data = self._sherpa_model(energy)\n",
    "        return RegionNDMap.from_geom(\n",
    "            self._geom, \n",
    "            data=data, \n",
    "            unit='keV-1 s-1', \n",
    "        )\n",
    "\n",
    "    @property\n",
    "    def _sherpa_model(self):\n",
    "        return self.models[0].sherpa_model\n",
    "    \n",
    "    @property\n",
    "    def models(self):\n",
    "        return self._models\n",
    "        \n",
    "    @models.setter\n",
    "    def models(self, models):\n",
    "        \"\"\"Models setter. For now only sherpa-derived models (`sherpa.models.model.Model` or \n",
    "        `sherpa.models.model.SimulFitModel`) are supported\"\"\"\n",
    "        if models is not None:\n",
    "            models = DatasetModels(models)\n",
    "            models = models.select(datasets_names=self.name)\n",
    "\n",
    "        self._models = models   \n",
    "               \n",
    "    def notice(self, lo, hi, ignore=False):\n",
    "        # TODO: implement mask safe and mask fit accordingly\n",
    "        self.data.notice(lo, hi, ignore)\n",
    "        \n",
    "    @property\n",
    "    def stat(self):\n",
    "        \"\"\"Fit statistic\"\"\"\n",
    "        return self._stat\n",
    "    \n",
    "    @stat.setter\n",
    "    def stat(self, stat):\n",
    "        \"\"\"Fit statistic setter\"\"\"\n",
    "        self._stat = stat\n",
    "\n",
    "    @property\n",
    "    def stat_type(self):\n",
    "        \"\"\"Fit statistic name\"\"\"\n",
    "        return self._stat.name\n",
    "\n",
    "    def _calc_stat(self):\n",
    "        stat_sum, stat_array = self.stat.calc_stat(self.data, self.models[0])\n",
    "        return stat_sum, stat_array\n",
    "    \n",
    "    def stat_sum(self):\n",
    "        \"\"\"Total statistic given the current model parameters.\"\"\"\n",
    "        return float(self._calc_stat()[0])\n",
    "\n",
    "    def stat_array(self):\n",
    "        \"\"\"Likelihood per bin given the current model parameters\"\"\"\n",
    "        return self._calc_stat()[0].astype(float)"
   ]
  },
  {
   "cell_type": "code",
   "execution_count": 21,
   "id": "9ce0538c-8854-4add-ba1f-6df8cd21a6e7",
   "metadata": {},
   "outputs": [
    {
     "data": {
      "text/plain": [
       "array([3, 4])"
      ]
     },
     "execution_count": 21,
     "metadata": {},
     "output_type": "execute_result"
    }
   ],
   "source": [
    "ll=np.array([3, 4, 5])\n",
    "ll[[True, True, False]]"
   ]
  },
  {
   "cell_type": "code",
   "execution_count": 22,
   "id": "f1dccb9f-bf53-47ab-b983-7fe431899c81",
   "metadata": {},
   "outputs": [
    {
     "name": "stdout",
     "output_type": "stream",
     "text": [
      "read ARF file XMM_test_files/MOS2_PWN.arf\n"
     ]
    },
    {
     "name": "stderr",
     "output_type": "stream",
     "text": [
      "/home/lucagiunti/miniconda3/envs/gammapyXrayNEW/lib/python3.9/site-packages/sherpa/astro/data.py:952: UserWarning: The minimum ENERG_LO in the ARF 'XMM_test_files/MOS2_PWN.arf' was 0 and has been replaced by 1e-10\n",
      "  warnings.warn(wmsg)\n"
     ]
    },
    {
     "name": "stdout",
     "output_type": "stream",
     "text": [
      "read RMF file XMM_test_files/MOS2_PWN.rmf\n"
     ]
    },
    {
     "name": "stderr",
     "output_type": "stream",
     "text": [
      "/home/lucagiunti/miniconda3/envs/gammapyXrayNEW/lib/python3.9/site-packages/sherpa/astro/data.py:952: UserWarning: The minimum ENERG_LO in the RMF 'XMM_test_files/MOS2_PWN.rmf' was 0 and has been replaced by 1e-10\n",
      "  warnings.warn(wmsg)\n"
     ]
    },
    {
     "name": "stdout",
     "output_type": "stream",
     "text": [
      "read background file XMM_test_files/MOS2_PWN_bkg.fits\n"
     ]
    }
   ],
   "source": [
    "from sherpa.astro.ui import unpack_pha\n",
    "data = unpack_pha(\"XMM_test_files/PN_PWN.grp\")"
   ]
  },
  {
   "cell_type": "code",
   "execution_count": 23,
   "id": "0938fa7f-8623-496a-ae82-d16ef21f1a92",
   "metadata": {},
   "outputs": [],
   "source": [
    "from sherpa.stats import LeastSq\n",
    "stat_type = LeastSq()"
   ]
  },
  {
   "cell_type": "code",
   "execution_count": 24,
   "id": "4b551d05-6c4a-486c-8275-98daa20a9d91",
   "metadata": {},
   "outputs": [],
   "source": [
    "dataset = SherpaSpectrumDataset(data, stat_type)"
   ]
  },
  {
   "cell_type": "code",
   "execution_count": 9,
   "id": "efb2c6f7-9fc1-445e-8016-461264a5f75f",
   "metadata": {},
   "outputs": [
    {
     "data": {
      "text/plain": [
       "<AxesSubplot: xlabel='Energy [keV]', ylabel='$\\\\mathrm{keV^{-1}\\\\,s^{-1}}$'>"
      ]
     },
     "execution_count": 9,
     "metadata": {},
     "output_type": "execute_result"
    },
    {
     "data": {
      "image/png": "[encoded data removed]",
      "text/plain": [
       "<Figure size 640x480 with 1 Axes>"
      ]
     },
     "metadata": {},
     "output_type": "display_data"
    }
   ],
   "source": [
    "dataset.counts.plot(color=\"k\")\n",
    "dataset.background.plot(color=\"r\")"
   ]
  },
  {
   "cell_type": "code",
   "execution_count": 10,
   "id": "864b40d0-9f1d-4f7b-a77a-159062d25d5d",
   "metadata": {},
   "outputs": [],
   "source": [
    "dataset.notice(2, 8, ignore=False)"
   ]
  },
  {
   "cell_type": "code",
   "execution_count": 11,
   "id": "2fac3d97-c099-4f19-af8a-ec938a16cd6d",
   "metadata": {},
   "outputs": [
    {
     "data": {
      "text/plain": [
       "<AxesSubplot: xlabel='Energy [keV]', ylabel='$\\\\mathrm{keV^{-1}\\\\,s^{-1}}$'>"
      ]
     },
     "execution_count": 11,
     "metadata": {},
     "output_type": "execute_result"
    },
    {
     "data": {
      "image/png": "[encoded data removed]",
      "text/plain": [
       "<Figure size 640x480 with 1 Axes>"
      ]
     },
     "metadata": {},
     "output_type": "display_data"
    }
   ],
   "source": [
    "dataset.counts.plot(color=\"k\")\n",
    "dataset.background.plot(color=\"r\")"
   ]
  },
  {
   "cell_type": "code",
   "execution_count": 12,
   "id": "e8cbdcc4-a2d0-4d04-accd-339955de7c38",
   "metadata": {},
   "outputs": [],
   "source": [
    "import astropy.units as u\n",
    "import numpy as np\n",
    "from gammapy.modeling.models import SpectralModel\n",
    "from gammapy.modeling import Parameter, Parameters\n",
    "from sherpa.models import BinaryOpModel\n",
    "\n",
    "class SherpaSpectralModel(SpectralModel):\n",
    "    \"\"\"A wrapper for Sherpa spectral models.\n",
    "    Parameters\n",
    "    ----------\n",
    "    sherpa_model :\n",
    "        An instance of the models defined in `~sherpa.models` or `~sherpa.astro.xspec`.\n",
    "    default_units : tuple\n",
    "        Units of the input energy array and output model evaluation (find them in the sherpa/xspec docs!)\n",
    "    \"\"\"\n",
    "\n",
    "    tag = [\"SherpaSpectralModel\", \"sherpa\", \"xspec\"]\n",
    "\n",
    "    def __init__(\n",
    "        self, sherpa_model\n",
    "    ):\n",
    "        self.name=\"test\"\n",
    "        self.datasets_names = None\n",
    "        self.sherpa_model = sherpa_model\n",
    "        self.default_parameters = self._wrap_parameters()\n",
    "        super().__init__()\n",
    "    \n",
    "    @property\n",
    "    def ndim(self):\n",
    "        return self.sherpa_model.ndim\n",
    "    \n",
    "    @property\n",
    "    def pars(self):\n",
    "        return self.sherpa_model.pars\n",
    "\n",
    "    @property\n",
    "    def is_discrete(self):\n",
    "        return self.sherpa_model.is_discrete\n",
    "\n",
    "    def _wrap_parameters(self):\n",
    "        \"Wraps sherpa model parameters into a gammapy Parameters object\"\n",
    "        parameters = []\n",
    "        for par in self.sherpa_model.pars:\n",
    "            is_norm = par.name in [\"ampl\", \"norm\", \"K\"]\n",
    "            parameter = Parameter(name=par.name, value=par.val, frozen=par.frozen, is_norm=is_norm)\n",
    "            # TODO: set unit?\n",
    "            parameters.append(parameter)\n",
    "        return Parameters(parameters)\n",
    "       \n",
    "    def _update_sherpa_parameters(self):\n",
    "        \"\"\"Update sherpa model parameters\"\"\"\n",
    "        for idx, par in enumerate(self.parameters):\n",
    "            self.sherpa_model.pars[idx].val = par.value\n",
    "    \n",
    "    def __call__(self, *args, **kwargs):\n",
    "        self._update_sherpa_parameters()\n",
    "        return self.sherpa_model.__call__(*args, **kwargs)"
   ]
  },
  {
   "cell_type": "code",
   "execution_count": 32,
   "id": "f0a502b0-c3fc-4b19-95af-7b091e436c6d",
   "metadata": {},
   "outputs": [],
   "source": [
    "from sherpa.models.basic import PowLaw1D\n",
    "from sherpa.astro.xspec import XSTBabs\n",
    "pl = PowLaw1D()\n",
    "pl.gamma.val = 2\n",
    "pl.ampl.val = 7e-2\n",
    "tbabs = XSTBabs()\n",
    "model = pl*tbabs"
   ]
  },
  {
   "cell_type": "code",
   "execution_count": 33,
   "id": "adcecb37-b6b7-4b2a-ab4a-e4d158b5fd30",
   "metadata": {},
   "outputs": [],
   "source": [
    "wrapped_model = SherpaSpectralModel(model)\n",
    "wrapped_model.nH.frozen = True"
   ]
  },
  {
   "cell_type": "code",
   "execution_count": 15,
   "id": "eff1a291-d6fe-4411-ac76-bf6a3d9a91ba",
   "metadata": {},
   "outputs": [
    {
     "data": {
      "text/html": [
       "<style>/*\n",
       "Copyright (C) 2020  Smithsonian Astrophysical Observatory\n",
       "\n",
       "\n",
       " This program is free software; you can redistribute it and/or modify\n",
       " it under the terms of the GNU General Public License as published by\n",
       " the Free Software Foundation; either version 3 of the License, or\n",
       " (at your option) any later version.\n",
       "\n",
       " This program is distributed in the hope that it will be useful,\n",
       " but WITHOUT ANY WARRANTY; without even the implied warranty of\n",
       " MERCHANTABILITY or FITNESS FOR A PARTICULAR PURPOSE.  See the\n",
       " GNU General Public License for more details.\n",
       "\n",
       " You should have received a copy of the GNU General Public License along\n",
       " with this program; if not, write to the Free Software Foundation, Inc.,\n",
       " 51 Franklin Street, Fifth Floor, Boston, MA 02110-1301 USA.\n",
       "\n",
       "*/\n",
       "\n",
       ":root {\n",
       "  --sherpa-border-color: var(--jp-border-color2, #e0e0e0);\n",
       "  --sherpa-background-color: var(--jp-layout-color0, white);\n",
       "  --sherpa-background-color-row-even: var(--jp-layout-color1, white);\n",
       "  --sherpa-background-color-row-odd: var(--jp-layout-color2, #eeeeee);\n",
       "\n",
       "  /* https://medium.com/ge-design/iot-cool-gray-is-a-great-background-color-for-data-visualization-ebf18c318418 */\n",
       "  --sherpa-background-color-dark1: #EBEFF2;\n",
       "  --sherpa-background-color-dark2: #D8E0E5;\n",
       "}\n",
       "\n",
       "div.sherpa-text-fallback {\n",
       "    display: none;\n",
       "}\n",
       "\n",
       "div.sherpa {\n",
       "    display: block;\n",
       "}\n",
       "\n",
       "div.sherpa details summary {\n",
       "    display: list-item;  /* needed for notebook, not lab */\n",
       "    font-size: larger;\n",
       "}\n",
       "\n",
       "div.sherpa details div.datavals {\n",
       "    display: grid;\n",
       "    grid-template-columns: 1fr 3fr;\n",
       "    column-gap: 0.5em;\n",
       "}\n",
       "\n",
       "div.sherpa div.dataname {\n",
       "    font-weight: bold;\n",
       "    border-right: 1px solid var(--sherpa-border-color);\n",
       "}\n",
       "\n",
       "div.sherpa div.dataval { }\n",
       "\n",
       "div.sherpa div.datavals div:nth-child(4n + 1) ,\n",
       "div.sherpa div.datavals div:nth-child(4n + 2) {\n",
       "    background: var(--sherpa-background-color-row-odd);\n",
       "}\n",
       "\n",
       "div.sherpa table.model tbody {\n",
       "    border-bottom: 1px solid var(--sherpa-border-color);\n",
       "}\n",
       "\n",
       "div.sherpa table.model tr.block {\n",
       "    border-top: 1px solid var(--sherpa-border-color);\n",
       "}\n",
       "\n",
       "div.sherpa table.model th.model-odd ,\n",
       "div.sherpa table.model th.model-even {\n",
       "    border-right: 1px solid var(--sherpa-border-color);\n",
       "}\n",
       "\n",
       "div.sherpa table.model th.model-odd {\n",
       "    background: var(--sherpa-background-color-dark1);\n",
       "}\n",
       "\n",
       "div.sherpa table.model th.model-even {\n",
       "    background: var(--sherpa-background-color-dark2);\n",
       "}\n",
       "\n",
       "div.sherpa .failed {\n",
       "    background: orange;\n",
       "    font-size: large;\n",
       "    padding: 1em;\n",
       "}\n",
       "</style><div class=\"sherpa-text-fallback\">&lt;BinaryOpModel model instance &#x27;(powlaw1d * tbabs)&#x27;&gt;</div><div hidden class=\"sherpa\"><details open><summary>Model</summary><table class=\"model\"><caption>Expression: powlaw1d * tbabs</caption><thead><tr><th>Component</th><th>Parameter</th><th>Thawed</th><th>Value</th><th>Min</th><th>Max</th><th>Units</th></tr></thead><tbody><tr><th class=\"model-odd\" scope=\"rowgroup\" rowspan=3>powlaw1d</th><td>gamma</td><td><input disabled type=\"checkbox\" checked></input></td><td>2.0</td><td>-10.0</td><td>10.0</td><td></td></tr><tr><td>ref</td><td><input disabled type=\"checkbox\"></input></td><td>1.0</td><td>-MAX</td><td>MAX</td><td></td></tr><tr><td>ampl</td><td><input disabled type=\"checkbox\" checked></input></td><td>0.07</td><td>0.0</td><td>MAX</td><td></td></tr><tr class=\"block\"><th class=\"model-even\" scope=\"rowgroup\" rowspan=1>tbabs</th><td>nH</td><td><input disabled type=\"checkbox\" checked></input></td><td>1.0</td><td>0.0</td><td>1000000.0</td><td>10^22 atoms / cm^2</td></tr></tbody></table></details></div>"
      ],
      "text/plain": [
       "<BinaryOpModel model instance '(powlaw1d * tbabs)'>"
      ]
     },
     "execution_count": 15,
     "metadata": {},
     "output_type": "execute_result"
    }
   ],
   "source": [
    "model"
   ]
  },
  {
   "cell_type": "code",
   "execution_count": 16,
   "id": "86eda276-266d-418d-a396-22a59d97a479",
   "metadata": {},
   "outputs": [
    {
     "data": {
      "text/html": [
       "<div><i>Table length=4</i>\n",
       "<table id=\"table140113388757200\" class=\"table-striped table-bordered table-condensed\">\n",
       "<thead><tr><th>type</th><th>name</th><th>value</th><th>unit</th><th>error</th><th>min</th><th>max</th><th>frozen</th><th>is_norm</th><th>link</th></tr></thead>\n",
       "<thead><tr><th>str8</th><th>str5</th><th>float64</th><th>str1</th><th>int64</th><th>float64</th><th>float64</th><th>bool</th><th>bool</th><th>str1</th></tr></thead>\n",
       "<tr><td>spectral</td><td>gamma</td><td>2.0000e+00</td><td></td><td>0.000e+00</td><td>nan</td><td>nan</td><td>False</td><td>False</td><td></td></tr>\n",
       "<tr><td>spectral</td><td>ref</td><td>1.0000e+00</td><td></td><td>0.000e+00</td><td>nan</td><td>nan</td><td>True</td><td>False</td><td></td></tr>\n",
       "<tr><td>spectral</td><td>ampl</td><td>7.0000e-02</td><td></td><td>0.000e+00</td><td>nan</td><td>nan</td><td>False</td><td>True</td><td></td></tr>\n",
       "<tr><td>spectral</td><td>nH</td><td>1.0000e+00</td><td></td><td>0.000e+00</td><td>nan</td><td>nan</td><td>False</td><td>False</td><td></td></tr>\n",
       "</table></div>"
      ],
      "text/plain": [
       "<Table length=4>\n",
       "  type    name   value    unit   error     min     max   frozen is_norm link\n",
       "  str8    str5  float64   str1   int64   float64 float64  bool    bool  str1\n",
       "-------- ----- ---------- ---- --------- ------- ------- ------ ------- ----\n",
       "spectral gamma 2.0000e+00      0.000e+00     nan     nan  False   False     \n",
       "spectral   ref 1.0000e+00      0.000e+00     nan     nan   True   False     \n",
       "spectral  ampl 7.0000e-02      0.000e+00     nan     nan  False    True     \n",
       "spectral    nH 1.0000e+00      0.000e+00     nan     nan  False   False     "
      ]
     },
     "execution_count": 16,
     "metadata": {},
     "output_type": "execute_result"
    }
   ],
   "source": [
    "wrapped_model.parameters.to_table()"
   ]
  },
  {
   "cell_type": "code",
   "execution_count": 17,
   "id": "3443a398-7655-4130-aad4-3dfe045f208f",
   "metadata": {},
   "outputs": [
    {
     "name": "stderr",
     "output_type": "stream",
     "text": [
      "tbvabs Version 2.3\n",
      "Cosmic absorption with grains and H2, modified from\n",
      "Wilms, Allen, & McCray, 2000, ApJ 542, 914-924\n",
      "Questions: Joern Wilms\n",
      "joern.wilms@sternwarte.uni-erlangen.de\n",
      "joern.wilms@fau.de\n",
      "\n",
      "http://pulsar.sternwarte.uni-erlangen.de/wilms/research/tbabs/\n",
      "\n",
      "PLEASE NOTICE:\n",
      "To get the model described by the above paper\n",
      "you will also have to set the abundances:\n",
      "   abund wilm\n",
      "\n",
      "Note that this routine ignores the current cross section setting\n",
      "as it always HAS to use the Verner cross sections as a baseline.\n"
     ]
    },
    {
     "data": {
      "text/plain": [
       "array([0.00785175, 0.00863114, 0.00521897])"
      ]
     },
     "execution_count": 17,
     "metadata": {},
     "output_type": "execute_result"
    }
   ],
   "source": [
    "wrapped_model([1, 2, 3], [2, 3, 4])"
   ]
  },
  {
   "cell_type": "code",
   "execution_count": 34,
   "id": "1d9be7a2-f82a-4bad-a733-50e1e23d3df8",
   "metadata": {},
   "outputs": [],
   "source": [
    "dataset.models = [wrapped_model]"
   ]
  },
  {
   "cell_type": "code",
   "execution_count": 35,
   "id": "cd38c15a-6fda-469b-af74-b09463ac5f3f",
   "metadata": {},
   "outputs": [
    {
     "data": {
      "text/plain": [
       "<AxesSubplot: xlabel='Energy [keV]', ylabel='$\\\\mathrm{keV^{-1}\\\\,s^{-1}}$'>"
      ]
     },
     "execution_count": 35,
     "metadata": {},
     "output_type": "execute_result"
    },
    {
     "data": {
      "image/png": "[encoded data removed]",
      "text/plain": [
       "<Figure size 640x480 with 1 Axes>"
      ]
     },
     "metadata": {},
     "output_type": "display_data"
    }
   ],
   "source": [
    "dataset.counts.plot(color=\"k\")\n",
    "dataset.background.plot(color=\"r\")\n",
    "dataset.npred_signal().plot(color=\"b\")"
   ]
  },
  {
   "cell_type": "code",
   "execution_count": 29,
   "id": "df9cd3f8-401c-4a6c-a3c1-e9c90454b0ec",
   "metadata": {},
   "outputs": [
    {
     "data": {
      "text/plain": [
       "16086.801935048486"
      ]
     },
     "execution_count": 29,
     "metadata": {},
     "output_type": "execute_result"
    }
   ],
   "source": [
    "dataset.stat_sum()"
   ]
  },
  {
   "cell_type": "code",
   "execution_count": 30,
   "id": "696869dd-1b4c-4fda-8328-3acc8c0d089a",
   "metadata": {},
   "outputs": [
    {
     "data": {
      "text/html": [
       "<div><i>Table length=4</i>\n",
       "<table id=\"table140113388841472\" class=\"table-striped table-bordered table-condensed\">\n",
       "<thead><tr><th>type</th><th>name</th><th>value</th><th>unit</th><th>error</th><th>min</th><th>max</th><th>frozen</th><th>is_norm</th><th>link</th></tr></thead>\n",
       "<thead><tr><th>str8</th><th>str5</th><th>float64</th><th>str1</th><th>int64</th><th>float64</th><th>float64</th><th>bool</th><th>bool</th><th>str1</th></tr></thead>\n",
       "<tr><td>spectral</td><td>gamma</td><td>2.0000e+00</td><td></td><td>0.000e+00</td><td>nan</td><td>nan</td><td>False</td><td>False</td><td></td></tr>\n",
       "<tr><td>spectral</td><td>ref</td><td>1.0000e+00</td><td></td><td>0.000e+00</td><td>nan</td><td>nan</td><td>True</td><td>False</td><td></td></tr>\n",
       "<tr><td>spectral</td><td>ampl</td><td>7.0000e-02</td><td></td><td>0.000e+00</td><td>nan</td><td>nan</td><td>False</td><td>True</td><td></td></tr>\n",
       "<tr><td>spectral</td><td>nH</td><td>1.0000e+00</td><td></td><td>0.000e+00</td><td>nan</td><td>nan</td><td>False</td><td>False</td><td></td></tr>\n",
       "</table></div>"
      ],
      "text/plain": [
       "<Table length=4>\n",
       "  type    name   value    unit   error     min     max   frozen is_norm link\n",
       "  str8    str5  float64   str1   int64   float64 float64  bool    bool  str1\n",
       "-------- ----- ---------- ---- --------- ------- ------- ------ ------- ----\n",
       "spectral gamma 2.0000e+00      0.000e+00     nan     nan  False   False     \n",
       "spectral   ref 1.0000e+00      0.000e+00     nan     nan   True   False     \n",
       "spectral  ampl 7.0000e-02      0.000e+00     nan     nan  False    True     \n",
       "spectral    nH 1.0000e+00      0.000e+00     nan     nan  False   False     "
      ]
     },
     "execution_count": 30,
     "metadata": {},
     "output_type": "execute_result"
    }
   ],
   "source": [
    "dataset.models.parameters.to_table()"
   ]
  },
  {
   "cell_type": "code",
   "execution_count": 36,
   "id": "d17296c7-3f94-4447-aa9f-4255801cc716",
   "metadata": {},
   "outputs": [],
   "source": [
    "from gammapy.modeling import Fit\n",
    "\n",
    "fit = Fit(store_trace=True)\n",
    "result = fit.run([dataset])"
   ]
  },
  {
   "cell_type": "code",
   "execution_count": 37,
   "id": "77fa1c06-bc67-4bf2-9abf-59f14eee8014",
   "metadata": {},
   "outputs": [
    {
     "data": {
      "text/plain": [
       "OptimizeResult\n",
       "\n",
       "\tbackend    : minuit\n",
       "\tmethod     : migrad\n",
       "\tsuccess    : True\n",
       "\tmessage    : Optimization terminated successfully.\n",
       "\tnfev       : 115\n",
       "\ttotal stat : 8078.30\n",
       "\n",
       "CovarianceResult\n",
       "\n",
       "\tbackend    : minuit\n",
       "\tmethod     : hesse\n",
       "\tsuccess    : True\n",
       "\tmessage    : Hesse terminated successfully."
      ]
     },
     "execution_count": 37,
     "metadata": {},
     "output_type": "execute_result"
    }
   ],
   "source": [
    "result"
   ]
  },
  {
   "cell_type": "code",
   "execution_count": 38,
   "id": "837a437d-9df6-4ed2-b025-e98bcf6cbe85",
   "metadata": {},
   "outputs": [
    {
     "data": {
      "text/html": [
       "<div><i>Table length=4</i>\n",
       "<table id=\"table140113302267360\" class=\"table-striped table-bordered table-condensed\">\n",
       "<thead><tr><th>type</th><th>name</th><th>value</th><th>unit</th><th>error</th><th>min</th><th>max</th><th>frozen</th><th>is_norm</th><th>link</th></tr></thead>\n",
       "<thead><tr><th>str8</th><th>str5</th><th>float64</th><th>str1</th><th>float64</th><th>float64</th><th>float64</th><th>bool</th><th>bool</th><th>str1</th></tr></thead>\n",
       "<tr><td>spectral</td><td>gamma</td><td>3.3296e-01</td><td></td><td>5.958e-03</td><td>nan</td><td>nan</td><td>False</td><td>False</td><td></td></tr>\n",
       "<tr><td>spectral</td><td>ref</td><td>1.0000e+00</td><td></td><td>0.000e+00</td><td>nan</td><td>nan</td><td>True</td><td>False</td><td></td></tr>\n",
       "<tr><td>spectral</td><td>ampl</td><td>2.3007e+00</td><td></td><td>8.226e-02</td><td>nan</td><td>nan</td><td>False</td><td>True</td><td></td></tr>\n",
       "<tr><td>spectral</td><td>nH</td><td>1.0000e+00</td><td></td><td>0.000e+00</td><td>nan</td><td>nan</td><td>True</td><td>False</td><td></td></tr>\n",
       "</table></div>"
      ],
      "text/plain": [
       "<Table length=4>\n",
       "  type    name   value    unit   error     min     max   frozen is_norm link\n",
       "  str8    str5  float64   str1  float64  float64 float64  bool    bool  str1\n",
       "-------- ----- ---------- ---- --------- ------- ------- ------ ------- ----\n",
       "spectral gamma 3.3296e-01      5.958e-03     nan     nan  False   False     \n",
       "spectral   ref 1.0000e+00      0.000e+00     nan     nan   True   False     \n",
       "spectral  ampl 2.3007e+00      8.226e-02     nan     nan  False    True     \n",
       "spectral    nH 1.0000e+00      0.000e+00     nan     nan   True   False     "
      ]
     },
     "execution_count": 38,
     "metadata": {},
     "output_type": "execute_result"
    }
   ],
   "source": [
    "result.parameters.to_table()"
   ]
  },
  {
   "cell_type": "code",
   "execution_count": 39,
   "id": "cc65d9c5-f7ec-42f7-a667-638bb8b7e565",
   "metadata": {},
   "outputs": [
    {
     "data": {
      "text/plain": [
       "(1000.0, 100000.0)"
      ]
     },
     "execution_count": 39,
     "metadata": {},
     "output_type": "execute_result"
    },
    {
     "data": {
      "image/png": "[encoded data removed]",
      "text/plain": [
       "<Figure size 640x480 with 1 Axes>"
      ]
     },
     "metadata": {},
     "output_type": "display_data"
    }
   ],
   "source": [
    "import matplotlib.pyplot as plt\n",
    "plt.plot(result.trace[\"total_stat\"])\n",
    "plt.yscale(\"log\")\n",
    "plt.ylim(1e3, 1e5)"
   ]
  },
  {
   "cell_type": "code",
   "execution_count": 40,
   "id": "b4bc4bb2-9db4-47a2-919e-b34ed6ececca",
   "metadata": {},
   "outputs": [
    {
     "name": "stderr",
     "output_type": "stream",
     "text": [
      "/home/lucagiunti/miniconda3/envs/gammapyXrayNEW/lib/python3.9/site-packages/sherpa/astro/xspec/__init__.py:1179: FutureWarning: calc() requires pars,lo,hi arguments, sent 2 arguments\n",
      "  warnings.warn(emsg, FutureWarning)\n"
     ]
    },
    {
     "data": {
      "text/plain": [
       "<AxesSubplot: xlabel='Energy [keV]', ylabel='$\\\\mathrm{keV^{-1}\\\\,s^{-1}}$'>"
      ]
     },
     "execution_count": 40,
     "metadata": {},
     "output_type": "execute_result"
    },
    {
     "data": {
      "image/png": "[encoded data removed]",
      "text/plain": [
       "<Figure size 640x480 with 1 Axes>"
      ]
     },
     "metadata": {},
     "output_type": "display_data"
    }
   ],
   "source": [
    "dataset.counts.plot(color=\"k\")\n",
    "dataset.background.plot(color=\"r\")\n",
    "dataset.npred_signal().plot(color=\"b\")"
   ]
  },
  {
   "cell_type": "raw",
   "id": "3b796e3e-0bac-4b3c-8c96-c18b7e8a3ab3",
   "metadata": {},
   "source": [
    "#Add ons:\n",
    "\n",
    "\n",
    "    @property\n",
    "    def _energy_axis_true(self):\n",
    "        \"\"\"Grouped true energy axis.\"\"\"\n",
    "        rmf = self._data.get_rmf()\n",
    "        energy_edges = rmf.emin.append(rmf.emax[-1])\n",
    "        # TODO: is the unit always keV and the interp always \"lin\"?\n",
    "        return MapAxis.from_energy_edges(energy_edges, unit=u.keV, name=\"energy_true\", interp='lin')\n",
    "\n",
    "\n",
    "    @property\n",
    "    def exposure(self):\n",
    "        raise NotImplementedError\n",
    "        #TODO: use something like self.data.get_arf(id=self.name) * self.data.exposure\n",
    "        \n",
    "                \n",
    "    @property\n",
    "    def edisp(self):\n",
    "        raise NotImplementedError\n",
    "        #TODO: use something like self._data.get_rmf(id=self.name)\n",
    "        \n",
    "    @property\n",
    "    def mask_fit(self):\n",
    "        raise NotImplementedError\n",
    "\n",
    "    @mask_fit.setter\n",
    "    def mask_fit(self, mask_fit):\n",
    "        # TODO: use ui.notice_id(self.name, lo, hi, **kwargs)\n",
    "        raise NotImplementedError\n",
    "\n",
    "    @property\n",
    "    def mask_safe(self):\n",
    "        raise NotImplementedError\n",
    "\n",
    "    @property\n",
    "    def models(self):\n",
    "        raise NotImplementedError\n",
    "\n",
    "    \n",
    "    @staticmethod\n",
    "    def _compute_residuals(data, model, method=\"diff\"):\n",
    "        return NotImplementedError"
   ]
  }
 ],
 "metadata": {
  "kernelspec": {
   "display_name": "Python 3 (ipykernel)",
   "language": "python",
   "name": "python3"
  },
  "language_info": {
   "codemirror_mode": {
    "name": "ipython",
    "version": 3
   },
   "file_extension": ".py",
   "mimetype": "text/x-python",
   "name": "python",
   "nbconvert_exporter": "python",
   "pygments_lexer": "ipython3",
   "version": "3.9.13"
  }
 },
 "nbformat": 4,
 "nbformat_minor": 5
}
