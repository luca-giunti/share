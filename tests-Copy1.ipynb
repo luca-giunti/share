{
 "cells": [
  {
   "cell_type": "code",
   "execution_count": 1,
   "id": "f91700a4-8fbe-4e26-a0e3-46e8b6ca7fe3",
   "metadata": {},
   "outputs": [
    {
     "data": {
      "text/plain": [
       "'4.14.0'"
      ]
     },
     "execution_count": 1,
     "metadata": {},
     "output_type": "execute_result"
    }
   ],
   "source": [
    "import sherpa\n",
    "sherpa.__version__"
   ]
  },
  {
   "cell_type": "code",
   "execution_count": 2,
   "id": "4566a11b-e6cc-4c9a-9fe1-21d2dede72a8",
   "metadata": {},
   "outputs": [
    {
     "data": {
      "text/plain": [
       "'0.20.1'"
      ]
     },
     "execution_count": 2,
     "metadata": {},
     "output_type": "execute_result"
    }
   ],
   "source": [
    "import gammapy\n",
    "gammapy.__version__"
   ]
  },
  {
   "cell_type": "code",
   "execution_count": 1,
   "id": "9a6b6d00-c003-4e08-b929-d3b923913639",
   "metadata": {},
   "outputs": [],
   "source": [
    "import numpy as np\n",
    "import matplotlib.pyplot as plt\n",
    "import astropy.units as u"
   ]
  },
  {
   "cell_type": "code",
   "execution_count": 2,
   "id": "b91176cd-52b4-433b-938d-7642b062f2c7",
   "metadata": {},
   "outputs": [
    {
     "name": "stderr",
     "output_type": "stream",
     "text": [
      "<frozen importlib._bootstrap>:228: RuntimeWarning: numpy.ndarray size changed, may indicate binary incompatibility. Expected 80 from C header, got 96 from PyObject\n"
     ]
    }
   ],
   "source": [
    "from gammapy.datasets import SpectrumDataset\n",
    "from gammapy.modeling.models import DatasetModels\n",
    "from gammapy.maps import RegionGeom, RegionNDMap, MapAxis\n",
    "from sherpa.astro.instrument import RSPModelPHA\n",
    "\n",
    "class SherpaSpectrumDataset(SpectrumDataset):\n",
    "    \"\"\"\n",
    "    Parameters\n",
    "    ----------\n",
    "    data: `sherpa.data.Data` or `sherpa.data.DataSimulFit`\n",
    "        An instance of a sherpa.data data-derived class\n",
    "    stat: str or sherpa.stats.Stat instance\n",
    "        A fit statistic from sherpa.stats\n",
    "    \"\"\"\n",
    "    \n",
    "    tag = \"SherpaSpectrumDataset\"\n",
    "\n",
    "    # TODO: implement a model wrapper to fit any kind of Gammapy model (for now only sherpa models work)\n",
    "    # TODO: implement read methods\n",
    "    # TODO: handle the REGION and GTI information somewhere\n",
    "    # TODO: possibly add counts, bkg and IRFs as properties\n",
    "    # TODO: handle mask safe and mask fit somehow\n",
    "    # TODO: implement compute residuals\n",
    "    \n",
    "    def __init__(self, data, stat, **kwargs):\n",
    "        self.data = data\n",
    "        if isinstance(stat, str) and not stat in ui.list_stats():\n",
    "            raise ValueError(\"Invalid stat\")\n",
    "        self._stat = stat\n",
    "        super().__init__(**kwargs)\n",
    "            \n",
    "    @property\n",
    "    def _ebins(self):\n",
    "        lo, hi = self.data._get_ebins()\n",
    "        mask = self.data.mask\n",
    "        lo = lo[mask].squeeze()\n",
    "        hi = hi[mask].squeeze()\n",
    "        return lo, hi\n",
    "            \n",
    "    @property\n",
    "    def _energy_axis_reco(self):\n",
    "        \"\"\"Grouped reconstructed energy axis.\"\"\"\n",
    "        lo, hi = self._ebins\n",
    "        energy_edges = np.append(lo, hi[-1])\n",
    "        energy_edges = energy_edges\n",
    "        # TODO: is the unit always keV and the interp always \"lin\"?\n",
    "        return MapAxis.from_energy_edges(energy_edges, unit=u.keV, name=\"energy\", interp='lin')\n",
    "\n",
    "    @property\n",
    "    def _geom(self):\n",
    "        # TODO: read the region or pass it in init\n",
    "        return RegionGeom(region=None, axes=[self._energy_axis_reco])\n",
    "        \n",
    "    @property\n",
    "    def counts(self):\n",
    "        # TODO: read the units somehow. Hardcoded for now\n",
    "        data = self.data.get_y(filter=True)\n",
    "        return RegionNDMap.from_geom(\n",
    "            self._geom, \n",
    "            data=data, \n",
    "            unit='keV-1 s-1', \n",
    "        )\n",
    "    \n",
    "    @counts.setter\n",
    "    def counts(self, counts):\n",
    "        pass\n",
    "    \n",
    "    @property\n",
    "    def background(self):\n",
    "        # TODO: read the units somehow. Hardcoded for now\n",
    "        data = self.data.get_background().get_y(filter=True)\n",
    "        return RegionNDMap.from_geom(\n",
    "            self._geom, \n",
    "            data=data, \n",
    "            unit='keV-1 s-1', \n",
    "        )\n",
    "\n",
    "    @background.setter\n",
    "    def background(self, background):\n",
    "        pass\n",
    "\n",
    "    def npred_signal(self):\n",
    "        from sherpa.astro.ui import get_model_plot\n",
    "        data = self.data.eval_model_to_fit(self._sherpa_model)\n",
    "        data /= self.data.exposure\n",
    "        # TODO: read the units somehow. Hardcoded for now\n",
    "        return RegionNDMap.from_geom(\n",
    "            self._geom, \n",
    "            data=data, \n",
    "            unit='keV-1 s-1', \n",
    "        )\n",
    "\n",
    "    @property\n",
    "    def _sherpa_model(self):\n",
    "        \"\"\"Sherpa model convolved with the IRFs\"\"\"\n",
    "        arf = self.data.get_arf()\n",
    "        rmf = self.data.get_rmf()\n",
    "        model = self.models[0]\n",
    "        return RSPModelPHA(arf, rmf, data, model)\n",
    "        \n",
    "    @property\n",
    "    def models(self):\n",
    "        return self._models\n",
    "        \n",
    "    @models.setter\n",
    "    def models(self, models):\n",
    "        \"\"\"Models setter. For now only sherpa-derived models (`sherpa.models.model.Model` or \n",
    "        `sherpa.models.model.SimulFitModel`) are supported\"\"\"\n",
    "        if models is not None:\n",
    "            models = DatasetModels(models)\n",
    "            models = models.select(datasets_names=self.name)\n",
    "            for model in models:\n",
    "                model._exposure = self.data.exposure\n",
    "        self._models = models   \n",
    "               \n",
    "    def notice(self, lo, hi, ignore=False):\n",
    "        # TODO: implement mask safe and mask fit accordingly\n",
    "        self.data.notice(lo, hi, ignore)\n",
    "        \n",
    "    @property\n",
    "    def stat(self):\n",
    "        \"\"\"Fit statistic\"\"\"\n",
    "        return self._stat\n",
    "    \n",
    "    @stat.setter\n",
    "    def stat(self, stat):\n",
    "        \"\"\"Fit statistic setter\"\"\"\n",
    "        self._stat = stat\n",
    "\n",
    "    @property\n",
    "    def stat_type(self):\n",
    "        \"\"\"Fit statistic name\"\"\"\n",
    "        return self._stat.name\n",
    "\n",
    "    def _calc_stat(self):\n",
    "        stat_sum, stat_array = self.stat.calc_stat(self.data, self._sherpa_model)\n",
    "        return stat_sum, stat_array\n",
    "    \n",
    "    def stat_sum(self):\n",
    "        \"\"\"Total statistic given the current model parameters.\"\"\"\n",
    "        return float(self._calc_stat()[0])\n",
    "\n",
    "    def stat_array(self):\n",
    "        \"\"\"Likelihood per bin given the current model parameters\"\"\"\n",
    "        return self._calc_stat()[0].astype(float)"
   ]
  },
  {
   "cell_type": "code",
   "execution_count": 3,
   "id": "16ce12f8-76e8-4151-97f6-b89541d3c922",
   "metadata": {},
   "outputs": [
    {
     "name": "stdout",
     "output_type": "stream",
     "text": [
      "WARNING: imaging routines will not be available, \n",
      "failed to import sherpa.image.ds9_backend due to \n",
      "'RuntimeErr: DS9Win unusable: Could not find ds9 on your PATH'\n",
      "read ARF file XMM_test_files/MOS1_PWN.arf\n"
     ]
    },
    {
     "name": "stderr",
     "output_type": "stream",
     "text": [
      "/home/lucagiunti/miniconda3/envs/gammapyXrayNEW/lib/python3.9/site-packages/sherpa/astro/data.py:952: UserWarning: The minimum ENERG_LO in the ARF 'XMM_test_files/MOS1_PWN.arf' was 0 and has been replaced by 1e-10\n",
      "  warnings.warn(wmsg)\n",
      "/home/lucagiunti/miniconda3/envs/gammapyXrayNEW/lib/python3.9/site-packages/sherpa/astro/data.py:952: UserWarning: The minimum ENERG_LO in the RMF 'XMM_test_files/MOS1_PWN.rmf' was 0 and has been replaced by 1e-10\n",
      "  warnings.warn(wmsg)\n"
     ]
    },
    {
     "name": "stdout",
     "output_type": "stream",
     "text": [
      "read RMF file XMM_test_files/MOS1_PWN.rmf\n",
      "read background file XMM_test_files/MOS1_PWN_bkg.fits\n"
     ]
    }
   ],
   "source": [
    "from sherpa.astro.ui import unpack_pha\n",
    "data = unpack_pha(\"XMM_test_files/MOS1_PWN.grp\")"
   ]
  },
  {
   "cell_type": "code",
   "execution_count": 7,
   "id": "e021025d-dcc9-49ca-aad5-c54bf5b757a9",
   "metadata": {},
   "outputs": [],
   "source": [
    "data.subtract()"
   ]
  },
  {
   "cell_type": "code",
   "execution_count": 8,
   "id": "0938fa7f-8623-496a-ae82-d16ef21f1a92",
   "metadata": {},
   "outputs": [],
   "source": [
    "#from sherpa.stats import WStat\n",
    "#stat = WStat()"
   ]
  },
  {
   "cell_type": "code",
   "execution_count": 9,
   "id": "31fe050e-ed04-40d5-966a-8cd1ab75cbcd",
   "metadata": {},
   "outputs": [],
   "source": [
    "from sherpa.stats import Chi2Gehrels\n",
    "stat = Chi2Gehrels()"
   ]
  },
  {
   "cell_type": "code",
   "execution_count": 10,
   "id": "4b551d05-6c4a-486c-8275-98daa20a9d91",
   "metadata": {},
   "outputs": [],
   "source": [
    "dataset = SherpaSpectrumDataset(data, stat)"
   ]
  },
  {
   "cell_type": "code",
   "execution_count": 11,
   "id": "efb2c6f7-9fc1-445e-8016-461264a5f75f",
   "metadata": {},
   "outputs": [
    {
     "data": {
      "text/plain": [
       "<AxesSubplot: xlabel='Energy [keV]', ylabel='$\\\\mathrm{keV^{-1}\\\\,s^{-1}}$'>"
      ]
     },
     "execution_count": 11,
     "metadata": {},
     "output_type": "execute_result"
    },
    {
     "data": {
      "image/png": "[encoded data removed]",
      "text/plain": [
       "<Figure size 640x480 with 1 Axes>"
      ]
     },
     "metadata": {},
     "output_type": "display_data"
    }
   ],
   "source": [
    "dataset.counts.plot(color=\"k\")\n",
    "dataset.background.plot(color=\"r\")"
   ]
  },
  {
   "cell_type": "code",
   "execution_count": 12,
   "id": "864b40d0-9f1d-4f7b-a77a-159062d25d5d",
   "metadata": {},
   "outputs": [],
   "source": [
    "dataset.notice(2, 8, ignore=False)"
   ]
  },
  {
   "cell_type": "code",
   "execution_count": 10,
   "id": "2fac3d97-c099-4f19-af8a-ec938a16cd6d",
   "metadata": {},
   "outputs": [
    {
     "data": {
      "text/plain": [
       "<AxesSubplot: xlabel='Energy [keV]', ylabel='$\\\\mathrm{keV^{-1}\\\\,s^{-1}}$'>"
      ]
     },
     "execution_count": 10,
     "metadata": {},
     "output_type": "execute_result"
    },
    {
     "data": {
      "image/png": "[encoded data removed]",
      "text/plain": [
       "<Figure size 640x480 with 1 Axes>"
      ]
     },
     "metadata": {},
     "output_type": "display_data"
    }
   ],
   "source": [
    "dataset.counts.plot(color=\"k\")\n",
    "dataset.background.plot(color=\"r\")"
   ]
  },
  {
   "cell_type": "code",
   "execution_count": 13,
   "id": "e8cbdcc4-a2d0-4d04-accd-339955de7c38",
   "metadata": {},
   "outputs": [],
   "source": [
    "import astropy.units as u\n",
    "import numpy as np\n",
    "from gammapy.modeling.models import SpectralModel\n",
    "from gammapy.modeling import Parameter, Parameters\n",
    "from sherpa.models import BinaryOpModel\n",
    "\n",
    "class SherpaSpectralModel(SpectralModel):\n",
    "    \"\"\"A wrapper for Sherpa spectral models.\n",
    "    Parameters\n",
    "    ----------\n",
    "    sherpa_model :\n",
    "        An instance of the models defined in `~sherpa.models` or `~sherpa.astro.xspec`.\n",
    "    default_units : tuple\n",
    "        Units of the input energy array and output model evaluation (find them in the sherpa/xspec docs!)\n",
    "    \"\"\"\n",
    "\n",
    "    tag = [\"SherpaSpectralModel\", \"sherpa\", \"xspec\"]\n",
    "\n",
    "    def __init__(\n",
    "        self, sherpa_model, name=None\n",
    "    ):\n",
    "        self.datasets_names = None\n",
    "        self._exposure = None\n",
    "        self._sherpa_model = sherpa_model\n",
    "        self._name = name\n",
    "        self.default_parameters = self._wrap_parameters()\n",
    "        super().__init__()\n",
    "    \n",
    "    @property\n",
    "    def ndim(self):\n",
    "        return self.sherpa_model.ndim\n",
    "    \n",
    "    @property\n",
    "    def pars(self):\n",
    "        return self.sherpa_model.pars\n",
    "\n",
    "    @property\n",
    "    def is_discrete(self):\n",
    "        return self.sherpa_model.is_discrete\n",
    "\n",
    "    @property\n",
    "    def name(self):\n",
    "        if self._name:\n",
    "            return self._name\n",
    "        else:\n",
    "            return self.sherpa_model.name\n",
    "\n",
    "    @property\n",
    "    def sherpa_model(self):\n",
    "        if self._exposure:\n",
    "            return self._exposure * self._sherpa_model\n",
    "        else:\n",
    "            return self._sherpa_model\n",
    "        \n",
    "    def _wrap_parameters(self):\n",
    "        \"Wraps sherpa model parameters into a gammapy Parameters object\"\n",
    "        parameters = []\n",
    "        for par in self.sherpa_model.pars:\n",
    "            is_norm = par.name in [\"ampl\", \"norm\", \"K\"]\n",
    "            parameter = Parameter(\n",
    "                name=par.name, \n",
    "                value=par.val, \n",
    "                frozen=par.frozen, \n",
    "                min=par.min,\n",
    "                max=par.max,\n",
    "                is_norm=is_norm,\n",
    "                interp=\"log\"\n",
    "            )\n",
    "            parameters.append(parameter)\n",
    "        return Parameters(parameters)\n",
    "       \n",
    "    def _update_sherpa_parameters(self):\n",
    "        \"\"\"Update sherpa model parameters\"\"\"\n",
    "        for idx, par in enumerate(self.parameters):\n",
    "            self.sherpa_model.pars[idx].val = par.value\n",
    "            \n",
    "    def calc(self, pars, x, xhi=None, *args, **kwargs):\n",
    "        self._update_sherpa_parameters()\n",
    "        #print(self.sherpa_model.pars[2].val)\n",
    "        #print(self.sherpa_model.pars[0].val)\n",
    "        return self.sherpa_model.calc(pars, x, xhi, *args, **kwargs)\n",
    "    \n",
    "    #def __call__(self, *args, **kwargs):\n",
    "    #    self._update_sherpa_parameters()\n",
    "    #    return self.sherpa_model.__call__(*args, **kwargs)"
   ]
  },
  {
   "cell_type": "code",
   "execution_count": 14,
   "id": "f0a502b0-c3fc-4b19-95af-7b091e436c6d",
   "metadata": {},
   "outputs": [],
   "source": [
    "from sherpa.models.basic import PowLaw1D\n",
    "from sherpa.astro.xspec import XSTBabs\n",
    "pl = PowLaw1D()\n",
    "pl.gamma.val = 1.5\n",
    "pl.gamma.min = 1\n",
    "pl.gamma.max = 4\n",
    "pl.gamma.frozen = True\n",
    "pl.ampl.val = 3e-4\n",
    "pl.ampl.min = 1e-7\n",
    "pl.ampl.max = 1e-1\n",
    "absorption = XSTBabs()\n",
    "absorption.nH = 5\n",
    "absorption.nH.frozen = True\n",
    "model = pl*absorption"
   ]
  },
  {
   "cell_type": "code",
   "execution_count": 15,
   "id": "adcecb37-b6b7-4b2a-ab4a-e4d158b5fd30",
   "metadata": {},
   "outputs": [],
   "source": [
    "wrapped_model = SherpaSpectralModel(model)"
   ]
  },
  {
   "cell_type": "code",
   "execution_count": 126,
   "id": "eff1a291-d6fe-4411-ac76-bf6a3d9a91ba",
   "metadata": {},
   "outputs": [
    {
     "data": {
      "text/html": [
       "<style>/*\n",
       "Copyright (C) 2020  Smithsonian Astrophysical Observatory\n",
       "\n",
       "\n",
       " This program is free software; you can redistribute it and/or modify\n",
       " it under the terms of the GNU General Public License as published by\n",
       " the Free Software Foundation; either version 3 of the License, or\n",
       " (at your option) any later version.\n",
       "\n",
       " This program is distributed in the hope that it will be useful,\n",
       " but WITHOUT ANY WARRANTY; without even the implied warranty of\n",
       " MERCHANTABILITY or FITNESS FOR A PARTICULAR PURPOSE.  See the\n",
       " GNU General Public License for more details.\n",
       "\n",
       " You should have received a copy of the GNU General Public License along\n",
       " with this program; if not, write to the Free Software Foundation, Inc.,\n",
       " 51 Franklin Street, Fifth Floor, Boston, MA 02110-1301 USA.\n",
       "\n",
       "*/\n",
       "\n",
       ":root {\n",
       "  --sherpa-border-color: var(--jp-border-color2, #e0e0e0);\n",
       "  --sherpa-background-color: var(--jp-layout-color0, white);\n",
       "  --sherpa-background-color-row-even: var(--jp-layout-color1, white);\n",
       "  --sherpa-background-color-row-odd: var(--jp-layout-color2, #eeeeee);\n",
       "\n",
       "  /* https://medium.com/ge-design/iot-cool-gray-is-a-great-background-color-for-data-visualization-ebf18c318418 */\n",
       "  --sherpa-background-color-dark1: #EBEFF2;\n",
       "  --sherpa-background-color-dark2: #D8E0E5;\n",
       "}\n",
       "\n",
       "div.sherpa-text-fallback {\n",
       "    display: none;\n",
       "}\n",
       "\n",
       "div.sherpa {\n",
       "    display: block;\n",
       "}\n",
       "\n",
       "div.sherpa details summary {\n",
       "    display: list-item;  /* needed for notebook, not lab */\n",
       "    font-size: larger;\n",
       "}\n",
       "\n",
       "div.sherpa details div.datavals {\n",
       "    display: grid;\n",
       "    grid-template-columns: 1fr 3fr;\n",
       "    column-gap: 0.5em;\n",
       "}\n",
       "\n",
       "div.sherpa div.dataname {\n",
       "    font-weight: bold;\n",
       "    border-right: 1px solid var(--sherpa-border-color);\n",
       "}\n",
       "\n",
       "div.sherpa div.dataval { }\n",
       "\n",
       "div.sherpa div.datavals div:nth-child(4n + 1) ,\n",
       "div.sherpa div.datavals div:nth-child(4n + 2) {\n",
       "    background: var(--sherpa-background-color-row-odd);\n",
       "}\n",
       "\n",
       "div.sherpa table.model tbody {\n",
       "    border-bottom: 1px solid var(--sherpa-border-color);\n",
       "}\n",
       "\n",
       "div.sherpa table.model tr.block {\n",
       "    border-top: 1px solid var(--sherpa-border-color);\n",
       "}\n",
       "\n",
       "div.sherpa table.model th.model-odd ,\n",
       "div.sherpa table.model th.model-even {\n",
       "    border-right: 1px solid var(--sherpa-border-color);\n",
       "}\n",
       "\n",
       "div.sherpa table.model th.model-odd {\n",
       "    background: var(--sherpa-background-color-dark1);\n",
       "}\n",
       "\n",
       "div.sherpa table.model th.model-even {\n",
       "    background: var(--sherpa-background-color-dark2);\n",
       "}\n",
       "\n",
       "div.sherpa .failed {\n",
       "    background: orange;\n",
       "    font-size: large;\n",
       "    padding: 1em;\n",
       "}\n",
       "</style><div class=\"sherpa-text-fallback\">&lt;BinaryOpModel model instance &#x27;(powlaw1d * tbabs)&#x27;&gt;</div><div hidden class=\"sherpa\"><details open><summary>Model</summary><table class=\"model\"><caption>Expression: powlaw1d * tbabs</caption><thead><tr><th>Component</th><th>Parameter</th><th>Thawed</th><th>Value</th><th>Min</th><th>Max</th><th>Units</th></tr></thead><tbody><tr><th class=\"model-odd\" scope=\"rowgroup\" rowspan=3>powlaw1d</th><td>gamma</td><td><input disabled type=\"checkbox\"></input></td><td>1.5</td><td>1.0</td><td>4.0</td><td></td></tr><tr><td>ref</td><td><input disabled type=\"checkbox\"></input></td><td>1.0</td><td>-MAX</td><td>MAX</td><td></td></tr><tr><td>ampl</td><td><input disabled type=\"checkbox\" checked></input></td><td>0.0003</td><td>0.0</td><td>MAX</td><td></td></tr><tr class=\"block\"><th class=\"model-even\" scope=\"rowgroup\" rowspan=1>tbabs</th><td>nH</td><td><input disabled type=\"checkbox\"></input></td><td>5.0</td><td>0.0</td><td>1000000.0</td><td>10^22 atoms / cm^2</td></tr></tbody></table></details></div>"
      ],
      "text/plain": [
       "<BinaryOpModel model instance '(powlaw1d * tbabs)'>"
      ]
     },
     "execution_count": 126,
     "metadata": {},
     "output_type": "execute_result"
    }
   ],
   "source": [
    "model"
   ]
  },
  {
   "cell_type": "code",
   "execution_count": 36,
   "id": "86eda276-266d-418d-a396-22a59d97a479",
   "metadata": {},
   "outputs": [
    {
     "data": {
      "text/html": [
       "<style>/*\n",
       "Copyright (C) 2020  Smithsonian Astrophysical Observatory\n",
       "\n",
       "\n",
       " This program is free software; you can redistribute it and/or modify\n",
       " it under the terms of the GNU General Public License as published by\n",
       " the Free Software Foundation; either version 3 of the License, or\n",
       " (at your option) any later version.\n",
       "\n",
       " This program is distributed in the hope that it will be useful,\n",
       " but WITHOUT ANY WARRANTY; without even the implied warranty of\n",
       " MERCHANTABILITY or FITNESS FOR A PARTICULAR PURPOSE.  See the\n",
       " GNU General Public License for more details.\n",
       "\n",
       " You should have received a copy of the GNU General Public License along\n",
       " with this program; if not, write to the Free Software Foundation, Inc.,\n",
       " 51 Franklin Street, Fifth Floor, Boston, MA 02110-1301 USA.\n",
       "\n",
       "*/\n",
       "\n",
       ":root {\n",
       "  --sherpa-border-color: var(--jp-border-color2, #e0e0e0);\n",
       "  --sherpa-background-color: var(--jp-layout-color0, white);\n",
       "  --sherpa-background-color-row-even: var(--jp-layout-color1, white);\n",
       "  --sherpa-background-color-row-odd: var(--jp-layout-color2, #eeeeee);\n",
       "\n",
       "  /* https://medium.com/ge-design/iot-cool-gray-is-a-great-background-color-for-data-visualization-ebf18c318418 */\n",
       "  --sherpa-background-color-dark1: #EBEFF2;\n",
       "  --sherpa-background-color-dark2: #D8E0E5;\n",
       "}\n",
       "\n",
       "div.sherpa-text-fallback {\n",
       "    display: none;\n",
       "}\n",
       "\n",
       "div.sherpa {\n",
       "    display: block;\n",
       "}\n",
       "\n",
       "div.sherpa details summary {\n",
       "    display: list-item;  /* needed for notebook, not lab */\n",
       "    font-size: larger;\n",
       "}\n",
       "\n",
       "div.sherpa details div.datavals {\n",
       "    display: grid;\n",
       "    grid-template-columns: 1fr 3fr;\n",
       "    column-gap: 0.5em;\n",
       "}\n",
       "\n",
       "div.sherpa div.dataname {\n",
       "    font-weight: bold;\n",
       "    border-right: 1px solid var(--sherpa-border-color);\n",
       "}\n",
       "\n",
       "div.sherpa div.dataval { }\n",
       "\n",
       "div.sherpa div.datavals div:nth-child(4n + 1) ,\n",
       "div.sherpa div.datavals div:nth-child(4n + 2) {\n",
       "    background: var(--sherpa-background-color-row-odd);\n",
       "}\n",
       "\n",
       "div.sherpa table.model tbody {\n",
       "    border-bottom: 1px solid var(--sherpa-border-color);\n",
       "}\n",
       "\n",
       "div.sherpa table.model tr.block {\n",
       "    border-top: 1px solid var(--sherpa-border-color);\n",
       "}\n",
       "\n",
       "div.sherpa table.model th.model-odd ,\n",
       "div.sherpa table.model th.model-even {\n",
       "    border-right: 1px solid var(--sherpa-border-color);\n",
       "}\n",
       "\n",
       "div.sherpa table.model th.model-odd {\n",
       "    background: var(--sherpa-background-color-dark1);\n",
       "}\n",
       "\n",
       "div.sherpa table.model th.model-even {\n",
       "    background: var(--sherpa-background-color-dark2);\n",
       "}\n",
       "\n",
       "div.sherpa .failed {\n",
       "    background: orange;\n",
       "    font-size: large;\n",
       "    padding: 1em;\n",
       "}\n",
       "</style><div class=\"sherpa-text-fallback\">&lt;BinaryOpModel model instance &#x27;(powlaw1d * tbabs)&#x27;&gt;</div><div hidden class=\"sherpa\"><details open><summary>Model</summary><table class=\"model\"><caption>Expression: powlaw1d * tbabs</caption><thead><tr><th>Component</th><th>Parameter</th><th>Thawed</th><th>Value</th><th>Min</th><th>Max</th><th>Units</th></tr></thead><tbody><tr><th class=\"model-odd\" scope=\"rowgroup\" rowspan=3>powlaw1d</th><td>gamma</td><td><input disabled type=\"checkbox\"></input></td><td>1.5</td><td>1.0</td><td>4.0</td><td></td></tr><tr><td>ref</td><td><input disabled type=\"checkbox\"></input></td><td>1.0</td><td>-MAX</td><td>MAX</td><td></td></tr><tr><td>ampl</td><td><input disabled type=\"checkbox\" checked></input></td><td>0.0003</td><td>1e-05</td><td>0.1</td><td></td></tr><tr class=\"block\"><th class=\"model-even\" scope=\"rowgroup\" rowspan=1>tbabs</th><td>nH</td><td><input disabled type=\"checkbox\"></input></td><td>5.0</td><td>0.0</td><td>1000000.0</td><td>10^22 atoms / cm^2</td></tr></tbody></table></details></div>"
      ],
      "text/plain": [
       "<BinaryOpModel model instance '(powlaw1d * tbabs)'>"
      ]
     },
     "execution_count": 36,
     "metadata": {},
     "output_type": "execute_result"
    }
   ],
   "source": [
    "wrapped_model.sherpa_model"
   ]
  },
  {
   "cell_type": "code",
   "execution_count": 16,
   "id": "1d9be7a2-f82a-4bad-a733-50e1e23d3df8",
   "metadata": {},
   "outputs": [],
   "source": [
    "dataset.models = [wrapped_model]"
   ]
  },
  {
   "cell_type": "code",
   "execution_count": 159,
   "id": "d409b30d-ab20-472e-b11a-7dd209b326c5",
   "metadata": {},
   "outputs": [
    {
     "data": {
      "text/html": [
       "<style>/*\n",
       "Copyright (C) 2020  Smithsonian Astrophysical Observatory\n",
       "\n",
       "\n",
       " This program is free software; you can redistribute it and/or modify\n",
       " it under the terms of the GNU General Public License as published by\n",
       " the Free Software Foundation; either version 3 of the License, or\n",
       " (at your option) any later version.\n",
       "\n",
       " This program is distributed in the hope that it will be useful,\n",
       " but WITHOUT ANY WARRANTY; without even the implied warranty of\n",
       " MERCHANTABILITY or FITNESS FOR A PARTICULAR PURPOSE.  See the\n",
       " GNU General Public License for more details.\n",
       "\n",
       " You should have received a copy of the GNU General Public License along\n",
       " with this program; if not, write to the Free Software Foundation, Inc.,\n",
       " 51 Franklin Street, Fifth Floor, Boston, MA 02110-1301 USA.\n",
       "\n",
       "*/\n",
       "\n",
       ":root {\n",
       "  --sherpa-border-color: var(--jp-border-color2, #e0e0e0);\n",
       "  --sherpa-background-color: var(--jp-layout-color0, white);\n",
       "  --sherpa-background-color-row-even: var(--jp-layout-color1, white);\n",
       "  --sherpa-background-color-row-odd: var(--jp-layout-color2, #eeeeee);\n",
       "\n",
       "  /* https://medium.com/ge-design/iot-cool-gray-is-a-great-background-color-for-data-visualization-ebf18c318418 */\n",
       "  --sherpa-background-color-dark1: #EBEFF2;\n",
       "  --sherpa-background-color-dark2: #D8E0E5;\n",
       "}\n",
       "\n",
       "div.sherpa-text-fallback {\n",
       "    display: none;\n",
       "}\n",
       "\n",
       "div.sherpa {\n",
       "    display: block;\n",
       "}\n",
       "\n",
       "div.sherpa details summary {\n",
       "    display: list-item;  /* needed for notebook, not lab */\n",
       "    font-size: larger;\n",
       "}\n",
       "\n",
       "div.sherpa details div.datavals {\n",
       "    display: grid;\n",
       "    grid-template-columns: 1fr 3fr;\n",
       "    column-gap: 0.5em;\n",
       "}\n",
       "\n",
       "div.sherpa div.dataname {\n",
       "    font-weight: bold;\n",
       "    border-right: 1px solid var(--sherpa-border-color);\n",
       "}\n",
       "\n",
       "div.sherpa div.dataval { }\n",
       "\n",
       "div.sherpa div.datavals div:nth-child(4n + 1) ,\n",
       "div.sherpa div.datavals div:nth-child(4n + 2) {\n",
       "    background: var(--sherpa-background-color-row-odd);\n",
       "}\n",
       "\n",
       "div.sherpa table.model tbody {\n",
       "    border-bottom: 1px solid var(--sherpa-border-color);\n",
       "}\n",
       "\n",
       "div.sherpa table.model tr.block {\n",
       "    border-top: 1px solid var(--sherpa-border-color);\n",
       "}\n",
       "\n",
       "div.sherpa table.model th.model-odd ,\n",
       "div.sherpa table.model th.model-even {\n",
       "    border-right: 1px solid var(--sherpa-border-color);\n",
       "}\n",
       "\n",
       "div.sherpa table.model th.model-odd {\n",
       "    background: var(--sherpa-background-color-dark1);\n",
       "}\n",
       "\n",
       "div.sherpa table.model th.model-even {\n",
       "    background: var(--sherpa-background-color-dark2);\n",
       "}\n",
       "\n",
       "div.sherpa .failed {\n",
       "    background: orange;\n",
       "    font-size: large;\n",
       "    padding: 1em;\n",
       "}\n",
       "</style><div class=\"sherpa-text-fallback\">&lt;RSPModelPHA model instance &#x27;apply_rmf(apply_arf((11370.57 * (powlaw1d * tbabs))))&#x27;&gt;</div><div hidden class=\"sherpa\"><details open><summary>Model</summary><table class=\"model\"><caption>Expression: apply_rmf(apply_arf((11370.57 * (powlaw1d * tbabs))))</caption><thead><tr><th>Component</th><th>Parameter</th><th>Thawed</th><th>Value</th><th>Min</th><th>Max</th><th>Units</th></tr></thead><tbody><tr><th class=\"model-odd\" scope=\"rowgroup\" rowspan=4>(11370.57 * (powlaw1d * tbabs))</th><td>gamma</td><td><input disabled type=\"checkbox\"></input></td><td>1.5</td><td>1.0</td><td>4.0</td><td></td></tr><tr><td>ref</td><td><input disabled type=\"checkbox\"></input></td><td>1.0</td><td>-MAX</td><td>MAX</td><td></td></tr><tr><td>ampl</td><td><input disabled type=\"checkbox\" checked></input></td><td>3e-05</td><td>1e-05</td><td>0.1</td><td></td></tr><tr><td>nH</td><td><input disabled type=\"checkbox\"></input></td><td>5.0</td><td>0.0</td><td>1000000.0</td><td>10^22 atoms / cm^2</td></tr></tbody></table></details></div>"
      ],
      "text/plain": [
       "<RSPModelPHA model instance 'apply_rmf(apply_arf((11370.57 * (powlaw1d * tbabs))))'>"
      ]
     },
     "execution_count": 159,
     "metadata": {},
     "output_type": "execute_result"
    }
   ],
   "source": [
    "dataset._sherpa_model"
   ]
  },
  {
   "cell_type": "code",
   "execution_count": 81,
   "id": "cd38c15a-6fda-469b-af74-b09463ac5f3f",
   "metadata": {},
   "outputs": [
    {
     "data": {
      "text/plain": [
       "<AxesSubplot: xlabel='Energy [keV]', ylabel='$\\\\mathrm{keV^{-1}\\\\,s^{-1}}$'>"
      ]
     },
     "execution_count": 81,
     "metadata": {},
     "output_type": "execute_result"
    },
    {
     "data": {
      "image/png": "[encoded data removed]",
      "text/plain": [
       "<Figure size 640x480 with 1 Axes>"
      ]
     },
     "metadata": {},
     "output_type": "display_data"
    }
   ],
   "source": [
    "dataset.counts.plot(color=\"k\")\n",
    "dataset.background.plot(color=\"r\")\n",
    "dataset.npred_signal().plot(color=\"b\")\n",
    "(dataset.background+dataset.npred_signal()).plot(color=\"g\")"
   ]
  },
  {
   "cell_type": "code",
   "execution_count": 17,
   "id": "df9cd3f8-401c-4a6c-a3c1-e9c90454b0ec",
   "metadata": {},
   "outputs": [
    {
     "name": "stderr",
     "output_type": "stream",
     "text": [
      "tbvabs Version 2.3\n",
      "Cosmic absorption with grains and H2, modified from\n",
      "Wilms, Allen, & McCray, 2000, ApJ 542, 914-924\n",
      "Questions: Joern Wilms\n",
      "joern.wilms@sternwarte.uni-erlangen.de\n",
      "joern.wilms@fau.de\n",
      "\n",
      "http://pulsar.sternwarte.uni-erlangen.de/wilms/research/tbabs/\n",
      "\n",
      "PLEASE NOTICE:\n",
      "To get the model described by the above paper\n",
      "you will also have to set the abundances:\n",
      "   abund wilm\n",
      "\n",
      "Note that this routine ignores the current cross section setting\n",
      "as it always HAS to use the Verner cross sections as a baseline.\n"
     ]
    },
    {
     "data": {
      "image/png": "[encoded data removed]",
      "text/plain": [
       "<Figure size 640x480 with 1 Axes>"
      ]
     },
     "metadata": {},
     "output_type": "display_data"
    }
   ],
   "source": [
    "ampls = np.linspace(0.2, 10, 20)*1e-4\n",
    "stats=[]\n",
    "for ampl in ampls:\n",
    "    pl.ampl.val = ampl\n",
    "    stats.append(dataset.stat_sum())\n",
    "plt.scatter(ampls, stats)\n",
    "plt.yscale(\"log\")"
   ]
  },
  {
   "cell_type": "code",
   "execution_count": 18,
   "id": "696869dd-1b4c-4fda-8328-3acc8c0d089a",
   "metadata": {},
   "outputs": [
    {
     "data": {
      "text/html": [
       "<div><i>Table length=4</i>\n",
       "<table id=\"table139711221324384\" class=\"table-striped table-bordered table-condensed\">\n",
       "<thead><tr><th>type</th><th>name</th><th>value</th><th>unit</th><th>error</th><th>min</th><th>max</th><th>frozen</th><th>is_norm</th><th>link</th></tr></thead>\n",
       "<thead><tr><th>str8</th><th>str5</th><th>float64</th><th>str1</th><th>int64</th><th>float64</th><th>float64</th><th>bool</th><th>bool</th><th>str1</th></tr></thead>\n",
       "<tr><td>spectral</td><td>gamma</td><td>1.5000e+00</td><td></td><td>0.000e+00</td><td>1.000e+00</td><td>4.000e+00</td><td>True</td><td>False</td><td></td></tr>\n",
       "<tr><td>spectral</td><td>ref</td><td>1.0000e+00</td><td></td><td>0.000e+00</td><td>-3.403e+38</td><td>3.403e+38</td><td>True</td><td>False</td><td></td></tr>\n",
       "<tr><td>spectral</td><td>ampl</td><td>3.0000e-04</td><td></td><td>0.000e+00</td><td>1.000e-07</td><td>1.000e-01</td><td>False</td><td>True</td><td></td></tr>\n",
       "<tr><td>spectral</td><td>nH</td><td>5.0000e+00</td><td></td><td>0.000e+00</td><td>0.000e+00</td><td>1.000e+06</td><td>True</td><td>False</td><td></td></tr>\n",
       "</table></div>"
      ],
      "text/plain": [
       "<Table length=4>\n",
       "  type    name   value    unit   error      min        max    frozen is_norm link\n",
       "  str8    str5  float64   str1   int64    float64    float64   bool    bool  str1\n",
       "-------- ----- ---------- ---- --------- ---------- --------- ------ ------- ----\n",
       "spectral gamma 1.5000e+00      0.000e+00  1.000e+00 4.000e+00   True   False     \n",
       "spectral   ref 1.0000e+00      0.000e+00 -3.403e+38 3.403e+38   True   False     \n",
       "spectral  ampl 3.0000e-04      0.000e+00  1.000e-07 1.000e-01  False    True     \n",
       "spectral    nH 5.0000e+00      0.000e+00  0.000e+00 1.000e+06   True   False     "
      ]
     },
     "execution_count": 18,
     "metadata": {},
     "output_type": "execute_result"
    }
   ],
   "source": [
    "dataset.models.parameters.to_table()"
   ]
  },
  {
   "cell_type": "code",
   "execution_count": 19,
   "id": "d17296c7-3f94-4447-aa9f-4255801cc716",
   "metadata": {},
   "outputs": [],
   "source": [
    "from gammapy.modeling import Fit\n",
    "\n",
    "fit = Fit(store_trace=True, )\n",
    "minuit_opts = {\"tol\": 0.001,}\n",
    "fit.backend = \"minuit\"\n",
    "#fit.optimize_opts = minuit_opts\n",
    "result = fit.run([dataset])"
   ]
  },
  {
   "cell_type": "code",
   "execution_count": 20,
   "id": "77fa1c06-bc67-4bf2-9abf-59f14eee8014",
   "metadata": {},
   "outputs": [
    {
     "data": {
      "text/plain": [
       "OptimizeResult\n",
       "\n",
       "\tbackend    : minuit\n",
       "\tmethod     : migrad\n",
       "\tsuccess    : False\n",
       "\tmessage    : Optimization terminated successfully.\n",
       "\tnfev       : 107\n",
       "\ttotal stat : 10.04\n",
       "\n",
       "CovarianceResult\n",
       "\n",
       "\tbackend    : minuit\n",
       "\tmethod     : hesse\n",
       "\tsuccess    : True\n",
       "\tmessage    : Hesse terminated successfully."
      ]
     },
     "execution_count": 20,
     "metadata": {},
     "output_type": "execute_result"
    }
   ],
   "source": [
    "result"
   ]
  },
  {
   "cell_type": "code",
   "execution_count": 21,
   "id": "837a437d-9df6-4ed2-b025-e98bcf6cbe85",
   "metadata": {},
   "outputs": [
    {
     "data": {
      "text/html": [
       "<div><i>Table length=4</i>\n",
       "<table id=\"table139711221325440\" class=\"table-striped table-bordered table-condensed\">\n",
       "<thead><tr><th>type</th><th>name</th><th>value</th><th>unit</th><th>error</th><th>min</th><th>max</th><th>frozen</th><th>is_norm</th><th>link</th></tr></thead>\n",
       "<thead><tr><th>str8</th><th>str5</th><th>float64</th><th>str1</th><th>float64</th><th>float64</th><th>float64</th><th>bool</th><th>bool</th><th>str1</th></tr></thead>\n",
       "<tr><td>spectral</td><td>gamma</td><td>1.5000e+00</td><td></td><td>0.000e+00</td><td>1.000e+00</td><td>4.000e+00</td><td>True</td><td>False</td><td></td></tr>\n",
       "<tr><td>spectral</td><td>ref</td><td>1.0000e+00</td><td></td><td>0.000e+00</td><td>-3.403e+38</td><td>3.403e+38</td><td>True</td><td>False</td><td></td></tr>\n",
       "<tr><td>spectral</td><td>ampl</td><td>3.0000e-04</td><td></td><td>7.733e-03</td><td>1.000e-07</td><td>1.000e-01</td><td>False</td><td>True</td><td></td></tr>\n",
       "<tr><td>spectral</td><td>nH</td><td>5.0000e+00</td><td></td><td>0.000e+00</td><td>0.000e+00</td><td>1.000e+06</td><td>True</td><td>False</td><td></td></tr>\n",
       "</table></div>"
      ],
      "text/plain": [
       "<Table length=4>\n",
       "  type    name   value    unit   error      min        max    frozen is_norm link\n",
       "  str8    str5  float64   str1  float64   float64    float64   bool    bool  str1\n",
       "-------- ----- ---------- ---- --------- ---------- --------- ------ ------- ----\n",
       "spectral gamma 1.5000e+00      0.000e+00  1.000e+00 4.000e+00   True   False     \n",
       "spectral   ref 1.0000e+00      0.000e+00 -3.403e+38 3.403e+38   True   False     \n",
       "spectral  ampl 3.0000e-04      7.733e-03  1.000e-07 1.000e-01  False    True     \n",
       "spectral    nH 5.0000e+00      0.000e+00  0.000e+00 1.000e+06   True   False     "
      ]
     },
     "execution_count": 21,
     "metadata": {},
     "output_type": "execute_result"
    }
   ],
   "source": [
    "result.parameters.to_table()"
   ]
  },
  {
   "cell_type": "code",
   "execution_count": 22,
   "id": "cc65d9c5-f7ec-42f7-a667-638bb8b7e565",
   "metadata": {},
   "outputs": [
    {
     "data": {
      "image/png": "[encoded data removed]",
      "text/plain": [
       "<Figure size 640x480 with 1 Axes>"
      ]
     },
     "metadata": {},
     "output_type": "display_data"
    }
   ],
   "source": [
    "plt.plot(result.trace[\"total_stat\"])\n",
    "plt.yscale(\"log\")"
   ]
  },
  {
   "cell_type": "code",
   "execution_count": 23,
   "id": "fb4e93b8-21c1-4f2f-8d0c-8754a7626b3b",
   "metadata": {},
   "outputs": [
    {
     "data": {
      "image/png": "[encoded data removed]",
      "text/plain": [
       "<Figure size 640x480 with 1 Axes>"
      ]
     },
     "metadata": {},
     "output_type": "display_data"
    }
   ],
   "source": [
    "plt.plot(result.trace[\"(11370.57 * (powlaw1d * tbabs)).spectral.ampl\"])\n",
    "plt.yscale(\"log\")"
   ]
  },
  {
   "cell_type": "code",
   "execution_count": 134,
   "id": "b4bc4bb2-9db4-47a2-919e-b34ed6ececca",
   "metadata": {},
   "outputs": [
    {
     "data": {
      "text/plain": [
       "<AxesSubplot: xlabel='Energy [keV]', ylabel='$\\\\mathrm{keV^{-1}\\\\,s^{-1}}$'>"
      ]
     },
     "execution_count": 134,
     "metadata": {},
     "output_type": "execute_result"
    },
    {
     "data": {
      "image/png": "[encoded data removed]",
      "text/plain": [
       "<Figure size 640x480 with 1 Axes>"
      ]
     },
     "metadata": {},
     "output_type": "display_data"
    }
   ],
   "source": [
    "dataset.counts.plot(color=\"k\")\n",
    "dataset.background.plot(color=\"r\")\n",
    "dataset.npred_signal().plot(color=\"b\")\n",
    "(dataset.background+dataset.npred_signal()).plot(color=\"g\")"
   ]
  },
  {
   "cell_type": "raw",
   "id": "3b796e3e-0bac-4b3c-8c96-c18b7e8a3ab3",
   "metadata": {},
   "source": [
    "#Add ons:\n",
    "\n",
    "\n",
    "    @property\n",
    "    def _energy_axis_true(self):\n",
    "        \"\"\"Grouped true energy axis.\"\"\"\n",
    "        rmf = self._data.get_rmf()\n",
    "        energy_edges = rmf.emin.append(rmf.emax[-1])\n",
    "        # TODO: is the unit always keV and the interp always \"lin\"?\n",
    "        return MapAxis.from_energy_edges(energy_edges, unit=u.keV, name=\"energy_true\", interp='lin')\n",
    "\n",
    "\n",
    "    @property\n",
    "    def exposure(self):\n",
    "        raise NotImplementedError\n",
    "        #TODO: use something like self.data.get_arf(id=self.name) * self.data.exposure\n",
    "        \n",
    "                \n",
    "    @property\n",
    "    def edisp(self):\n",
    "        raise NotImplementedError\n",
    "        #TODO: use something like self._data.get_rmf(id=self.name)\n",
    "        \n",
    "    @property\n",
    "    def mask_fit(self):\n",
    "        raise NotImplementedError\n",
    "\n",
    "    @mask_fit.setter\n",
    "    def mask_fit(self, mask_fit):\n",
    "        # TODO: use ui.notice_id(self.name, lo, hi, **kwargs)\n",
    "        raise NotImplementedError\n",
    "\n",
    "    @property\n",
    "    def mask_safe(self):\n",
    "        raise NotImplementedError\n",
    "\n",
    "    @property\n",
    "    def models(self):\n",
    "        raise NotImplementedError\n",
    "\n",
    "    \n",
    "    @staticmethod\n",
    "    def _compute_residuals(data, model, method=\"diff\"):\n",
    "        return NotImplementedError"
   ]
  }
 ],
 "metadata": {
  "kernelspec": {
   "display_name": "Python 3 (ipykernel)",
   "language": "python",
   "name": "python3"
  },
  "language_info": {
   "codemirror_mode": {
    "name": "ipython",
    "version": 3
   },
   "file_extension": ".py",
   "mimetype": "text/x-python",
   "name": "python",
   "nbconvert_exporter": "python",
   "pygments_lexer": "ipython3",
   "version": "3.9.13"
  }
 },
 "nbformat": 4,
 "nbformat_minor": 5
}
