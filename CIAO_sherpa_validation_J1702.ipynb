{
 "cells": [
  {
   "cell_type": "raw",
   "id": "ba8c4610-da69-4622-b5f9-b9a14fa4694b",
   "metadata": {},
   "source": [
    "https://cxc.cfa.harvard.edu/sherpa/threads/fitting.html\n",
    "https://cxc.cfa.harvard.edu/sherpa/threads/pha_intro/\n",
    "https://sherpa.readthedocs.io/en/4.14.0/NotebookSupport.html"
   ]
  },
  {
   "cell_type": "code",
   "execution_count": 1,
   "id": "64a7b46d-091c-4b8a-b3bf-7c93e219a38a",
   "metadata": {},
   "outputs": [
    {
     "data": {
      "text/plain": [
       "'4.14.0'"
      ]
     },
     "execution_count": 1,
     "metadata": {},
     "output_type": "execute_result"
    }
   ],
   "source": [
    "import sherpa\n",
    "sherpa.__version__"
   ]
  },
  {
   "cell_type": "code",
   "execution_count": 2,
   "id": "0b9802aa-c61e-4d4c-9071-10c708fe938c",
   "metadata": {},
   "outputs": [],
   "source": [
    "%matplotlib inline\n",
    "import matplotlib.pyplot as plt"
   ]
  },
  {
   "cell_type": "code",
   "execution_count": 3,
   "id": "2543edcf-0dc0-408b-9565-76fe7e9014b2",
   "metadata": {},
   "outputs": [],
   "source": [
    "import numpy as np\n",
    "import astropy.units as u\n",
    "from astropy.io import fits\n",
    "import itertools"
   ]
  },
  {
   "cell_type": "code",
   "execution_count": 4,
   "id": "6cb097b0-7e2d-40bb-95c5-b5fd1d6e0c24",
   "metadata": {},
   "outputs": [],
   "source": [
    "import sherpa.astro.ui as ui"
   ]
  },
  {
   "cell_type": "code",
   "execution_count": 5,
   "id": "493410f8-04ca-4ae4-8623-9a81624f4a39",
   "metadata": {},
   "outputs": [
    {
     "name": "stdout",
     "output_type": "stream",
     "text": [
      "read ARF file /home/lucagiunti/XMM_DATASETS_J1702/J1702A/HESSJ1702A-0.06d-exclreg-XYPN/HESSJ1702A-0.06d-exclreg-XYPN.arf\n",
      "read RMF file /home/lucagiunti/XMM_DATASETS_J1702/J1702A/0884050101PN.rmf\n",
      "read background file /home/lucagiunti/XMM_DATASETS_J1702/J1702A/HESSJ1702A-BKG-exclreg-XYPN/HESSJ1702A-BKG-exclreg-XY-srcspecPN_grp.pi\n",
      "read ARF file /home/lucagiunti/XMM_DATASETS_J1702/J1702A/HESSJ1702A-0.06d-exclreg-XYM1/HESSJ1702A-0.06d-exclreg-XYM1.arf\n",
      "read RMF file /home/lucagiunti/XMM_DATASETS_J1702/J1702A/0884050101M1.rmf\n",
      "read background file /home/lucagiunti/XMM_DATASETS_J1702/J1702A/HESSJ1702A-BKG-exclreg-XYM1/HESSJ1702A-BKG-exclreg-XY-srcspecM1_grp.pi\n",
      "read ARF file /home/lucagiunti/XMM_DATASETS_J1702/J1702A/HESSJ1702A-0.06d-exclreg-XYM2/HESSJ1702A-0.06d-exclreg-XYM2.arf\n",
      "read RMF file /home/lucagiunti/XMM_DATASETS_J1702/J1702A/0884050101M2.rmf\n"
     ]
    },
    {
     "name": "stderr",
     "output_type": "stream",
     "text": [
      "/home/lucagiunti/miniconda3/envs/ciao-4.14/lib/python3.8/site-packages/sherpa/astro/data.py:952: UserWarning: The minimum ENERG_LO in the ARF '/home/lucagiunti/XMM_DATASETS_J1702/J1702A/HESSJ1702A-0.06d-exclreg-XYM1/HESSJ1702A-0.06d-exclreg-XYM1.arf' was 0 and has been replaced by 1e-10\n",
      "  warnings.warn(wmsg)\n",
      "/home/lucagiunti/miniconda3/envs/ciao-4.14/lib/python3.8/site-packages/sherpa/astro/data.py:952: UserWarning: The minimum ENERG_LO in the RMF '/home/lucagiunti/XMM_DATASETS_J1702/J1702A/0884050101M1.rmf' was 0 and has been replaced by 1e-10\n",
      "  warnings.warn(wmsg)\n",
      "/home/lucagiunti/miniconda3/envs/ciao-4.14/lib/python3.8/site-packages/sherpa/astro/data.py:952: UserWarning: The minimum ENERG_LO in the ARF '/home/lucagiunti/XMM_DATASETS_J1702/J1702A/HESSJ1702A-0.06d-exclreg-XYM2/HESSJ1702A-0.06d-exclreg-XYM2.arf' was 0 and has been replaced by 1e-10\n",
      "  warnings.warn(wmsg)\n",
      "/home/lucagiunti/miniconda3/envs/ciao-4.14/lib/python3.8/site-packages/sherpa/astro/data.py:952: UserWarning: The minimum ENERG_LO in the RMF '/home/lucagiunti/XMM_DATASETS_J1702/J1702A/0884050101M2.rmf' was 0 and has been replaced by 1e-10\n",
      "  warnings.warn(wmsg)\n"
     ]
    },
    {
     "name": "stdout",
     "output_type": "stream",
     "text": [
      "read background file /home/lucagiunti/XMM_DATASETS_J1702/J1702A/HESSJ1702A-BKG-exclreg-XYM2/HESSJ1702A-BKG-exclreg-XY-srcspecM2_grp.pi\n"
     ]
    }
   ],
   "source": [
    "ui.load_pha(1, '/home/lucagiunti/XMM_DATASETS_J1702/J1702A/HESSJ1702A-0.06d-exclreg-XYPN/HESSJ1702A-0.06d-exclreg-XY-srcspecPN_grp.pi')\n",
    "ui.load_pha(2, '/home/lucagiunti/XMM_DATASETS_J1702/J1702A/HESSJ1702A-0.06d-exclreg-XYM1/HESSJ1702A-0.06d-exclreg-XY-srcspecM1_grp.pi')\n",
    "ui.load_pha(3, '/home/lucagiunti/XMM_DATASETS_J1702/J1702A/HESSJ1702A-0.06d-exclreg-XYM2/HESSJ1702A-0.06d-exclreg-XY-srcspecM2_grp.pi')"
   ]
  },
  {
   "cell_type": "raw",
   "id": "46a97a9a-5bff-46d4-a00b-7041c363d086",
   "metadata": {},
   "source": [
    "ui.plot_data(1)\n",
    "ui.plot_data(2, overplot=True)\n",
    "ui.plot_data(3, overplot=True)"
   ]
  },
  {
   "cell_type": "code",
   "execution_count": 6,
   "id": "71078122-c903-4e62-b262-a125f3385ad1",
   "metadata": {},
   "outputs": [],
   "source": [
    "ui.notice(1, 7.4)"
   ]
  },
  {
   "cell_type": "code",
   "execution_count": 7,
   "id": "63102ecb-2cfc-4bae-94ea-000562f96465",
   "metadata": {},
   "outputs": [
    {
     "name": "stdout",
     "output_type": "stream",
     "text": [
      "################\n",
      "0.5 1.5\n",
      "Datasets              = 1, 2, 3\n",
      "Method                = levmar\n",
      "Statistic             = wstat\n",
      "Initial fit statistic = 1088.3\n",
      "Final fit statistic   = 788.056 at function evaluation 7\n",
      "Data points           = 694\n",
      "Degrees of freedom    = 693\n",
      "Probability [Q-value] = 0.00689325\n",
      "Reduced statistic     = 1.13717\n",
      "Change in statistic   = 300.239\n",
      "   pl.ampl        2.30183e-05  +/- 3.15932e-06 \n"
     ]
    },
    {
     "name": "stderr",
     "output_type": "stream",
     "text": [
      "tbvabs Version 2.3\n",
      "Cosmic absorption with grains and H2, modified from\n",
      "Wilms, Allen, & McCray, 2000, ApJ 542, 914-924\n",
      "Questions: Joern Wilms\n",
      "joern.wilms@sternwarte.uni-erlangen.de\n",
      "joern.wilms@fau.de\n",
      "\n",
      "http://pulsar.sternwarte.uni-erlangen.de/wilms/research/tbabs/\n",
      "\n",
      "PLEASE NOTICE:\n",
      "To get the model described by the above paper\n",
      "you will also have to set the abundances:\n",
      "   abund wilm\n",
      "\n",
      "Note that this routine ignores the current cross section setting\n",
      "as it always HAS to use the Verner cross sections as a baseline.\n"
     ]
    },
    {
     "name": "stdout",
     "output_type": "stream",
     "text": [
      "\n",
      "################\n",
      "0.5 2\n",
      "Datasets              = 1, 2, 3\n",
      "Method                = levmar\n",
      "Statistic             = wstat\n",
      "Initial fit statistic = 908.198\n",
      "Final fit statistic   = 791.979 at function evaluation 7\n",
      "Data points           = 694\n",
      "Degrees of freedom    = 693\n",
      "Probability [Q-value] = 0.00524283\n",
      "Reduced statistic     = 1.14283\n",
      "Change in statistic   = 116.219\n",
      "   pl.ampl        3.07042e-05  +/- 4.38338e-06 \n",
      "\n",
      "################\n",
      "0.5 2.3\n",
      "Datasets              = 1, 2, 3\n",
      "Method                = levmar\n",
      "Statistic             = wstat\n",
      "Initial fit statistic = 867.89\n",
      "Final fit statistic   = 795.773 at function evaluation 7\n",
      "Data points           = 694\n",
      "Degrees of freedom    = 693\n",
      "Probability [Q-value] = 0.00399487\n",
      "Reduced statistic     = 1.1483\n",
      "Change in statistic   = 72.1171\n",
      "   pl.ampl        3.44801e-05  +/- 5.12782e-06 \n",
      "\n",
      "################\n",
      "1 1.5\n",
      "Datasets              = 1, 2, 3\n",
      "Method                = levmar\n",
      "Statistic             = wstat\n",
      "Initial fit statistic = 930.851\n",
      "Final fit statistic   = 788.708 at function evaluation 7\n",
      "Data points           = 694\n",
      "Degrees of freedom    = 693\n",
      "Probability [Q-value] = 0.00659007\n",
      "Reduced statistic     = 1.13811\n",
      "Change in statistic   = 142.142\n",
      "   pl.ampl        2.94688e-05  +/- 4.06807e-06 \n",
      "\n",
      "################\n",
      "1 2\n",
      "Datasets              = 1, 2, 3\n",
      "Method                = levmar\n",
      "Statistic             = wstat\n",
      "Initial fit statistic = 814.705\n",
      "Final fit statistic   = 787.464 at function evaluation 7\n",
      "Data points           = 694\n",
      "Degrees of freedom    = 693\n",
      "Probability [Q-value] = 0.00717901\n",
      "Reduced statistic     = 1.13631\n",
      "Change in statistic   = 27.2412\n",
      "   pl.ampl        4.56813e-05  +/- 6.23527e-06 \n",
      "\n",
      "################\n",
      "1 2.3\n",
      "Datasets              = 1, 2, 3\n",
      "Method                = levmar\n",
      "Statistic             = wstat\n",
      "Initial fit statistic = 796.982\n",
      "Final fit statistic   = 788.672 at function evaluation 7\n",
      "Data points           = 694\n",
      "Degrees of freedom    = 693\n",
      "Probability [Q-value] = 0.00660675\n",
      "Reduced statistic     = 1.13805\n",
      "Change in statistic   = 8.31024\n",
      "   pl.ampl        5.60229e-05  +/- 7.73736e-06 \n",
      "\n",
      "################\n",
      "5 1.5\n",
      "Datasets              = 1, 2, 3\n",
      "Method                = levmar\n",
      "Statistic             = wstat\n",
      "Initial fit statistic = 837.11\n",
      "Final fit statistic   = 815.627 at function evaluation 7\n",
      "Data points           = 694\n",
      "Degrees of freedom    = 693\n",
      "Probability [Q-value] = 0.000858992\n",
      "Reduced statistic     = 1.17695\n",
      "Change in statistic   = 21.4836\n",
      "   pl.ampl        4.06584e-05  +/- 8.08335e-06 \n",
      "\n",
      "################\n",
      "5 2\n",
      "Datasets              = 1, 2, 3\n",
      "Method                = levmar\n",
      "Statistic             = wstat\n",
      "Initial fit statistic = 811.951\n",
      "Final fit statistic   = 811.711 at function evaluation 5\n",
      "Data points           = 694\n",
      "Degrees of freedom    = 693\n",
      "Probability [Q-value] = 0.00118081\n",
      "Reduced statistic     = 1.1713\n",
      "Change in statistic   = 0.240678\n",
      "   pl.ampl        8.63895e-05  +/- 1.59701e-05 \n",
      "\n",
      "################\n",
      "5 2.3\n",
      "Datasets              = 1, 2, 3\n",
      "Method                = levmar\n",
      "Statistic             = wstat\n",
      "Initial fit statistic = 814.452\n",
      "Final fit statistic   = 809.269 at function evaluation 7\n",
      "Data points           = 694\n",
      "Degrees of freedom    = 693\n",
      "Probability [Q-value] = 0.00143462\n",
      "Reduced statistic     = 1.16778\n",
      "Change in statistic   = 5.18347\n",
      "   pl.ampl        0.000132426  +/- 2.35089e-05 \n",
      "\n"
     ]
    },
    {
     "data": {
      "image/png": "[encoded data removed]",
      "text/plain": [
       "<Figure size 432x288 with 1 Axes>"
      ]
     },
     "metadata": {
      "needs_background": "light"
     },
     "output_type": "display_data"
    }
   ],
   "source": [
    "profiles = []\n",
    "nhs = [0.5, 1, 5]\n",
    "indexs = [1.5, 2, 2.3]\n",
    "\n",
    "for nh, index in itertools.product(nhs, indexs):\n",
    "    print(\"################\")\n",
    "    print(nh, index)\n",
    "    # Set model\n",
    "    ui.set_source(1, ui.xstbabs.tbabs * ui.powlaw1d.pl)\n",
    "    ui.set_source(2, tbabs * pl)\n",
    "    ui.set_source(3, tbabs * pl)\n",
    "    tbabs.nh = nh\n",
    "    tbabs.nh.freeze()\n",
    "    pl.gamma = index\n",
    "    pl.gamma.freeze()\n",
    "    ui.guess(pl)\n",
    "    #ui.show_model()\n",
    "\n",
    "    # Fit\n",
    "    ui.set_stat(\"wstat\")\n",
    "    ui.fit(1, 2, 3)\n",
    "    results = ui.get_fit_results()\n",
    "    WSTAT = results.statval\n",
    "\n",
    "    # Likelihood profile\n",
    "    ui.int_unc(pl.ampl)\n",
    "    iunc = ui.get_int_unc(pl.ampl)\n",
    "\n",
    "    profiles.append(\n",
    "           {\n",
    "                \"nh\": nh,\n",
    "                \"index\": index,\n",
    "                \"amplitude\": (pl.ampl.val, np.sqrt(results.covar.squeeze())),\n",
    "                \"profile\": (iunc.x, iunc.y - WSTAT)\n",
    "           }\n",
    "    )\n",
    "    print(\"\")"
   ]
  },
  {
   "cell_type": "code",
   "execution_count": 10,
   "id": "b335b455-5fe1-4ab9-b877-2b65a7cb459e",
   "metadata": {},
   "outputs": [],
   "source": [
    "np.save(\"profiles.npy\", profiles)"
   ]
  },
  {
   "cell_type": "code",
   "execution_count": null,
   "id": "cd5e78ff-7445-4ec6-b2f0-51020a4e54df",
   "metadata": {},
   "outputs": [],
   "source": []
  }
 ],
 "metadata": {
  "kernelspec": {
   "display_name": "Python 3 (ipykernel)",
   "language": "python",
   "name": "python3"
  },
  "language_info": {
   "codemirror_mode": {
    "name": "ipython",
    "version": 3
   },
   "file_extension": ".py",
   "mimetype": "text/x-python",
   "name": "python",
   "nbconvert_exporter": "python",
   "pygments_lexer": "ipython3",
   "version": "3.8.12"
  }
 },
 "nbformat": 4,
 "nbformat_minor": 5
}
