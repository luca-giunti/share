{
 "cells": [
  {
   "cell_type": "code",
   "execution_count": 1,
   "metadata": {},
   "outputs": [
    {
     "data": {
      "text/plain": [
       "'0.17.dev290+g0ebbfb333'"
      ]
     },
     "execution_count": 1,
     "metadata": {},
     "output_type": "execute_result"
    }
   ],
   "source": [
    "import gammapy\n",
    "gammapy.__version__"
   ]
  },
  {
   "cell_type": "code",
   "execution_count": 2,
   "metadata": {},
   "outputs": [],
   "source": [
    "from gammapy.modeling import Parameter"
   ]
  },
  {
   "cell_type": "code",
   "execution_count": 3,
   "metadata": {},
   "outputs": [],
   "source": [
    "sigma = Parameter(\"sigma\", \"9 deg\", max=10)"
   ]
  },
  {
   "cell_type": "code",
   "execution_count": 4,
   "metadata": {},
   "outputs": [
    {
     "name": "stderr",
     "output_type": "stream",
     "text": [
      "/home/luca/gammapy/gammapy/modeling/parameter.py:212: RuntimeWarning: Setting parameter 'sigma' value 11.0 near or outside bounds [nan, 10.0]\n",
      "  self._check_value_within_bounds()\n"
     ]
    }
   ],
   "source": [
    "sigma = Parameter(\"sigma\", \"11 deg\", max=10)"
   ]
  },
  {
   "cell_type": "code",
   "execution_count": 5,
   "metadata": {},
   "outputs": [],
   "source": [
    "# For some reason, if I re-assing again the exact same value (outside the allowed bounds) to the parameter,\n",
    "# this time no warning is raised. Why? It is not a big problem anyway, I guess, because at least 1 \n",
    "# warning would be sent to alarm the user during a fit\n",
    "sigma.value = 11"
   ]
  },
  {
   "cell_type": "code",
   "execution_count": 6,
   "metadata": {},
   "outputs": [
    {
     "name": "stderr",
     "output_type": "stream",
     "text": [
      "/home/luca/gammapy/gammapy/modeling/parameter.py:212: RuntimeWarning: Setting parameter 'sigma' value 199.0 near or outside bounds [nan, 10.0]\n",
      "  self._check_value_within_bounds()\n"
     ]
    }
   ],
   "source": [
    "# If I use a different value instead, it sends the warning...\n",
    "sigma.value = 199"
   ]
  },
  {
   "cell_type": "code",
   "execution_count": 7,
   "metadata": {},
   "outputs": [],
   "source": [
    "sigma = Parameter(\"sigma\", \"9.9 deg\", max=10)"
   ]
  },
  {
   "cell_type": "code",
   "execution_count": 8,
   "metadata": {},
   "outputs": [
    {
     "name": "stderr",
     "output_type": "stream",
     "text": [
      "/home/luca/gammapy/gammapy/modeling/parameter.py:212: RuntimeWarning: Setting parameter 'sigma' value 9.99 near or outside bounds [nan, 10.0]\n",
      "  self._check_value_within_bounds()\n"
     ]
    }
   ],
   "source": [
    "sigma = Parameter(\"sigma\", \"9.99 deg\", max=10)"
   ]
  },
  {
   "cell_type": "code",
   "execution_count": 9,
   "metadata": {},
   "outputs": [],
   "source": [
    "sigma = Parameter(\"sigma\", \"11 deg\", min=10)"
   ]
  },
  {
   "cell_type": "code",
   "execution_count": 10,
   "metadata": {},
   "outputs": [
    {
     "name": "stderr",
     "output_type": "stream",
     "text": [
      "/home/luca/gammapy/gammapy/modeling/parameter.py:212: RuntimeWarning: Setting parameter 'sigma' value 1.0 near or outside bounds [10.0, nan]\n",
      "  self._check_value_within_bounds()\n"
     ]
    }
   ],
   "source": [
    "sigma = Parameter(\"sigma\", \"1 deg\", min=10)"
   ]
  },
  {
   "cell_type": "code",
   "execution_count": 11,
   "metadata": {},
   "outputs": [],
   "source": [
    "sigma = Parameter(\"sigma\", \"50 deg\")"
   ]
  },
  {
   "cell_type": "code",
   "execution_count": 12,
   "metadata": {},
   "outputs": [
    {
     "name": "stderr",
     "output_type": "stream",
     "text": [
      "/home/luca/gammapy/gammapy/modeling/parameter.py:212: RuntimeWarning: Setting parameter 'edge' value 0.01 near or outside bounds [0.01, nan]\n",
      "  self._check_value_within_bounds()\n"
     ]
    }
   ],
   "source": [
    "from gammapy.modeling.models import Model"
   ]
  },
  {
   "cell_type": "code",
   "execution_count": 13,
   "metadata": {},
   "outputs": [],
   "source": [
    "m = Model.create(tag=\"PowerLawSpectralModel\")"
   ]
  },
  {
   "cell_type": "code",
   "execution_count": null,
   "metadata": {},
   "outputs": [],
   "source": []
  }
 ],
 "metadata": {
  "kernelspec": {
   "display_name": "Python 3",
   "language": "python",
   "name": "python3"
  },
  "language_info": {
   "codemirror_mode": {
    "name": "ipython",
    "version": 3
   },
   "file_extension": ".py",
   "mimetype": "text/x-python",
   "name": "python",
   "nbconvert_exporter": "python",
   "pygments_lexer": "ipython3",
   "version": "3.7.0"
  }
 },
 "nbformat": 4,
 "nbformat_minor": 4
}
