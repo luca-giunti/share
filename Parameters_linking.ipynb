{
 "cells": [
  {
   "cell_type": "code",
   "execution_count": 1,
   "id": "73085744-fcb3-46b9-b77f-587e69513969",
   "metadata": {},
   "outputs": [],
   "source": [
    "from gammapy.modeling.parameter import Parameter \n",
    "import astropy.units as u\n",
    "import numpy as np"
   ]
  },
  {
   "cell_type": "code",
   "execution_count": 2,
   "id": "967f6e75-45bc-49b4-94d5-d8a630c33d02",
   "metadata": {},
   "outputs": [
    {
     "name": "stdout",
     "output_type": "stream",
     "text": [
      "ConstantParameter(name='constant', value=3.0, factor=3.0, scale=1.0, unit=Unit(dimensionless), min=nan, max=nan, frozen=True, id=0x7f5dc9c71eb0)\n",
      "ConstantParameter(name='constant', value=3.0, factor=3.0, scale=1.0, unit=Unit(\"TeV\"), min=nan, max=nan, frozen=True, id=0x7f5e37264a30)\n"
     ]
    }
   ],
   "source": [
    "class ConstantParameter(Parameter):\n",
    "    def __init__(self, value, unit, name=None):\n",
    "        if not name:\n",
    "            raise NotImplementedError(\"TBD\")\n",
    "            \n",
    "        super().__init__(name, value, unit, frozen=True)\n",
    "print(ConstantParameter(3, \"\", \"constant\"))\n",
    "print(ConstantParameter(3, \"TeV\", \"constant\"))"
   ]
  },
  {
   "cell_type": "code",
   "execution_count": 3,
   "id": "bc1855f0-c7c9-4403-bc26-deb1492ee145",
   "metadata": {},
   "outputs": [],
   "source": [
    "def _arithmetics(self, operator, other):\n",
    "    \"\"\"Perform arithmetic on parameters\"\"\"\n",
    "    if isinstance(other, Parameter):\n",
    "        other = other\n",
    "    # TBD: rewrite this\n",
    "    elif isinstance(other, int) or isinstance(other, float):\n",
    "        other = ConstantParameter(other, \"\", name=\"TBD\")\n",
    "    elif isinstance(other, u.Quantity) and len(list([other]))==1:\n",
    "        other = ConstantParameter(other, name=\"TBD\")\n",
    "    else:\n",
    "        other = ValueError(\"TBD\")\n",
    "\n",
    "    return BinaryOperationParameter(\"TBD\", self, other, operator)\n",
    "\n",
    "def __add__(self, other):\n",
    "    return self._arithmetics(np.add, other)\n",
    "\n",
    "def __sub__(self, other):\n",
    "    return self._arithmetics(np.subtract, other)\n",
    "\n",
    "def __mul__(self, other):\n",
    "    return self._arithmetics(np.multiply, other)\n",
    "\n",
    "def __truediv__(self, other):\n",
    "    return self._arithmetics(np.true_divide, other)\n",
    "    \n",
    "Parameter._arithmetics = _arithmetics\n",
    "Parameter.__add__ = __add__\n",
    "Parameter.__sub__ = __sub__\n",
    "Parameter.__mul__ = __mul__\n",
    "Parameter.__truediv__ = __truediv__"
   ]
  },
  {
   "cell_type": "code",
   "execution_count": 4,
   "id": "94939df8-7758-4106-97d1-2feff0c37d8a",
   "metadata": {},
   "outputs": [
    {
     "data": {
      "text/plain": [
       "BinaryOperationParameter(name='comp', value=5.0, factor=5.0, scale=1.0, unit=Unit(\"TeV\"), min=nan, max=nan, frozen=False, id=0x7f5dc9c71760)"
      ]
     },
     "execution_count": 4,
     "metadata": {},
     "output_type": "execute_result"
    }
   ],
   "source": [
    "class BinaryOperationParameter(Parameter):\n",
    "    def __init__(self, name, par1, par2, operator):\n",
    "        self.par1 = par1\n",
    "        self.par2 = par2\n",
    "        self.check_units()\n",
    "        self._value1 = par1.value\n",
    "        self._value2 = par2.value\n",
    "        self.operator = operator\n",
    "        value = self.combine()\n",
    "        super().__init__(name, value, par1.unit)\n",
    "\n",
    "    def check_units(self):\n",
    "        pass\n",
    "    \n",
    "    def combine(self):\n",
    "        return self.operator(self._value1, self._value2)\n",
    "    \n",
    "    def update(self):\n",
    "        if self.par1.value != self._value1:\n",
    "            self._value1 = self.par1.value\n",
    "        if self.par2.value != self._value2:\n",
    "            self._value2 = self.par2.value\n",
    "        self.value = self.combine()\n",
    "        \n",
    "    @property\n",
    "    def value(self):\n",
    "        \"\"\"Factor (float).\"\"\"\n",
    "        self.update()\n",
    "        return self.combine()\n",
    "        \n",
    "    @value.setter\n",
    "    def value(self, val):\n",
    "        self.factor = float(val) / self._scale\n",
    "            \n",
    "p1 = Parameter(\"p1\", 3, \"TeV\")\n",
    "p2 = Parameter(\"p2\", 2, \"TeV\")\n",
    "BinaryOperationParameter(\"comp\", p1, p2, np.add)"
   ]
  },
  {
   "cell_type": "code",
   "execution_count": 7,
   "id": "1d440a19-0b2a-4409-bb71-155f89fb52b4",
   "metadata": {},
   "outputs": [
    {
     "name": "stdout",
     "output_type": "stream",
     "text": [
      "BinaryOperationParameter(name='TBD', value=5.0, factor=5.0, scale=1.0, unit=Unit(\"TeV\"), min=nan, max=nan, frozen=False, id=0x7f5dc9b5e6d0)\n",
      "BinaryOperationParameter(name='TBD', value=12.0, factor=12.0, scale=1.0, unit=Unit(\"TeV\"), min=nan, max=nan, frozen=False, id=0x7f5dc9b5e6d0)\n"
     ]
    }
   ],
   "source": [
    "p1 = Parameter(\"p1\", 3, \"TeV\")\n",
    "p2 = Parameter(\"p2\", 2, \"TeV\")\n",
    "p_composite = p1 + p2\n",
    "print(p_composite)\n",
    "p1.value = 10\n",
    "print(p_composite)"
   ]
  },
  {
   "cell_type": "code",
   "execution_count": 8,
   "id": "12ab2baf-1375-40b0-88d7-a0803599b4ef",
   "metadata": {},
   "outputs": [
    {
     "name": "stdout",
     "output_type": "stream",
     "text": [
      "BinaryOperationParameter(name='TBD', value=13.0, factor=13.0, scale=1.0, unit=Unit(\"TeV\"), min=nan, max=nan, frozen=False, id=0x7f5dc9b5e610)\n",
      "BinaryOperationParameter(name='TBD', value=13.0, factor=13.0, scale=1.0, unit=Unit(\"TeV\"), min=nan, max=nan, frozen=False, id=0x7f5dc9b5e610)\n"
     ]
    }
   ],
   "source": [
    "p_composite = p1 + 3\n",
    "print(p_composite)\n",
    "p1.value = 10\n",
    "print(p_composite)"
   ]
  },
  {
   "cell_type": "code",
   "execution_count": 10,
   "id": "8cca1191-231d-4cc1-bb50-81d9c589fecc",
   "metadata": {},
   "outputs": [
    {
     "name": "stdout",
     "output_type": "stream",
     "text": [
      "BinaryOperationParameter(name='TBD', value=30.0, factor=30.0, scale=1.0, unit=Unit(\"TeV\"), min=nan, max=nan, frozen=False, id=0x7f5dc9b5e370)\n",
      "BinaryOperationParameter(name='TBD', value=6.0, factor=6.0, scale=1.0, unit=Unit(\"TeV\"), min=nan, max=nan, frozen=False, id=0x7f5dc9b5e370)\n"
     ]
    }
   ],
   "source": [
    "p_composite = p1 * 3\n",
    "print(p_composite)\n",
    "p1.value = 2\n",
    "print(p_composite)"
   ]
  },
  {
   "cell_type": "code",
   "execution_count": null,
   "id": "08fef18a-1bbf-46fb-88b0-83c54c9f7f32",
   "metadata": {},
   "outputs": [],
   "source": []
  }
 ],
 "metadata": {
  "kernelspec": {
   "display_name": "Python 3 (ipykernel)",
   "language": "python",
   "name": "python3"
  },
  "language_info": {
   "codemirror_mode": {
    "name": "ipython",
    "version": 3
   },
   "file_extension": ".py",
   "mimetype": "text/x-python",
   "name": "python",
   "nbconvert_exporter": "python",
   "pygments_lexer": "ipython3",
   "version": "3.9.13"
  }
 },
 "nbformat": 4,
 "nbformat_minor": 5
}
