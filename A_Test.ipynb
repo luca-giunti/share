{
 "cells": [
  {
   "cell_type": "code",
   "execution_count": 1,
   "metadata": {},
   "outputs": [],
   "source": [
    "import yaml\n",
    "from pathlib import Path\n",
    "from gammapy.analysis import Analysis, AnalysisConfig\n",
    "from gammapy.data import DataStore\n",
    "from gammapy.cube import SafeMaskMaker"
   ]
  },
  {
   "cell_type": "code",
   "execution_count": 2,
   "metadata": {},
   "outputs": [
    {
     "name": "stderr",
     "output_type": "stream",
     "text": [
      "Setting logging config: {'level': 'INFO', 'filename': None, 'filemode': None, 'format': None, 'datefmt': None}\n",
      "Fetching observations.\n",
      "Number of selected observations: 4\n",
      "Creating geometry.\n",
      "Creating datasets.\n",
      "Processing observation 23592\n",
      "Processing observation 23523\n",
      "Processing observation 23526\n",
      "Processing observation 23559\n",
      "/home/luca/anaconda3/envs/gammapy-dev/lib/python3.7/site-packages/astropy/units/quantity.py:466: RuntimeWarning: invalid value encountered in true_divide\n",
      "  result = super().__array_ufunc__(function, method, *arrays, **kwargs)\n"
     ]
    }
   ],
   "source": [
    "str_ = \"\"\"\n",
    "    observations:\n",
    "      datastore: $GAMMAPY_DATA/hess-dl3-dr1\n",
    "      obs_cone:\n",
    "        frame: icrs\n",
    "        lon: 83.63 deg\n",
    "        lat: 22.01 deg\n",
    "        radius: 5 deg\n",
    "\n",
    "    datasets:\n",
    "      type: 3d\n",
    "      stack: true\n",
    "      geom:\n",
    "        wcs:\n",
    "          skydir:\n",
    "            frame: icrs\n",
    "            lon: 83.63 deg\n",
    "            lat: 22.01 deg\n",
    "          binsize: 0.02 deg\n",
    "          fov:\n",
    "            width: 3 deg\n",
    "            height: 3 deg\n",
    "          binsize_irf: 0.2 deg\n",
    "          margin_irf: 0.5 deg\n",
    "        selection:\n",
    "          offset_max: 2.5 deg\n",
    "        axes:\n",
    "          energy:\n",
    "            min: 0.1 TeV\n",
    "            max: 100 TeV\n",
    "            nbins: 24\n",
    "          energy_true:\n",
    "            min: 0.1 TeV\n",
    "            max: 100 TeV\n",
    "            nbins: 72\n",
    "      map_selection: ['counts', 'exposure', 'background', 'psf', 'edisp']\n",
    "\"\"\"\n",
    "config = AnalysisConfig.from_yaml(str_)\n",
    "analysis = Analysis(config)\n",
    "analysis.get_observations()\n",
    "analysis.get_datasets()\n",
    "\n",
    "\n",
    "maker_safe_mask = SafeMaskMaker(methods=[\"edisp-bias\", \"bkg-peak\"])\n",
    "stacked = maker_safe_mask.run(analysis.datasets[0])"
   ]
  },
  {
   "cell_type": "code",
   "execution_count": 3,
   "metadata": {},
   "outputs": [
    {
     "name": "stdout",
     "output_type": "stream",
     "text": [
      "5.986328440957754\n",
      "232881.39807494672\n"
     ]
    }
   ],
   "source": [
    "print(stacked.background_model.map.slice_by_idx({\"energy\":-2}).data.sum())\n",
    "print(stacked.background_model.map.slice_by_idx({\"energy\":-1}).data.sum())"
   ]
  },
  {
   "cell_type": "code",
   "execution_count": null,
   "metadata": {},
   "outputs": [],
   "source": []
  }
 ],
 "metadata": {
  "kernelspec": {
   "display_name": "Python 3",
   "language": "python",
   "name": "python3"
  },
  "language_info": {
   "codemirror_mode": {
    "name": "ipython",
    "version": 3
   },
   "file_extension": ".py",
   "mimetype": "text/x-python",
   "name": "python",
   "nbconvert_exporter": "python",
   "pygments_lexer": "ipython3",
   "version": "3.7.0"
  }
 },
 "nbformat": 4,
 "nbformat_minor": 4
}
